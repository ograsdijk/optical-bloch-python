{
 "cells": [
  {
   "cell_type": "code",
   "execution_count": 1,
   "metadata": {},
   "outputs": [],
   "source": [
    "import copy\n",
    "from typing import Sequence\n",
    "\n",
    "import numpy as np\n",
    "import sympy as smp\n",
    "import matplotlib.pyplot as plt\n",
    "\n",
    "from optical_bloch.utils.general import flatten\n",
    "from optical_bloch.utils.setup import hamiltonian_setup\n",
    "from optical_bloch import (\n",
    "    Hamiltonian,\n",
    "    Dissipator,\n",
    "    BlochEquations,\n",
    "    generate_code,\n",
    "    generate_lindblad_function_julia,\n",
    ")\n",
    "\n",
    "plt.rcParams.update({\"font.size\": 14})"
   ]
  },
  {
   "cell_type": "code",
   "execution_count": 2,
   "metadata": {},
   "outputs": [
    {
     "data": {
      "text/latex": [
       "$\\displaystyle \\left[\\begin{matrix}- δ_{0} & 0 & 0 & 0 & - \\frac{Ω_{0}}{2}\\\\0 & - δ_{1} & 0 & 0 & - \\frac{Ω_{1}}{2}\\\\0 & 0 & - δ_{2} & 0 & - \\frac{Ω_{2}}{2}\\\\0 & 0 & 0 & - δ_{3} & - \\frac{Ω_{3}}{2}\\\\- \\frac{\\overline{Ω_{0}}}{2} & - \\frac{\\overline{Ω_{1}}}{2} & - \\frac{\\overline{Ω_{2}}}{2} & - \\frac{\\overline{Ω_{3}}}{2} & 0\\end{matrix}\\right]$"
      ],
      "text/plain": [
       "Matrix([\n",
       "[             -δ0,                0,                0,                0, -Ω0/2],\n",
       "[               0,              -δ1,                0,                0, -Ω1/2],\n",
       "[               0,                0,              -δ2,                0, -Ω2/2],\n",
       "[               0,                0,                0,              -δ3, -Ω3/2],\n",
       "[-conjugate(Ω0)/2, -conjugate(Ω1)/2, -conjugate(Ω2)/2, -conjugate(Ω3)/2,     0]])"
      ]
     },
     "execution_count": 2,
     "metadata": {},
     "output_type": "execute_result"
    }
   ],
   "source": [
    "ham = hamiltonian_setup(5, [(0, 4), (1, 4), (2, 4), (3, 4)])\n",
    "ham.transformed"
   ]
  },
  {
   "cell_type": "markdown",
   "metadata": {},
   "source": [
    "## Test"
   ]
  },
  {
   "cell_type": "code",
   "execution_count": 3,
   "metadata": {},
   "outputs": [],
   "source": [
    "energies = smp.symbols(\"E0:4\", real=True)\n",
    "\n",
    "omegas = smp.symbols(\"ω0:2\", real=True)\n",
    "Omegas = smp.symbols(\"Ω0:2\", complex=True)\n",
    "deltas = smp.symbols(\"δ0:2\", real=True)\n",
    "Gammas = smp.symbols(\"Γ0:2\", real=True)"
   ]
  },
  {
   "cell_type": "code",
   "execution_count": 4,
   "metadata": {},
   "outputs": [
    {
     "data": {
      "text/latex": [
       "$\\displaystyle \\left[\\begin{matrix}E_{0} & 0 & - \\frac{Ω_{0} e^{1.0 i t ω_{0}}}{2} & - \\frac{Ω_{0} e^{1.0 i t ω_{0}}}{2}\\\\0 & E_{1} & - \\frac{Ω_{1} e^{1.0 i t ω_{1}}}{2} & - \\frac{Ω_{1} e^{1.0 i t ω_{1}}}{2}\\\\- \\frac{e^{- 1.0 i t ω_{0}} \\overline{Ω_{0}}}{2} & - \\frac{e^{- 1.0 i t ω_{1}} \\overline{Ω_{1}}}{2} & E_{2} & 0\\\\- \\frac{e^{- 1.0 i t ω_{0}} \\overline{Ω_{0}}}{2} & - \\frac{e^{- 1.0 i t ω_{1}} \\overline{Ω_{1}}}{2} & 0 & E_{3}\\end{matrix}\\right]$"
      ],
      "text/plain": [
       "Matrix([\n",
       "[                               E0,                                 0, -Ω0*exp(1.0*I*t*ω0)/2, -Ω0*exp(1.0*I*t*ω0)/2],\n",
       "[                                0,                                E1, -Ω1*exp(1.0*I*t*ω1)/2, -Ω1*exp(1.0*I*t*ω1)/2],\n",
       "[-exp(-1.0*I*t*ω0)*conjugate(Ω0)/2, -exp(-1.0*I*t*ω1)*conjugate(Ω1)/2,                    E2,                     0],\n",
       "[-exp(-1.0*I*t*ω0)*conjugate(Ω0)/2, -exp(-1.0*I*t*ω1)*conjugate(Ω1)/2,                     0,                    E3]])"
      ]
     },
     "metadata": {},
     "output_type": "display_data"
    },
    {
     "data": {
      "text/latex": [
       "$\\displaystyle \\left[\\begin{matrix}E_{0} + ω_{0} & 0 & - \\frac{Ω_{0}}{2} & - \\frac{Ω_{0}}{2}\\\\0 & E_{1} + ω_{1} & - \\frac{Ω_{1}}{2} & - \\frac{Ω_{1}}{2}\\\\- \\frac{\\overline{Ω_{0}}}{2} & - \\frac{\\overline{Ω_{1}}}{2} & E_{2} & 0\\\\- \\frac{\\overline{Ω_{0}}}{2} & - \\frac{\\overline{Ω_{1}}}{2} & 0 & E_{3}\\end{matrix}\\right]$"
      ],
      "text/plain": [
       "Matrix([\n",
       "[         E0 + ω0,                0, -Ω0/2, -Ω0/2],\n",
       "[               0,          E1 + ω1, -Ω1/2, -Ω1/2],\n",
       "[-conjugate(Ω0)/2, -conjugate(Ω1)/2,    E2,     0],\n",
       "[-conjugate(Ω0)/2, -conjugate(Ω1)/2,     0,    E3]])"
      ]
     },
     "metadata": {},
     "output_type": "display_data"
    },
    {
     "data": {
      "text/latex": [
       "$\\displaystyle \\left[\\begin{matrix}E_{2} - δ_{0} & 0 & - \\frac{Ω_{0}}{2} & - \\frac{Ω_{0}}{2}\\\\0 & E_{2} - δ_{1} & - \\frac{Ω_{1}}{2} & - \\frac{Ω_{1}}{2}\\\\- \\frac{\\overline{Ω_{0}}}{2} & - \\frac{\\overline{Ω_{1}}}{2} & E_{2} & 0\\\\- \\frac{\\overline{Ω_{0}}}{2} & - \\frac{\\overline{Ω_{1}}}{2} & 0 & E_{3}\\end{matrix}\\right]$"
      ],
      "text/plain": [
       "Matrix([\n",
       "[         E2 - δ0,                0, -Ω0/2, -Ω0/2],\n",
       "[               0,          E2 - δ1, -Ω1/2, -Ω1/2],\n",
       "[-conjugate(Ω0)/2, -conjugate(Ω1)/2,    E2,     0],\n",
       "[-conjugate(Ω0)/2, -conjugate(Ω1)/2,     0,    E3]])"
      ]
     },
     "metadata": {},
     "output_type": "display_data"
    },
    {
     "data": {
      "text/latex": [
       "$\\displaystyle \\left[\\begin{matrix}- δ_{0} & 0 & - \\frac{Ω_{0}}{2} & - \\frac{Ω_{0}}{2}\\\\0 & - δ_{1} & - \\frac{Ω_{1}}{2} & - \\frac{Ω_{1}}{2}\\\\- \\frac{\\overline{Ω_{0}}}{2} & - \\frac{\\overline{Ω_{1}}}{2} & 0 & 0\\\\- \\frac{\\overline{Ω_{0}}}{2} & - \\frac{\\overline{Ω_{1}}}{2} & 0 & - E_{2} + E_{3}\\end{matrix}\\right]$"
      ],
      "text/plain": [
       "Matrix([\n",
       "[             -δ0,                0, -Ω0/2,    -Ω0/2],\n",
       "[               0,              -δ1, -Ω1/2,    -Ω1/2],\n",
       "[-conjugate(Ω0)/2, -conjugate(Ω1)/2,     0,        0],\n",
       "[-conjugate(Ω0)/2, -conjugate(Ω1)/2,     0, -E2 + E3]])"
      ]
     },
     "execution_count": 4,
     "metadata": {},
     "output_type": "execute_result"
    }
   ],
   "source": [
    "ham = Hamiltonian(4)\n",
    "ham.add_energies(energies)\n",
    "ham.add_coupling(0, 2, Omegas[0], omegas[0])\n",
    "ham.add_coupling(0, 3, Omegas[0], omegas[0])\n",
    "ham.add_coupling(1, 2, Omegas[1], omegas[1])\n",
    "ham.add_coupling(1, 3, Omegas[1], omegas[1])\n",
    "\n",
    "display(ham.hamiltonian)\n",
    "\n",
    "ham.eqn_transform()\n",
    "\n",
    "display(ham.transformed)\n",
    "\n",
    "ham.define_state_detuning(0, 2, deltas[0])\n",
    "ham.define_state_detuning(1, 2, deltas[1])\n",
    "\n",
    "display(ham.transformed)\n",
    "\n",
    "ham.remove_common_energy()\n",
    "\n",
    "transformed = ham.transformed\n",
    "\n",
    "transformed"
   ]
  },
  {
   "cell_type": "markdown",
   "metadata": {},
   "source": [
    "# Toy Λ system"
   ]
  },
  {
   "cell_type": "code",
   "execution_count": 5,
   "metadata": {},
   "outputs": [],
   "source": [
    "energies = smp.symbols(\"E0:3\", real=True)\n",
    "\n",
    "omegas = smp.symbols(\"ω0:2\", real=True)\n",
    "Omegas = smp.symbols(\"Ω0:2\", complex=True)\n",
    "deltas = smp.symbols(\"δ0:2\", real=True)\n",
    "Gammas = smp.symbols(\"Γ0:2\", real=True)"
   ]
  },
  {
   "cell_type": "code",
   "execution_count": 6,
   "metadata": {},
   "outputs": [
    {
     "data": {
      "text/latex": [
       "$\\displaystyle \\left[\\begin{matrix}E_{0} & 0 & - \\frac{Ω_{0} e^{1.0 i t ω_{0}}}{2}\\\\0 & E_{1} & - \\frac{Ω_{1} e^{1.0 i t ω_{1}}}{2}\\\\- \\frac{e^{- 1.0 i t ω_{0}} \\overline{Ω_{0}}}{2} & - \\frac{e^{- 1.0 i t ω_{1}} \\overline{Ω_{1}}}{2} & E_{2}\\end{matrix}\\right]$"
      ],
      "text/plain": [
       "Matrix([\n",
       "[                               E0,                                 0, -Ω0*exp(1.0*I*t*ω0)/2],\n",
       "[                                0,                                E1, -Ω1*exp(1.0*I*t*ω1)/2],\n",
       "[-exp(-1.0*I*t*ω0)*conjugate(Ω0)/2, -exp(-1.0*I*t*ω1)*conjugate(Ω1)/2,                    E2]])"
      ]
     },
     "metadata": {},
     "output_type": "display_data"
    },
    {
     "data": {
      "text/latex": [
       "$\\displaystyle \\left[\\begin{matrix}E_{0} + ω_{0} & 0 & - \\frac{Ω_{0}}{2}\\\\0 & E_{1} + ω_{1} & - \\frac{Ω_{1}}{2}\\\\- \\frac{\\overline{Ω_{0}}}{2} & - \\frac{\\overline{Ω_{1}}}{2} & E_{2}\\end{matrix}\\right]$"
      ],
      "text/plain": [
       "Matrix([\n",
       "[         E0 + ω0,                0, -Ω0/2],\n",
       "[               0,          E1 + ω1, -Ω1/2],\n",
       "[-conjugate(Ω0)/2, -conjugate(Ω1)/2,    E2]])"
      ]
     },
     "metadata": {},
     "output_type": "display_data"
    },
    {
     "data": {
      "text/latex": [
       "$\\displaystyle \\left[\\begin{matrix}E_{2} - δ_{0} & 0 & - \\frac{Ω_{0}}{2}\\\\0 & E_{2} - δ_{1} & - \\frac{Ω_{1}}{2}\\\\- \\frac{\\overline{Ω_{0}}}{2} & - \\frac{\\overline{Ω_{1}}}{2} & E_{2}\\end{matrix}\\right]$"
      ],
      "text/plain": [
       "Matrix([\n",
       "[         E2 - δ0,                0, -Ω0/2],\n",
       "[               0,          E2 - δ1, -Ω1/2],\n",
       "[-conjugate(Ω0)/2, -conjugate(Ω1)/2,    E2]])"
      ]
     },
     "metadata": {},
     "output_type": "display_data"
    },
    {
     "data": {
      "text/latex": [
       "$\\displaystyle \\left[\\begin{matrix}- δ_{0} & 0 & - \\frac{Ω_{0}}{2}\\\\0 & - δ_{1} & - \\frac{Ω_{1}}{2}\\\\- \\frac{\\overline{Ω_{0}}}{2} & - \\frac{\\overline{Ω_{1}}}{2} & 0\\end{matrix}\\right]$"
      ],
      "text/plain": [
       "Matrix([\n",
       "[             -δ0,                0, -Ω0/2],\n",
       "[               0,              -δ1, -Ω1/2],\n",
       "[-conjugate(Ω0)/2, -conjugate(Ω1)/2,     0]])"
      ]
     },
     "execution_count": 6,
     "metadata": {},
     "output_type": "execute_result"
    }
   ],
   "source": [
    "ham = Hamiltonian(3)\n",
    "ham.add_energies(energies)\n",
    "ham.add_coupling(0, 2, Omegas[0], omegas[0])\n",
    "ham.add_coupling(1, 2, Omegas[1], omegas[1])\n",
    "\n",
    "display(ham.hamiltonian)\n",
    "\n",
    "ham.eqn_transform()\n",
    "\n",
    "display(ham.transformed)\n",
    "\n",
    "ham.define_state_detuning(0, 2, deltas[0])\n",
    "ham.define_state_detuning(1, 2, deltas[1])\n",
    "\n",
    "display(ham.transformed)\n",
    "\n",
    "ham.remove_common_energy()\n",
    "\n",
    "transformed = ham.transformed\n",
    "\n",
    "transformed"
   ]
  },
  {
   "cell_type": "code",
   "execution_count": 7,
   "metadata": {},
   "outputs": [],
   "source": [
    "dis = Dissipator(ham.levels)\n",
    "\n",
    "for idi, idf, Gamma in zip([2, 2], [0, 1], Gammas):\n",
    "    dis.add_decay(idi, idf, Gamma)\n",
    "\n",
    "bloch = BlochEquations(ham.levels, dis.density_matrix, transformed, dis.dissipator)"
   ]
  },
  {
   "cell_type": "code",
   "execution_count": 8,
   "metadata": {},
   "outputs": [],
   "source": [
    "code, free_parameters, compound_parameters, fixed_parameters = (\n",
    "    generate_lindblad_function_julia(bloch.equations.rhs, bloch.density_matrix, [])\n",
    ")"
   ]
  },
  {
   "cell_type": "code",
   "execution_count": 9,
   "metadata": {},
   "outputs": [
    {
     "name": "stdout",
     "output_type": "stream",
     "text": [
      "function lindblad!(du, u, p, t)\n",
      "    \t@inbounds begin\n",
      "    \t\tΓ0 = p[1]\n",
      "\t\tΓ1 = p[2]\n",
      "\t\tΩ0 = p[3]\n",
      "\t\tΩ1 = p[4]\n",
      "\t\tδ0 = p[5]\n",
      "\t\tδ1 = p[6]\n",
      "\t\tdu[1,1] = Γ0*u[3,3] + 1.0im*(Ω0*conj(u[1,3]) - u[1,3]*conj(Ω0))/2\n",
      "\t\tdu[1,2] = 1.0im*(Ω0*conj(u[2,3])/2 + δ0*u[1,2] - δ1*u[1,2] - u[1,3]*conj(Ω1)/2)\n",
      "\t\tdu[1,3] = -(Γ0 + Γ1)*u[1,3]/2 - 1.0im*(Ω0*u[1,1] - Ω0*u[3,3] + Ω1*u[1,2] - 2*δ0*u[1,3])/2\n",
      "\t\tdu[2,2] = Γ1*u[3,3] + 1.0im*(Ω1*conj(u[2,3]) - u[2,3]*conj(Ω1))/2\n",
      "\t\tdu[2,3] = -(Γ0 + Γ1)*u[2,3]/2 - 1.0im*(Ω0*conj(u[1,2]) + Ω1*u[2,2] - Ω1*u[3,3] - 2*δ1*u[2,3])/2\n",
      "\t\tdu[3,3] = -(Γ0 + Γ1)*u[3,3] - 1.0im*(Ω0*conj(u[1,3]) + Ω1*conj(u[2,3]) - u[1,3]*conj(Ω0) - u[2,3]*conj(Ω1))/2\n",
      "\tend\n",
      "\tnothing\n",
      "end\n"
     ]
    }
   ],
   "source": [
    "print(code)"
   ]
  },
  {
   "cell_type": "code",
   "execution_count": 10,
   "metadata": {},
   "outputs": [
    {
     "data": {
      "text/latex": [
       "$\\displaystyle i \\left(\\frac{Ω_{0} \\overline{\\operatorname{ρ₁₂}{\\left(t \\right)}}}{2} + δ_{0} \\operatorname{ρ₀₁}{\\left(t \\right)} - δ_{1} \\operatorname{ρ₀₁}{\\left(t \\right)} - \\frac{\\operatorname{ρ₀₂}{\\left(t \\right)} \\overline{Ω_{1}}}{2}\\right)$"
      ],
      "text/plain": [
       "I*(Ω0*conjugate(ρ₁₂(t))/2 + δ0*ρ₀₁(t) - δ1*ρ₀₁(t) - ρ₀₂(t)*conjugate(Ω1)/2)"
      ]
     },
     "execution_count": 10,
     "metadata": {},
     "output_type": "execute_result"
    }
   ],
   "source": [
    "smp.nsimplify(bloch.equations.rhs[0, 1])"
   ]
  },
  {
   "cell_type": "code",
   "execution_count": 11,
   "metadata": {},
   "outputs": [
    {
     "name": "stdout",
     "output_type": "stream",
     "text": [
      "CPU times: total: 344 ms\n",
      "Wall time: 751 ms\n"
     ]
    }
   ],
   "source": [
    "%%time\n",
    "steady_state = bloch.solve_steady_state_symbolic(\n",
    "    replacements=[\n",
    "        (Gammas[0], 1 / 2),\n",
    "        (Gammas[1], 1 / 2),\n",
    "        (deltas[0], 0),\n",
    "        (deltas[1], 0),\n",
    "    ]\n",
    ")"
   ]
  },
  {
   "cell_type": "code",
   "execution_count": 12,
   "metadata": {},
   "outputs": [
    {
     "data": {
      "text/latex": [
       "$\\displaystyle \\frac{Ω_{1} \\overline{Ω_{1}}}{Ω_{0} \\overline{Ω_{0}} + Ω_{1} \\overline{Ω_{1}}}$"
      ],
      "text/plain": [
       "Ω1*conjugate(Ω1)/(Ω0*conjugate(Ω0) + Ω1*conjugate(Ω1))"
      ]
     },
     "execution_count": 12,
     "metadata": {},
     "output_type": "execute_result"
    }
   ],
   "source": [
    "smp.nsimplify(smp.simplify(steady_state[list(steady_state.keys())[0]].subs([])))"
   ]
  },
  {
   "cell_type": "code",
   "execution_count": 13,
   "metadata": {},
   "outputs": [],
   "source": [
    "replacements = [\n",
    "    (Gammas[0], 1 / 2),\n",
    "    (Gammas[1], 1 / 2),\n",
    "    (deltas[0], 0),\n",
    "    (deltas[1], 0),\n",
    "    (\n",
    "        Omegas[0],\n",
    "        0.5 * ((1 + smp.cos(2 * 3.1415 * 0 * smp.Symbol(\"t\", real=True))) / 2),\n",
    "    ),\n",
    "    (Omegas[1], 1),\n",
    "]\n",
    "\n",
    "y0 = np.zeros(bloch.levels**2, dtype=complex)\n",
    "y0[0] = 1 / 2\n",
    "y0[4] = 1 / 2"
   ]
  },
  {
   "cell_type": "code",
   "execution_count": 14,
   "metadata": {},
   "outputs": [],
   "source": [
    "from scipy.integrate import solve_ivp\n",
    "\n",
    "tspan = (0, 50)\n",
    "method = \"RK45\"\n",
    "matrix_eq, t_dependent = bloch.generate_system(replacements)\n",
    "\n",
    "# ODE solver\n",
    "if t_dependent:\n",
    "\n",
    "    def fun(t, rho):\n",
    "        return matrix_eq(t) @ rho\n",
    "else:\n",
    "\n",
    "    def fun(t, rho):\n",
    "        return matrix_eq @ rho\n",
    "\n",
    "\n",
    "sol = solve_ivp(fun, tspan, y0, method, vectorized=True, max_step=0.1)"
   ]
  },
  {
   "cell_type": "code",
   "execution_count": 15,
   "metadata": {},
   "outputs": [
    {
     "data": {
      "image/png": "[encoded data removed]",
      "text/plain": [
       "<Figure size 640x480 with 1 Axes>"
      ]
     },
     "metadata": {},
     "output_type": "display_data"
    }
   ],
   "source": [
    "y = sol.y.reshape(bloch.levels, bloch.levels, -1)\n",
    "\n",
    "fig, ax = plt.subplots()\n",
    "\n",
    "for idx in range(3):\n",
    "    ax.plot(sol.t, y[idx, idx].real, lw=2, label=f\"ρ$_{idx}$\")\n",
    "\n",
    "ax.set_xlabel(\"time [1/Γ]\")\n",
    "ax.set_ylabel(\"population\")\n",
    "\n",
    "ax.legend()\n",
    "\n",
    "ax.grid()"
   ]
  },
  {
   "cell_type": "code",
   "execution_count": 16,
   "metadata": {},
   "outputs": [
    {
     "data": {
      "image/png": "[encoded data removed]",
      "text/plain": [
       "<Figure size 640x480 with 1 Axes>"
      ]
     },
     "metadata": {},
     "output_type": "display_data"
    }
   ],
   "source": [
    "fig, ax = plt.subplots()\n",
    "for v in np.arange(0, 0.31, 0.05):\n",
    "    replacements = [\n",
    "        (Gammas[0], 1 / 2),\n",
    "        (Gammas[1], 1 / 2),\n",
    "        (deltas[0], 0),\n",
    "        (deltas[1], 0),\n",
    "        (\n",
    "            Omegas[0],\n",
    "            0.5 * ((1 + smp.cos(2 * 3.1415 * v * smp.Symbol(\"t\", real=True))) / 2),\n",
    "        ),\n",
    "        (Omegas[1], 1),\n",
    "    ]\n",
    "    tspan = (0, 50)\n",
    "    method = \"RK45\"\n",
    "    matrix_eq, t_dependent = bloch.generate_system(replacements)\n",
    "\n",
    "    # ODE solver\n",
    "    if t_dependent:\n",
    "\n",
    "        def fun(t, rho):\n",
    "            return matrix_eq(t) @ rho\n",
    "    else:\n",
    "\n",
    "        def fun(t, rho):\n",
    "            return matrix_eq @ rho\n",
    "\n",
    "    sol = solve_ivp(fun, tspan, y0, method, vectorized=True, max_step=0.1)\n",
    "\n",
    "    y = sol.y.reshape(bloch.levels, bloch.levels, -1)\n",
    "\n",
    "    ax.plot(sol.t, y[1, 1].real, lw=2, label=f\"ν = {v:.2f}\")\n",
    "\n",
    "ax.set_xlabel(\"time [1/Γ]\")\n",
    "ax.set_ylabel(\"population\")\n",
    "ax.set_title(\"population in ρ₁\")\n",
    "\n",
    "ax.legend()\n",
    "\n",
    "ax.grid()"
   ]
  },
  {
   "cell_type": "code",
   "execution_count": 17,
   "metadata": {},
   "outputs": [
    {
     "name": "stdout",
     "output_type": "stream",
     "text": [
      "18.3 ms ± 884 µs per loop (mean ± std. dev. of 7 runs, 10 loops each)\n"
     ]
    }
   ],
   "source": [
    "%%timeit\n",
    "sol = solve_ivp(fun, tspan, y0, method=\"RK45\", vectorized=True)"
   ]
  },
  {
   "cell_type": "code",
   "execution_count": 18,
   "metadata": {},
   "outputs": [
    {
     "data": {
      "text/latex": [
       "$\\displaystyle \\left[\\begin{matrix}Γ_{0} \\operatorname{ρ₂₂}{\\left(t \\right)} & 0 & \\frac{\\left(- Γ_{0} - Γ_{1}\\right) \\operatorname{ρ₀₂}{\\left(t \\right)}}{2}\\\\0 & Γ_{1} \\operatorname{ρ₂₂}{\\left(t \\right)} & \\frac{\\left(- Γ_{0} - Γ_{1}\\right) \\operatorname{ρ₁₂}{\\left(t \\right)}}{2}\\\\\\frac{\\left(- Γ_{0} - Γ_{1}\\right) \\overline{\\operatorname{ρ₀₂}{\\left(t \\right)}}}{2} & \\frac{\\left(- Γ_{0} - Γ_{1}\\right) \\overline{\\operatorname{ρ₁₂}{\\left(t \\right)}}}{2} & \\left(- Γ_{0} - Γ_{1}\\right) \\operatorname{ρ₂₂}{\\left(t \\right)}\\end{matrix}\\right]$"
      ],
      "text/plain": [
       "Matrix([\n",
       "[                     Γ0*ρ₂₂(t),                              0, (-Γ0 - Γ1)*ρ₀₂(t)/2],\n",
       "[                             0,                      Γ1*ρ₂₂(t), (-Γ0 - Γ1)*ρ₁₂(t)/2],\n",
       "[(-Γ0 - Γ1)*conjugate(ρ₀₂(t))/2, (-Γ0 - Γ1)*conjugate(ρ₁₂(t))/2,   (-Γ0 - Γ1)*ρ₂₂(t)]])"
      ]
     },
     "execution_count": 18,
     "metadata": {},
     "output_type": "execute_result"
    }
   ],
   "source": [
    "dis.dissipator"
   ]
  },
  {
   "cell_type": "code",
   "execution_count": 19,
   "metadata": {},
   "outputs": [
    {
     "data": {
      "text/latex": [
       "$\\displaystyle \\left[\\begin{matrix}Γ_{0} \\operatorname{ρ₂₂}{\\left(t \\right)} + 0.5 i \\left(Ω_{0} \\overline{\\operatorname{ρ₀₂}{\\left(t \\right)}} - \\operatorname{ρ₀₂}{\\left(t \\right)} \\overline{Ω_{0}}\\right) & i \\left(0.5 Ω_{0} \\overline{\\operatorname{ρ₁₂}{\\left(t \\right)}} + 1.0 δ_{0} \\operatorname{ρ₀₁}{\\left(t \\right)} - 1.0 δ_{1} \\operatorname{ρ₀₁}{\\left(t \\right)} - 0.5 \\operatorname{ρ₀₂}{\\left(t \\right)} \\overline{Ω_{1}}\\right) & - \\frac{\\left(Γ_{0} + Γ_{1}\\right) \\operatorname{ρ₀₂}{\\left(t \\right)}}{2} - \\frac{i \\left(1.0 Ω_{0} \\operatorname{ρ₀₀}{\\left(t \\right)} - 1.0 Ω_{0} \\operatorname{ρ₂₂}{\\left(t \\right)} + 1.0 Ω_{1} \\operatorname{ρ₀₁}{\\left(t \\right)} - 2.0 δ_{0} \\operatorname{ρ₀₂}{\\left(t \\right)}\\right)}{2}\\\\i \\left(0.5 Ω_{1} \\overline{\\operatorname{ρ₀₂}{\\left(t \\right)}} - 1.0 δ_{0} \\overline{\\operatorname{ρ₀₁}{\\left(t \\right)}} + 1.0 δ_{1} \\overline{\\operatorname{ρ₀₁}{\\left(t \\right)}} - 0.5 \\operatorname{ρ₁₂}{\\left(t \\right)} \\overline{Ω_{0}}\\right) & Γ_{1} \\operatorname{ρ₂₂}{\\left(t \\right)} + 0.5 i \\left(Ω_{1} \\overline{\\operatorname{ρ₁₂}{\\left(t \\right)}} - \\operatorname{ρ₁₂}{\\left(t \\right)} \\overline{Ω_{1}}\\right) & - \\frac{\\left(Γ_{0} + Γ_{1}\\right) \\operatorname{ρ₁₂}{\\left(t \\right)}}{2} - \\frac{i \\left(1.0 Ω_{0} \\overline{\\operatorname{ρ₀₁}{\\left(t \\right)}} + 1.0 Ω_{1} \\operatorname{ρ₁₁}{\\left(t \\right)} - 1.0 Ω_{1} \\operatorname{ρ₂₂}{\\left(t \\right)} - 2.0 δ_{1} \\operatorname{ρ₁₂}{\\left(t \\right)}\\right)}{2}\\\\- \\frac{\\left(Γ_{0} + Γ_{1}\\right) \\overline{\\operatorname{ρ₀₂}{\\left(t \\right)}}}{2} - \\frac{i \\left(2.0 δ_{0} \\overline{\\operatorname{ρ₀₂}{\\left(t \\right)}} - 1.0 \\operatorname{ρ₀₀}{\\left(t \\right)} \\overline{Ω_{0}} + 1.0 \\operatorname{ρ₂₂}{\\left(t \\right)} \\overline{Ω_{0}} - 1.0 \\overline{Ω_{1}} \\overline{\\operatorname{ρ₀₁}{\\left(t \\right)}}\\right)}{2} & - \\frac{\\left(Γ_{0} + Γ_{1}\\right) \\overline{\\operatorname{ρ₁₂}{\\left(t \\right)}}}{2} - \\frac{i \\left(2.0 δ_{1} \\overline{\\operatorname{ρ₁₂}{\\left(t \\right)}} - 1.0 \\operatorname{ρ₀₁}{\\left(t \\right)} \\overline{Ω_{0}} - 1.0 \\operatorname{ρ₁₁}{\\left(t \\right)} \\overline{Ω_{1}} + 1.0 \\operatorname{ρ₂₂}{\\left(t \\right)} \\overline{Ω_{1}}\\right)}{2} & - \\left(Γ_{0} + Γ_{1}\\right) \\operatorname{ρ₂₂}{\\left(t \\right)} - 0.5 i \\left(Ω_{0} \\overline{\\operatorname{ρ₀₂}{\\left(t \\right)}} + Ω_{1} \\overline{\\operatorname{ρ₁₂}{\\left(t \\right)}} - \\operatorname{ρ₀₂}{\\left(t \\right)} \\overline{Ω_{0}} - \\operatorname{ρ₁₂}{\\left(t \\right)} \\overline{Ω_{1}}\\right)\\end{matrix}\\right]$"
      ],
      "text/plain": [
       "Matrix([\n",
       "[                                                                                            Γ0*ρ₂₂(t) + 0.5*I*(Ω0*conjugate(ρ₀₂(t)) - ρ₀₂(t)*conjugate(Ω0)),                                                          I*(0.5*Ω0*conjugate(ρ₁₂(t)) + 1.0*δ0*ρ₀₁(t) - 1.0*δ1*ρ₀₁(t) - 0.5*ρ₀₂(t)*conjugate(Ω1)),                             -(Γ0 + Γ1)*ρ₀₂(t)/2 - I*(1.0*Ω0*ρ₀₀(t) - 1.0*Ω0*ρ₂₂(t) + 1.0*Ω1*ρ₀₁(t) - 2.0*δ0*ρ₀₂(t))/2],\n",
       "[                                              I*(0.5*Ω1*conjugate(ρ₀₂(t)) - 1.0*δ0*conjugate(ρ₀₁(t)) + 1.0*δ1*conjugate(ρ₀₁(t)) - 0.5*ρ₁₂(t)*conjugate(Ω0)),                                                                                  Γ1*ρ₂₂(t) + 0.5*I*(Ω1*conjugate(ρ₁₂(t)) - ρ₁₂(t)*conjugate(Ω1)),                  -(Γ0 + Γ1)*ρ₁₂(t)/2 - I*(1.0*Ω0*conjugate(ρ₀₁(t)) + 1.0*Ω1*ρ₁₁(t) - 1.0*Ω1*ρ₂₂(t) - 2.0*δ1*ρ₁₂(t))/2],\n",
       "[-(Γ0 + Γ1)*conjugate(ρ₀₂(t))/2 - I*(2.0*δ0*conjugate(ρ₀₂(t)) - 1.0*ρ₀₀(t)*conjugate(Ω0) + 1.0*ρ₂₂(t)*conjugate(Ω0) - 1.0*conjugate(Ω1)*conjugate(ρ₀₁(t)))/2, -(Γ0 + Γ1)*conjugate(ρ₁₂(t))/2 - I*(2.0*δ1*conjugate(ρ₁₂(t)) - 1.0*ρ₀₁(t)*conjugate(Ω0) - 1.0*ρ₁₁(t)*conjugate(Ω1) + 1.0*ρ₂₂(t)*conjugate(Ω1))/2, -(Γ0 + Γ1)*ρ₂₂(t) - 0.5*I*(Ω0*conjugate(ρ₀₂(t)) + Ω1*conjugate(ρ₁₂(t)) - ρ₀₂(t)*conjugate(Ω0) - ρ₁₂(t)*conjugate(Ω1))]])"
      ]
     },
     "execution_count": 19,
     "metadata": {},
     "output_type": "execute_result"
    }
   ],
   "source": [
    "bloch.equations.rhs"
   ]
  },
  {
   "cell_type": "markdown",
   "metadata": {},
   "source": [
    "# Toy 4 Level Model"
   ]
  },
  {
   "cell_type": "code",
   "execution_count": 20,
   "metadata": {},
   "outputs": [],
   "source": [
    "ρ = smp.MatrixSymbol(\"ρ\", 4, 4)\n",
    "\n",
    "energies = smp.symbols(\"E0:4\", real=True)\n",
    "\n",
    "omegas = smp.symbols(\"ω0:1\", real=True)\n",
    "Omegas = smp.symbols(\"Ω0:2\", complex=True)\n",
    "deltas = smp.symbols(\"δ0:1\", real=True)\n",
    "Gammas = smp.symbols(\"Γ0:4\", real=True)"
   ]
  },
  {
   "cell_type": "code",
   "execution_count": 21,
   "metadata": {},
   "outputs": [
    {
     "data": {
      "text/latex": [
       "$\\displaystyle \\left[\\begin{matrix}E_{0} & 0 & - \\frac{Ω_{0} e^{1.0 i t ω_{0}}}{2} & 0\\\\0 & E_{1} & 0 & - \\frac{Ω_{1} e^{1.0 i t ω_{0}}}{2}\\\\- \\frac{e^{- 1.0 i t ω_{0}} \\overline{Ω_{0}}}{2} & 0 & E_{2} & 0\\\\0 & - \\frac{e^{- 1.0 i t ω_{0}} \\overline{Ω_{1}}}{2} & 0 & E_{3}\\end{matrix}\\right]$"
      ],
      "text/plain": [
       "Matrix([\n",
       "[                               E0,                                 0, -Ω0*exp(1.0*I*t*ω0)/2,                     0],\n",
       "[                                0,                                E1,                     0, -Ω1*exp(1.0*I*t*ω0)/2],\n",
       "[-exp(-1.0*I*t*ω0)*conjugate(Ω0)/2,                                 0,                    E2,                     0],\n",
       "[                                0, -exp(-1.0*I*t*ω0)*conjugate(Ω1)/2,                     0,                    E3]])"
      ]
     },
     "metadata": {},
     "output_type": "display_data"
    },
    {
     "data": {
      "text/latex": [
       "$\\displaystyle \\left[\\begin{matrix}E_{0} + ω_{0} & 0 & - \\frac{Ω_{0}}{2} & 0\\\\0 & E_{1} + ω_{0} & 0 & - \\frac{Ω_{1}}{2}\\\\- \\frac{\\overline{Ω_{0}}}{2} & 0 & E_{2} & 0\\\\0 & - \\frac{\\overline{Ω_{1}}}{2} & 0 & E_{3}\\end{matrix}\\right]$"
      ],
      "text/plain": [
       "Matrix([\n",
       "[         E0 + ω0,                0, -Ω0/2,     0],\n",
       "[               0,          E1 + ω0,     0, -Ω1/2],\n",
       "[-conjugate(Ω0)/2,                0,    E2,     0],\n",
       "[               0, -conjugate(Ω1)/2,     0,    E3]])"
      ]
     },
     "metadata": {},
     "output_type": "display_data"
    },
    {
     "data": {
      "text/latex": [
       "$\\displaystyle \\left[\\begin{matrix}E_{0} - E_{1} + E_{3} - δ_{0} & 0 & - \\frac{Ω_{0}}{2} & 0\\\\0 & E_{3} - δ_{0} & 0 & - \\frac{Ω_{1}}{2}\\\\- \\frac{\\overline{Ω_{0}}}{2} & 0 & E_{2} & 0\\\\0 & - \\frac{\\overline{Ω_{1}}}{2} & 0 & E_{3}\\end{matrix}\\right]$"
      ],
      "text/plain": [
       "Matrix([\n",
       "[E0 - E1 + E3 - δ0,                0, -Ω0/2,     0],\n",
       "[                0,          E3 - δ0,     0, -Ω1/2],\n",
       "[ -conjugate(Ω0)/2,                0,    E2,     0],\n",
       "[                0, -conjugate(Ω1)/2,     0,    E3]])"
      ]
     },
     "metadata": {},
     "output_type": "display_data"
    },
    {
     "data": {
      "text/latex": [
       "$\\displaystyle \\left[\\begin{matrix}E_{0} - E_{1} - δ_{0} & 0 & - \\frac{Ω_{0}}{2} & 0\\\\0 & - δ_{0} & 0 & - \\frac{Ω_{1}}{2}\\\\- \\frac{\\overline{Ω_{0}}}{2} & 0 & E_{2} - E_{3} & 0\\\\0 & - \\frac{\\overline{Ω_{1}}}{2} & 0 & 0\\end{matrix}\\right]$"
      ],
      "text/plain": [
       "Matrix([\n",
       "[    E0 - E1 - δ0,                0,   -Ω0/2,     0],\n",
       "[               0,              -δ0,       0, -Ω1/2],\n",
       "[-conjugate(Ω0)/2,                0, E2 - E3,     0],\n",
       "[               0, -conjugate(Ω1)/2,       0,     0]])"
      ]
     },
     "metadata": {},
     "output_type": "display_data"
    }
   ],
   "source": [
    "ham = Hamiltonian(ρ.shape[0])\n",
    "ham.add_energies(energies)\n",
    "ham.add_manifold_coupling([0, 1], [2, 3], Omegas, omegas[0])\n",
    "ham.eqn_transform()\n",
    "display(ham.hamiltonian)\n",
    "display(ham.transformed)\n",
    "ham.define_state_detuning(1, 3, deltas[0])\n",
    "display(ham.transformed)\n",
    "ham.remove_common_energy()\n",
    "display(ham.transformed)"
   ]
  },
  {
   "cell_type": "code",
   "execution_count": 22,
   "metadata": {},
   "outputs": [
    {
     "data": {
      "text/latex": [
       "$\\displaystyle \\left[\\begin{matrix}-Δg - δ_{0} & 0 & - \\frac{Ω_{0}}{2} & 0\\\\0 & - δ_{0} & 0 & - \\frac{Ω_{1}}{2}\\\\- \\frac{\\overline{Ω_{0}}}{2} & 0 & -Δe & 0\\\\0 & - \\frac{\\overline{Ω_{1}}}{2} & 0 & 0\\end{matrix}\\right]$"
      ],
      "text/plain": [
       "Matrix([\n",
       "[        -Δg - δ0,                0, -Ω0/2,     0],\n",
       "[               0,              -δ0,     0, -Ω1/2],\n",
       "[-conjugate(Ω0)/2,                0,   -Δe,     0],\n",
       "[               0, -conjugate(Ω1)/2,     0,     0]])"
      ]
     },
     "execution_count": 22,
     "metadata": {},
     "output_type": "execute_result"
    }
   ],
   "source": [
    "ham.transformed = ham.transformed.subs(\n",
    "    energies[0] - energies[1], smp.Symbol(\"-Δg\", real=True)\n",
    ")\n",
    "ham.transformed = ham.transformed.subs(\n",
    "    energies[2] - energies[3], smp.Symbol(\"-Δe\", real=True)\n",
    ")\n",
    "ham.transformed"
   ]
  },
  {
   "cell_type": "code",
   "execution_count": 23,
   "metadata": {},
   "outputs": [],
   "source": [
    "def symbolic_matrix_to_julia(matrix) -> str:\n",
    "    s = matrix.shape\n",
    "    matrix_str = \"[\\n\"\n",
    "    for idx in range(s[0]):\n",
    "        for idy in range(s[1]):\n",
    "            matrix_str += f\"{str(matrix[idx,idy])} \"\n",
    "        matrix_str += \"\\n\"\n",
    "    matrix_str += \"]\"\n",
    "    matrix_str = matrix_str.replace(\"conjugate\", \"conj\")\n",
    "    return matrix_str"
   ]
  },
  {
   "cell_type": "code",
   "execution_count": 24,
   "metadata": {},
   "outputs": [],
   "source": [
    "def get_symbols_to_julia(matrix) -> str:\n",
    "    return (\n",
    "        f\"@parameters {str(matrix.free_symbols)}\".replace(\",\", \"\")\n",
    "        .replace(\"{\", \"\")\n",
    "        .replace(\"}\", \"\")\n",
    "        .replace(\"-\", \"\")\n",
    "    )"
   ]
  },
  {
   "cell_type": "code",
   "execution_count": 25,
   "metadata": {},
   "outputs": [
    {
     "name": "stdout",
     "output_type": "stream",
     "text": [
      "@parameters Ω0 δ0 Ω1 Δg Δe\n"
     ]
    }
   ],
   "source": [
    "print(get_symbols_to_julia(ham.transformed))"
   ]
  },
  {
   "cell_type": "code",
   "execution_count": 26,
   "metadata": {},
   "outputs": [
    {
     "name": "stdout",
     "output_type": "stream",
     "text": [
      "[\n",
      "-Δg - δ0 0 -Ω0/2 0 \n",
      "0 -δ0 0 -Ω1/2 \n",
      "-conj(Ω0)/2 0 -Δe 0 \n",
      "0 -conj(Ω1)/2 0 0 \n",
      "]\n"
     ]
    }
   ],
   "source": [
    "print(symbolic_matrix_to_julia(ham.transformed))"
   ]
  },
  {
   "cell_type": "code",
   "execution_count": 27,
   "metadata": {},
   "outputs": [],
   "source": [
    "dis = Dissipator(ham.levels)\n",
    "\n",
    "for idi, idf, Gamma in zip([2, 2, 3, 3], [0, 1, 0, 1], Gammas):\n",
    "    dis.add_decay(idi, idf, Gamma)"
   ]
  },
  {
   "cell_type": "code",
   "execution_count": 28,
   "metadata": {},
   "outputs": [],
   "source": [
    "bloch = BlochEquations(ham.levels, dis.density_matrix, ham.transformed, dis.dissipator)"
   ]
  },
  {
   "cell_type": "markdown",
   "metadata": {},
   "source": [
    "# Toy 4 Level system with 1 excited states"
   ]
  },
  {
   "cell_type": "code",
   "execution_count": 29,
   "metadata": {},
   "outputs": [],
   "source": [
    "energies = smp.symbols(\"E0:4\", real=True)\n",
    "\n",
    "omegas = smp.symbols(\"ω0:3\", real=True)\n",
    "Omegas = smp.symbols(\"Ω0:3\", complex=True)\n",
    "deltas = smp.symbols(\"δ0:3\", real=True)\n",
    "Gammas = smp.symbols(\"Γ0:2\", real=True)"
   ]
  },
  {
   "cell_type": "code",
   "execution_count": 30,
   "metadata": {},
   "outputs": [],
   "source": [
    "ham = Hamiltonian(energies=energies)\n",
    "ham.add_coupling(0, 2, Omegas[0], omegas[0])\n",
    "ham.add_coupling(0, 3, Omegas[1], omegas[1])\n",
    "ham.add_coupling(1, 2, Omegas[2], omegas[2])\n",
    "ham.eqn_transform()\n",
    "\n",
    "ham.define_state_detuning(0, 2, deltas[0])\n",
    "ham.define_state_detuning(0, 3, deltas[1])\n",
    "ham.define_state_detuning(1, 2, deltas[2])"
   ]
  },
  {
   "cell_type": "code",
   "execution_count": 31,
   "metadata": {},
   "outputs": [
    {
     "data": {
      "text/latex": [
       "$\\displaystyle \\left[\\begin{matrix}E_{3} - δ_{1} & 0 & - \\frac{Ω_{0}}{2} & - \\frac{Ω_{1}}{2}\\\\0 & E_{3} + δ_{0} - δ_{1} - δ_{2} & - \\frac{Ω_{2}}{2} & 0\\\\- \\frac{\\overline{Ω_{0}}}{2} & - \\frac{\\overline{Ω_{2}}}{2} & E_{3} + δ_{0} - δ_{1} & 0\\\\- \\frac{\\overline{Ω_{1}}}{2} & 0 & 0 & E_{3}\\end{matrix}\\right]$"
      ],
      "text/plain": [
       "Matrix([\n",
       "[         E3 - δ1,                 0,        -Ω0/2, -Ω1/2],\n",
       "[               0, E3 + δ0 - δ1 - δ2,        -Ω2/2,     0],\n",
       "[-conjugate(Ω0)/2,  -conjugate(Ω2)/2, E3 + δ0 - δ1,     0],\n",
       "[-conjugate(Ω1)/2,                 0,            0,    E3]])"
      ]
     },
     "execution_count": 31,
     "metadata": {},
     "output_type": "execute_result"
    }
   ],
   "source": [
    "ham.transformed"
   ]
  },
  {
   "cell_type": "markdown",
   "metadata": {},
   "source": [
    "# Toy Rotational Cooling"
   ]
  },
  {
   "cell_type": "code",
   "execution_count": 32,
   "metadata": {},
   "outputs": [],
   "source": [
    "ρ = smp.MatrixSymbol(\"ρ\", 5, 5)\n",
    "\n",
    "energies = smp.symbols(\"E0:5\", real=True)\n",
    "\n",
    "omegas = smp.symbols(\"ω0:3\", real=True)\n",
    "Omegas = smp.symbols(\"Ω0:3\", complex=True)\n",
    "deltas = smp.symbols(\"δ0:3\", real=True)\n",
    "Gammas = smp.symbols(\"Γ0:2\", real=True)"
   ]
  },
  {
   "cell_type": "code",
   "execution_count": 33,
   "metadata": {},
   "outputs": [],
   "source": [
    "ham = Hamiltonian(ρ.shape[0])\n",
    "ham.add_energies(energies)\n",
    "ham.add_coupling(1, 2, Omegas[0], omegas[0])\n",
    "ham.add_coupling(2, 3, Omegas[1], omegas[1])\n",
    "ham.add_coupling(2, 4, Omegas[2], omegas[2])"
   ]
  },
  {
   "cell_type": "code",
   "execution_count": 34,
   "metadata": {},
   "outputs": [
    {
     "data": {
      "text/latex": [
       "$\\displaystyle \\left[\\begin{matrix}E_{0} & 0 & 0 & 0 & 0\\\\0 & E_{1} + ω_{0} + ω_{2} & - \\frac{Ω_{0}}{2} & 0 & 0\\\\0 & - \\frac{\\overline{Ω_{0}}}{2} & E_{2} + ω_{2} & - \\frac{Ω_{1}}{2} & - \\frac{Ω_{2}}{2}\\\\0 & 0 & - \\frac{\\overline{Ω_{1}}}{2} & E_{3} - ω_{1} + ω_{2} & 0\\\\0 & 0 & - \\frac{\\overline{Ω_{2}}}{2} & 0 & E_{4}\\end{matrix}\\right]$"
      ],
      "text/plain": [
       "Matrix([\n",
       "[E0,                0,                0,            0,     0],\n",
       "[ 0,     E1 + ω0 + ω2,            -Ω0/2,            0,     0],\n",
       "[ 0, -conjugate(Ω0)/2,          E2 + ω2,        -Ω1/2, -Ω2/2],\n",
       "[ 0,                0, -conjugate(Ω1)/2, E3 - ω1 + ω2,     0],\n",
       "[ 0,                0, -conjugate(Ω2)/2,            0,    E4]])"
      ]
     },
     "execution_count": 34,
     "metadata": {},
     "output_type": "execute_result"
    }
   ],
   "source": [
    "ham.eqn_transform()\n",
    "ham.transformed"
   ]
  },
  {
   "cell_type": "code",
   "execution_count": 35,
   "metadata": {},
   "outputs": [
    {
     "data": {
      "text/latex": [
       "$\\displaystyle \\left[\\begin{matrix}E_{0} & 0 & 0 & 0 & 0\\\\0 & E_{4} - δ_{0} - δ_{2} & - \\frac{Ω_{0}}{2} & 0 & 0\\\\0 & - \\frac{\\overline{Ω_{0}}}{2} & E_{4} - δ_{2} & - \\frac{Ω_{1}}{2} & - \\frac{Ω_{2}}{2}\\\\0 & 0 & - \\frac{\\overline{Ω_{1}}}{2} & E_{4} + δ_{1} - δ_{2} & 0\\\\0 & 0 & - \\frac{\\overline{Ω_{2}}}{2} & 0 & E_{4}\\end{matrix}\\right]$"
      ],
      "text/plain": [
       "Matrix([\n",
       "[E0,                0,                0,            0,     0],\n",
       "[ 0,     E4 - δ0 - δ2,            -Ω0/2,            0,     0],\n",
       "[ 0, -conjugate(Ω0)/2,          E4 - δ2,        -Ω1/2, -Ω2/2],\n",
       "[ 0,                0, -conjugate(Ω1)/2, E4 + δ1 - δ2,     0],\n",
       "[ 0,                0, -conjugate(Ω2)/2,            0,    E4]])"
      ]
     },
     "metadata": {},
     "output_type": "display_data"
    },
    {
     "data": {
      "text/latex": [
       "$\\displaystyle \\left[\\begin{matrix}E_{0} - E_{4} & 0 & 0 & 0 & 0\\\\0 & - δ_{0} - δ_{2} & - \\frac{Ω_{0}}{2} & 0 & 0\\\\0 & - \\frac{\\overline{Ω_{0}}}{2} & - δ_{2} & - \\frac{Ω_{1}}{2} & - \\frac{Ω_{2}}{2}\\\\0 & 0 & - \\frac{\\overline{Ω_{1}}}{2} & δ_{1} - δ_{2} & 0\\\\0 & 0 & - \\frac{\\overline{Ω_{2}}}{2} & 0 & 0\\end{matrix}\\right]$"
      ],
      "text/plain": [
       "Matrix([\n",
       "[E0 - E4,                0,                0,       0,     0],\n",
       "[      0,         -δ0 - δ2,            -Ω0/2,       0,     0],\n",
       "[      0, -conjugate(Ω0)/2,              -δ2,   -Ω1/2, -Ω2/2],\n",
       "[      0,                0, -conjugate(Ω1)/2, δ1 - δ2,     0],\n",
       "[      0,                0, -conjugate(Ω2)/2,       0,     0]])"
      ]
     },
     "metadata": {},
     "output_type": "display_data"
    }
   ],
   "source": [
    "ham.define_state_detuning(1, 2, deltas[0])\n",
    "ham.define_state_detuning(2, 3, deltas[1])\n",
    "ham.define_state_detuning(2, 4, deltas[2])\n",
    "display(ham.transformed)\n",
    "ham.remove_common_energy()\n",
    "display(ham.transformed)"
   ]
  },
  {
   "cell_type": "code",
   "execution_count": 36,
   "metadata": {},
   "outputs": [],
   "source": [
    "dis = Dissipator(ham.levels)\n",
    "dis.add_decay(4, 2, Gammas[0])\n",
    "dis.add_decay(4, 0, Gammas[1])\n",
    "\n",
    "transformed = ham.transformed.copy()"
   ]
  },
  {
   "cell_type": "code",
   "execution_count": 37,
   "metadata": {},
   "outputs": [
    {
     "data": {
      "text/latex": [
       "$\\displaystyle \\left[\\begin{matrix}0 & 0 & 0 & 0 & 0\\\\0 & - δ_{0} - δ_{2} & - \\frac{Ω_{0}}{2} & 0 & 0\\\\0 & - \\frac{\\overline{Ω_{0}}}{2} & - δ_{2} & - \\frac{Ω_{1}}{2} & - \\frac{Ω_{2}}{2}\\\\0 & 0 & - \\frac{\\overline{Ω_{1}}}{2} & δ_{1} - δ_{2} & 0\\\\0 & 0 & - \\frac{\\overline{Ω_{2}}}{2} & 0 & 0\\end{matrix}\\right]$"
      ],
      "text/plain": [
       "Matrix([\n",
       "[0,                0,                0,       0,     0],\n",
       "[0,         -δ0 - δ2,            -Ω0/2,       0,     0],\n",
       "[0, -conjugate(Ω0)/2,              -δ2,   -Ω1/2, -Ω2/2],\n",
       "[0,                0, -conjugate(Ω1)/2, δ1 - δ2,     0],\n",
       "[0,                0, -conjugate(Ω2)/2,       0,     0]])"
      ]
     },
     "execution_count": 37,
     "metadata": {},
     "output_type": "execute_result"
    }
   ],
   "source": [
    "transformed = transformed.subs(energies[0], 0)\n",
    "transformed = smp.nsimplify(transformed.subs(energies[-1], 0))\n",
    "transformed"
   ]
  },
  {
   "cell_type": "code",
   "execution_count": 38,
   "metadata": {},
   "outputs": [],
   "source": [
    "bloch = BlochEquations(ham.levels, dis.density_matrix, transformed, dis.dissipator)"
   ]
  },
  {
   "cell_type": "code",
   "execution_count": 39,
   "metadata": {},
   "outputs": [],
   "source": [
    "t = smp.Symbol(\"t\", real=True)\n",
    "\n",
    "replacements = [(delta, 0) for delta in deltas]\n",
    "# replacements += [(Omega, 1) for Omega in Omegas]\n",
    "replacements += [(Gamma, 1 / 2) for Gamma in Gammas]\n",
    "replacements += [\n",
    "    (Omegas[0], 1 * (1 + smp.sin(smp.Symbol(\"ωl\") * t) / 2)),\n",
    "    (Omegas[1], 1 * (1 + smp.sin(smp.Symbol(\"ωl\") * t + 3.1415 / 2) / 2)),\n",
    "    (Omegas[2], 1 * (1 + smp.sin(smp.Symbol(\"ωl\") * t + 3.1415 / 4) / 2)),\n",
    "]"
   ]
  },
  {
   "cell_type": "code",
   "execution_count": 40,
   "metadata": {},
   "outputs": [],
   "source": [
    "y0 = np.zeros(bloch.levels**2, dtype=complex)\n",
    "y0[0] = 1 / 4\n",
    "y0[6] = 1 / 4\n",
    "y0[12] = 1 / 4\n",
    "y0[18] = 1 / 4"
   ]
  },
  {
   "cell_type": "code",
   "execution_count": 41,
   "metadata": {},
   "outputs": [],
   "source": [
    "sol = bloch.solve_numeric(\n",
    "    replacements + [(smp.Symbol(\"ωl\"), 1)], [0, 100], y0, method=\"BDF\"\n",
    ")"
   ]
  },
  {
   "cell_type": "code",
   "execution_count": 42,
   "metadata": {},
   "outputs": [
    {
     "data": {
      "image/png": "[encoded data removed]",
      "text/plain": [
       "<Figure size 640x480 with 1 Axes>"
      ]
     },
     "metadata": {},
     "output_type": "display_data"
    }
   ],
   "source": [
    "y = sol.y.reshape(5, 5, -1)\n",
    "\n",
    "fig, ax = plt.subplots()\n",
    "\n",
    "for idx in range(5):\n",
    "    ax.plot(sol.t, y[idx, idx].real, lw=2, label=f\"ρ$_{idx}$\")\n",
    "\n",
    "ax.set_xlabel(\"time [1/Γ]\")\n",
    "ax.set_ylabel(\"population\")\n",
    "\n",
    "ax.legend()\n",
    "\n",
    "ax.grid()"
   ]
  },
  {
   "cell_type": "code",
   "execution_count": 43,
   "metadata": {},
   "outputs": [],
   "source": [
    "replacements = [(delta, 0) for delta in deltas]\n",
    "# replacements += [(Omega, 1) for Omega in Omegas]\n",
    "replacements += [(Gamma, 1 / 2) for Gamma in Gammas]\n",
    "replacements += [\n",
    "    (Omegas[0], 1 * (1 + smp.sin(smp.Symbol(\"ωl\") * t) / 2)),\n",
    "    (Omegas[1], 1 * (1 + smp.sin(smp.Symbol(\"ωl\") * t + 3.1415 / 2) / 2)),\n",
    "    (Omegas[2], 1 * (1 + smp.sin(smp.Symbol(\"ωl\") * t + 3.1415 / 4) / 2)),\n",
    "]\n",
    "replacements += [(smp.Symbol(\"ωl\"), 1 + smp.sin(smp.Symbol(\"ωl1\") * t) / 5)]"
   ]
  },
  {
   "cell_type": "code",
   "execution_count": 44,
   "metadata": {},
   "outputs": [],
   "source": [
    "code, free_parameters, compound_parameters, fixed_parameters = (\n",
    "    generate_lindblad_function_julia(\n",
    "        bloch.equations.rhs, bloch.density_matrix, replacements\n",
    "    )\n",
    ")"
   ]
  },
  {
   "cell_type": "code",
   "execution_count": 45,
   "metadata": {},
   "outputs": [
    {
     "name": "stdout",
     "output_type": "stream",
     "text": [
      "function lindblad!(du, u, p, t)\n",
      "    \t@inbounds begin\n",
      "    \t\tωl1 = p[1]\n",
      "\t\tδ0 = 0\n",
      "\t\tδ1 = 0\n",
      "\t\tδ2 = 0\n",
      "\t\tΓ0 = 0.5\n",
      "\t\tΓ1 = 0.5\n",
      "\t\tωl = sin(t*ωl1)/5 + 1\n",
      "\t\tΩ0 = sin(t*ωl)/2 + 1\n",
      "\t\tΩ1 = sin(t*ωl + 1.57075)/2 + 1\n",
      "\t\tΩ2 = sin(t*ωl + 0.785375)/2 + 1\n",
      "\t\tdu[1,1] = Γ1*u[5,5]\n",
      "\t\tdu[1,2] = 1.0im*(-(δ0 + δ2)*u[1,2] - u[1,3]*conj(Ω0)/2)\n",
      "\t\tdu[1,3] = 1.0im*(-Ω0*u[1,2]/2 - δ2*u[1,3] - u[1,4]*conj(Ω1)/2 - u[1,5]*conj(Ω2)/2)\n",
      "\t\tdu[1,4] = 1.0im*(-Ω1*u[1,3]/2 + (δ1 - δ2)*u[1,4])\n",
      "\t\tdu[1,5] = -1.0im*Ω2*u[1,3]/2 - (Γ0 + Γ1)*u[1,5]/2\n",
      "\t\tdu[2,2] = 1.0im*(Ω0*conj(u[2,3]) - u[2,3]*conj(Ω0))/2\n",
      "\t\tdu[2,3] = 1.0im*(-Ω0*u[2,2]/2 + Ω0*u[3,3]/2 + δ0*u[2,3] - u[2,4]*conj(Ω1)/2 - u[2,5]*conj(Ω2)/2)\n",
      "\t\tdu[2,4] = 1.0im*(Ω0*u[3,4]/2 - Ω1*u[2,3]/2 + δ0*u[2,4] + δ1*u[2,4])\n",
      "\t\tdu[2,5] = -(Γ0 + Γ1)*u[2,5]/2 + 1.0im*(Ω0*u[3,5] - Ω2*u[2,3] + 2*(δ0 + δ2)*u[2,5])/2\n",
      "\t\tdu[3,3] = Γ0*u[5,5] + 1.0im*(-Ω0*conj(u[2,3]) + Ω1*conj(u[3,4]) + Ω2*conj(u[3,5]) + u[2,3]*conj(Ω0) - u[3,4]*conj(Ω1) - u[3,5]*conj(Ω2))/2\n",
      "\t\tdu[3,4] = 1.0im*(-Ω1*u[3,3]/2 + Ω1*u[4,4]/2 + Ω2*conj(u[4,5])/2 + δ1*u[3,4] + u[2,4]*conj(Ω0)/2)\n",
      "\t\tdu[3,5] = -(Γ0 + Γ1)*u[3,5]/2 + 1.0im*(Ω1*u[4,5] - Ω2*u[3,3] + Ω2*u[5,5] + 2*δ2*u[3,5] + u[2,5]*conj(Ω0))/2\n",
      "\t\tdu[4,4] = 1.0im*(-Ω1*conj(u[3,4]) + u[3,4]*conj(Ω1))/2\n",
      "\t\tdu[4,5] = -(Γ0 + Γ1)*u[4,5]/2 - 1.0im*(Ω2*conj(u[3,4]) + 2*(δ1 - δ2)*u[4,5] - u[3,5]*conj(Ω1))/2\n",
      "\t\tdu[5,5] = -(Γ0 + Γ1)*u[5,5] - 1.0im*(Ω2*conj(u[3,5]) - u[3,5]*conj(Ω2))/2\n",
      "\tend\n",
      "\tnothing\n",
      "end\n"
     ]
    }
   ],
   "source": [
    "print(code)"
   ]
  },
  {
   "cell_type": "markdown",
   "metadata": {},
   "source": [
    "# Toy Rotational Cooling Polarization Switching "
   ]
  },
  {
   "cell_type": "code",
   "execution_count": 46,
   "metadata": {},
   "outputs": [],
   "source": [
    "ρ = smp.MatrixSymbol(\"ρ\", 6, 6)\n",
    "\n",
    "energies = smp.symbols(\"E0:6\", real=True)\n",
    "\n",
    "omegas = smp.symbols(\"ω0:4\", real=True)\n",
    "Omegas = smp.symbols(\"Ω0:4\", complex=True)\n",
    "deltas = smp.symbols(\"δ0:4\", real=True)\n",
    "Gammas = smp.symbols(\"Γ0:4\", real=True)"
   ]
  },
  {
   "cell_type": "code",
   "execution_count": 47,
   "metadata": {},
   "outputs": [],
   "source": [
    "ham = Hamiltonian(ρ.shape[0])\n",
    "ham.add_energies(energies)\n",
    "ham.add_coupling(1, 2, Omegas[0], omegas[0])\n",
    "ham.add_coupling(2, 3, Omegas[1], omegas[1])\n",
    "ham.add_coupling(2, 4, Omegas[2], omegas[2])\n",
    "ham.add_coupling(2, 5, Omegas[3], omegas[3])"
   ]
  },
  {
   "cell_type": "code",
   "execution_count": 48,
   "metadata": {},
   "outputs": [
    {
     "data": {
      "text/latex": [
       "$\\displaystyle \\left[\\begin{matrix}E_{0} & 0 & 0 & 0 & 0 & 0\\\\0 & E_{1} + ω_{0} + ω_{3} & - \\frac{Ω_{0}}{2} & 0 & 0 & 0\\\\0 & - \\frac{\\overline{Ω_{0}}}{2} & E_{2} + ω_{3} & - \\frac{Ω_{1}}{2} & - \\frac{Ω_{2}}{2} & - \\frac{Ω_{3}}{2}\\\\0 & 0 & - \\frac{\\overline{Ω_{1}}}{2} & E_{3} - ω_{1} + ω_{3} & 0 & 0\\\\0 & 0 & - \\frac{\\overline{Ω_{2}}}{2} & 0 & E_{4} - ω_{2} + ω_{3} & 0\\\\0 & 0 & - \\frac{\\overline{Ω_{3}}}{2} & 0 & 0 & E_{5}\\end{matrix}\\right]$"
      ],
      "text/plain": [
       "Matrix([\n",
       "[E0,                0,                0,            0,            0,     0],\n",
       "[ 0,     E1 + ω0 + ω3,            -Ω0/2,            0,            0,     0],\n",
       "[ 0, -conjugate(Ω0)/2,          E2 + ω3,        -Ω1/2,        -Ω2/2, -Ω3/2],\n",
       "[ 0,                0, -conjugate(Ω1)/2, E3 - ω1 + ω3,            0,     0],\n",
       "[ 0,                0, -conjugate(Ω2)/2,            0, E4 - ω2 + ω3,     0],\n",
       "[ 0,                0, -conjugate(Ω3)/2,            0,            0,    E5]])"
      ]
     },
     "execution_count": 48,
     "metadata": {},
     "output_type": "execute_result"
    }
   ],
   "source": [
    "ham.eqn_transform()\n",
    "ham.transformed"
   ]
  },
  {
   "cell_type": "code",
   "execution_count": 49,
   "metadata": {},
   "outputs": [
    {
     "data": {
      "text/latex": [
       "$\\displaystyle \\left[\\begin{matrix}E_{0} & 0 & 0 & 0 & 0 & 0\\\\0 & E_{5} - δ_{0} - δ_{3} & - \\frac{Ω_{0}}{2} & 0 & 0 & 0\\\\0 & - \\frac{\\overline{Ω_{0}}}{2} & E_{5} - δ_{3} & - \\frac{Ω_{1}}{2} & - \\frac{Ω_{2}}{2} & - \\frac{Ω_{3}}{2}\\\\0 & 0 & - \\frac{\\overline{Ω_{1}}}{2} & E_{5} + δ_{1} - δ_{3} & 0 & 0\\\\0 & 0 & - \\frac{\\overline{Ω_{2}}}{2} & 0 & E_{5} + δ_{2} - δ_{3} & 0\\\\0 & 0 & - \\frac{\\overline{Ω_{3}}}{2} & 0 & 0 & E_{5}\\end{matrix}\\right]$"
      ],
      "text/plain": [
       "Matrix([\n",
       "[E0,                0,                0,            0,            0,     0],\n",
       "[ 0,     E5 - δ0 - δ3,            -Ω0/2,            0,            0,     0],\n",
       "[ 0, -conjugate(Ω0)/2,          E5 - δ3,        -Ω1/2,        -Ω2/2, -Ω3/2],\n",
       "[ 0,                0, -conjugate(Ω1)/2, E5 + δ1 - δ3,            0,     0],\n",
       "[ 0,                0, -conjugate(Ω2)/2,            0, E5 + δ2 - δ3,     0],\n",
       "[ 0,                0, -conjugate(Ω3)/2,            0,            0,    E5]])"
      ]
     },
     "metadata": {},
     "output_type": "display_data"
    },
    {
     "data": {
      "text/latex": [
       "$\\displaystyle \\left[\\begin{matrix}E_{0} - E_{5} & 0 & 0 & 0 & 0 & 0\\\\0 & - δ_{0} - δ_{3} & - \\frac{Ω_{0}}{2} & 0 & 0 & 0\\\\0 & - \\frac{\\overline{Ω_{0}}}{2} & - δ_{3} & - \\frac{Ω_{1}}{2} & - \\frac{Ω_{2}}{2} & - \\frac{Ω_{3}}{2}\\\\0 & 0 & - \\frac{\\overline{Ω_{1}}}{2} & δ_{1} - δ_{3} & 0 & 0\\\\0 & 0 & - \\frac{\\overline{Ω_{2}}}{2} & 0 & δ_{2} - δ_{3} & 0\\\\0 & 0 & - \\frac{\\overline{Ω_{3}}}{2} & 0 & 0 & 0\\end{matrix}\\right]$"
      ],
      "text/plain": [
       "Matrix([\n",
       "[E0 - E5,                0,                0,       0,       0,     0],\n",
       "[      0,         -δ0 - δ3,            -Ω0/2,       0,       0,     0],\n",
       "[      0, -conjugate(Ω0)/2,              -δ3,   -Ω1/2,   -Ω2/2, -Ω3/2],\n",
       "[      0,                0, -conjugate(Ω1)/2, δ1 - δ3,       0,     0],\n",
       "[      0,                0, -conjugate(Ω2)/2,       0, δ2 - δ3,     0],\n",
       "[      0,                0, -conjugate(Ω3)/2,       0,       0,     0]])"
      ]
     },
     "execution_count": 49,
     "metadata": {},
     "output_type": "execute_result"
    }
   ],
   "source": [
    "ham.define_state_detuning(1, 2, deltas[0])\n",
    "ham.define_state_detuning(2, 3, deltas[1])\n",
    "ham.define_state_detuning(2, 4, deltas[2])\n",
    "ham.define_state_detuning(2, 5, deltas[3])\n",
    "display(ham.transformed)\n",
    "ham.remove_common_energy()\n",
    "ham.transformed"
   ]
  },
  {
   "cell_type": "code",
   "execution_count": 50,
   "metadata": {},
   "outputs": [
    {
     "data": {
      "text/latex": [
       "$\\displaystyle \\left[\\begin{matrix}E_{0} & 0 & 0 & - \\frac{Ω_{0} e^{1.0 i t ω_{0}}}{2} & - \\frac{Ω_{3} e^{1.0 i t ω_{1}}}{2}\\\\0 & E_{1} & 0 & - \\frac{Ω_{1} e^{1.0 i t ω_{0}}}{2} & - \\frac{Ω_{4} e^{1.0 i t ω_{1}}}{2}\\\\0 & 0 & E_{2} & - \\frac{Ω_{2} e^{1.0 i t ω_{0}}}{2} & - \\frac{Ω_{5} e^{1.0 i t ω_{1}}}{2}\\\\- \\frac{e^{- 1.0 i t ω_{0}} \\overline{Ω_{0}}}{2} & - \\frac{e^{- 1.0 i t ω_{0}} \\overline{Ω_{1}}}{2} & - \\frac{e^{- 1.0 i t ω_{0}} \\overline{Ω_{2}}}{2} & E_{3} & 0\\\\- \\frac{e^{- 1.0 i t ω_{1}} \\overline{Ω_{3}}}{2} & - \\frac{e^{- 1.0 i t ω_{1}} \\overline{Ω_{4}}}{2} & - \\frac{e^{- 1.0 i t ω_{1}} \\overline{Ω_{5}}}{2} & 0 & E_{4}\\end{matrix}\\right]$"
      ],
      "text/plain": [
       "Matrix([\n",
       "[                               E0,                                 0,                                 0, -Ω0*exp(1.0*I*t*ω0)/2, -Ω3*exp(1.0*I*t*ω1)/2],\n",
       "[                                0,                                E1,                                 0, -Ω1*exp(1.0*I*t*ω0)/2, -Ω4*exp(1.0*I*t*ω1)/2],\n",
       "[                                0,                                 0,                                E2, -Ω2*exp(1.0*I*t*ω0)/2, -Ω5*exp(1.0*I*t*ω1)/2],\n",
       "[-exp(-1.0*I*t*ω0)*conjugate(Ω0)/2, -exp(-1.0*I*t*ω0)*conjugate(Ω1)/2, -exp(-1.0*I*t*ω0)*conjugate(Ω2)/2,                    E3,                     0],\n",
       "[-exp(-1.0*I*t*ω1)*conjugate(Ω3)/2, -exp(-1.0*I*t*ω1)*conjugate(Ω4)/2, -exp(-1.0*I*t*ω1)*conjugate(Ω5)/2,                     0,                    E4]])"
      ]
     },
     "metadata": {},
     "output_type": "display_data"
    },
    {
     "data": {
      "text/latex": [
       "$\\displaystyle \\left[\\begin{matrix}E_{0} + ω_{1} & 0 & 0 & - \\frac{Ω_{0}}{2} & - \\frac{Ω_{3}}{2}\\\\0 & E_{1} + ω_{1} & 0 & - \\frac{Ω_{1}}{2} & - \\frac{Ω_{4}}{2}\\\\0 & 0 & E_{2} + ω_{1} & - \\frac{Ω_{2}}{2} & - \\frac{Ω_{5}}{2}\\\\- \\frac{\\overline{Ω_{0}}}{2} & - \\frac{\\overline{Ω_{1}}}{2} & - \\frac{\\overline{Ω_{2}}}{2} & E_{3} - ω_{0} + ω_{1} & 0\\\\- \\frac{\\overline{Ω_{3}}}{2} & - \\frac{\\overline{Ω_{4}}}{2} & - \\frac{\\overline{Ω_{5}}}{2} & 0 & E_{4}\\end{matrix}\\right]$"
      ],
      "text/plain": [
       "Matrix([\n",
       "[         E0 + ω1,                0,                0,        -Ω0/2, -Ω3/2],\n",
       "[               0,          E1 + ω1,                0,        -Ω1/2, -Ω4/2],\n",
       "[               0,                0,          E2 + ω1,        -Ω2/2, -Ω5/2],\n",
       "[-conjugate(Ω0)/2, -conjugate(Ω1)/2, -conjugate(Ω2)/2, E3 - ω0 + ω1,     0],\n",
       "[-conjugate(Ω3)/2, -conjugate(Ω4)/2, -conjugate(Ω5)/2,            0,    E4]])"
      ]
     },
     "metadata": {},
     "output_type": "display_data"
    },
    {
     "data": {
      "text/latex": [
       "$\\displaystyle \\left[\\begin{matrix}E_{0} - E_{1} + E_{4} - δ_{1} & 0 & 0 & - \\frac{Ω_{0}}{2} & - \\frac{Ω_{3}}{2}\\\\0 & E_{4} - δ_{1} & 0 & - \\frac{Ω_{1}}{2} & - \\frac{Ω_{4}}{2}\\\\0 & 0 & - E_{1} + E_{2} + E_{4} - δ_{1} & - \\frac{Ω_{2}}{2} & - \\frac{Ω_{5}}{2}\\\\- \\frac{\\overline{Ω_{0}}}{2} & - \\frac{\\overline{Ω_{1}}}{2} & - \\frac{\\overline{Ω_{2}}}{2} & E_{4} + δ_{0} - δ_{1} & 0\\\\- \\frac{\\overline{Ω_{3}}}{2} & - \\frac{\\overline{Ω_{4}}}{2} & - \\frac{\\overline{Ω_{5}}}{2} & 0 & E_{4}\\end{matrix}\\right]$"
      ],
      "text/plain": [
       "Matrix([\n",
       "[E0 - E1 + E4 - δ1,                0,                  0,        -Ω0/2, -Ω3/2],\n",
       "[                0,          E4 - δ1,                  0,        -Ω1/2, -Ω4/2],\n",
       "[                0,                0, -E1 + E2 + E4 - δ1,        -Ω2/2, -Ω5/2],\n",
       "[ -conjugate(Ω0)/2, -conjugate(Ω1)/2,   -conjugate(Ω2)/2, E4 + δ0 - δ1,     0],\n",
       "[ -conjugate(Ω3)/2, -conjugate(Ω4)/2,   -conjugate(Ω5)/2,            0,    E4]])"
      ]
     },
     "metadata": {},
     "output_type": "display_data"
    },
    {
     "data": {
      "text/latex": [
       "$\\displaystyle \\left[\\begin{matrix}E_{0} - E_{1} - δ_{1} & 0 & 0 & - \\frac{Ω_{0}}{2} & - \\frac{Ω_{3}}{2}\\\\0 & - δ_{1} & 0 & - \\frac{Ω_{1}}{2} & - \\frac{Ω_{4}}{2}\\\\0 & 0 & - E_{1} + E_{2} - δ_{1} & - \\frac{Ω_{2}}{2} & - \\frac{Ω_{5}}{2}\\\\- \\frac{\\overline{Ω_{0}}}{2} & - \\frac{\\overline{Ω_{1}}}{2} & - \\frac{\\overline{Ω_{2}}}{2} & δ_{0} - δ_{1} & 0\\\\- \\frac{\\overline{Ω_{3}}}{2} & - \\frac{\\overline{Ω_{4}}}{2} & - \\frac{\\overline{Ω_{5}}}{2} & 0 & 0\\end{matrix}\\right]$"
      ],
      "text/plain": [
       "Matrix([\n",
       "[    E0 - E1 - δ1,                0,                0,   -Ω0/2, -Ω3/2],\n",
       "[               0,              -δ1,                0,   -Ω1/2, -Ω4/2],\n",
       "[               0,                0,    -E1 + E2 - δ1,   -Ω2/2, -Ω5/2],\n",
       "[-conjugate(Ω0)/2, -conjugate(Ω1)/2, -conjugate(Ω2)/2, δ0 - δ1,     0],\n",
       "[-conjugate(Ω3)/2, -conjugate(Ω4)/2, -conjugate(Ω5)/2,       0,     0]])"
      ]
     },
     "metadata": {},
     "output_type": "display_data"
    }
   ],
   "source": [
    "ham = Hamiltonian(5)\n",
    "ham.add_manifold_coupling(\n",
    "    [0, 1, 2], [3, 3, 3], smp.symbols(\"Ω0:3\"), smp.Symbol(\"ω0\", real=True)\n",
    ")\n",
    "ham.add_manifold_coupling(\n",
    "    [0, 1, 2], [4, 4, 4], smp.symbols(\"Ω3:6\"), smp.Symbol(\"ω1\", real=True)\n",
    ")\n",
    "display(ham.hamiltonian)\n",
    "ham.eqn_transform()\n",
    "display(ham.transformed)\n",
    "\n",
    "ham.define_state_detuning(1, 3, smp.Symbol(\"δ0\", real=True))\n",
    "ham.define_state_detuning(1, 4, smp.Symbol(\"δ1\", real=True))\n",
    "\n",
    "display(ham.transformed)\n",
    "\n",
    "ham.remove_common_energy()\n",
    "\n",
    "display(ham.transformed)"
   ]
  },
  {
   "cell_type": "code",
   "execution_count": 51,
   "metadata": {},
   "outputs": [
    {
     "data": {
      "text/latex": [
       "$\\displaystyle \\left[\\begin{matrix}E_{0} & 0 & - \\frac{Ω_{0} e^{1.0 i t ω_{0}}}{2} & - \\frac{Ω_{2} e^{1.0 i t ω_{0}}}{2} & 0 & 0\\\\0 & E_{1} & - \\frac{Ω_{1} e^{1.0 i t ω_{0}}}{2} & - \\frac{Ω_{3} e^{1.0 i t ω_{0}}}{2} & 0 & 0\\\\- \\frac{e^{- 1.0 i t ω_{0}} \\overline{Ω_{0}}}{2} & - \\frac{e^{- 1.0 i t ω_{0}} \\overline{Ω_{1}}}{2} & E_{2} & 0 & - \\frac{Ω_{4} e^{1.0 i t ω_{1}}}{2} & - \\frac{Ω_{6} e^{1.0 i t ω_{1}}}{2}\\\\- \\frac{e^{- 1.0 i t ω_{0}} \\overline{Ω_{2}}}{2} & - \\frac{e^{- 1.0 i t ω_{0}} \\overline{Ω_{3}}}{2} & 0 & E_{3} & - \\frac{Ω_{5} e^{1.0 i t ω_{1}}}{2} & - \\frac{Ω_{7} e^{1.0 i t ω_{1}}}{2}\\\\0 & 0 & - \\frac{e^{- 1.0 i t ω_{1}} \\overline{Ω_{4}}}{2} & - \\frac{e^{- 1.0 i t ω_{1}} \\overline{Ω_{5}}}{2} & E_{4} & 0\\\\0 & 0 & - \\frac{e^{- 1.0 i t ω_{1}} \\overline{Ω_{6}}}{2} & - \\frac{e^{- 1.0 i t ω_{1}} \\overline{Ω_{7}}}{2} & 0 & E_{5}\\end{matrix}\\right]$"
      ],
      "text/plain": [
       "Matrix([\n",
       "[                               E0,                                 0,             -Ω0*exp(1.0*I*t*ω0)/2,             -Ω2*exp(1.0*I*t*ω0)/2,                     0,                     0],\n",
       "[                                0,                                E1,             -Ω1*exp(1.0*I*t*ω0)/2,             -Ω3*exp(1.0*I*t*ω0)/2,                     0,                     0],\n",
       "[-exp(-1.0*I*t*ω0)*conjugate(Ω0)/2, -exp(-1.0*I*t*ω0)*conjugate(Ω1)/2,                                E2,                                 0, -Ω4*exp(1.0*I*t*ω1)/2, -Ω6*exp(1.0*I*t*ω1)/2],\n",
       "[-exp(-1.0*I*t*ω0)*conjugate(Ω2)/2, -exp(-1.0*I*t*ω0)*conjugate(Ω3)/2,                                 0,                                E3, -Ω5*exp(1.0*I*t*ω1)/2, -Ω7*exp(1.0*I*t*ω1)/2],\n",
       "[                                0,                                 0, -exp(-1.0*I*t*ω1)*conjugate(Ω4)/2, -exp(-1.0*I*t*ω1)*conjugate(Ω5)/2,                    E4,                     0],\n",
       "[                                0,                                 0, -exp(-1.0*I*t*ω1)*conjugate(Ω6)/2, -exp(-1.0*I*t*ω1)*conjugate(Ω7)/2,                     0,                    E5]])"
      ]
     },
     "metadata": {},
     "output_type": "display_data"
    },
    {
     "data": {
      "text/latex": [
       "$\\displaystyle \\left[\\begin{matrix}E_{0} + ω_{0} + ω_{1} & 0 & - \\frac{Ω_{0}}{2} & - \\frac{Ω_{2}}{2} & 0 & 0\\\\0 & E_{1} + ω_{0} + ω_{1} & - \\frac{Ω_{1}}{2} & - \\frac{Ω_{3}}{2} & 0 & 0\\\\- \\frac{\\overline{Ω_{0}}}{2} & - \\frac{\\overline{Ω_{1}}}{2} & E_{2} + ω_{1} & 0 & - \\frac{Ω_{4}}{2} & - \\frac{Ω_{6}}{2}\\\\- \\frac{\\overline{Ω_{2}}}{2} & - \\frac{\\overline{Ω_{3}}}{2} & 0 & E_{3} + ω_{1} & - \\frac{Ω_{5}}{2} & - \\frac{Ω_{7}}{2}\\\\0 & 0 & - \\frac{\\overline{Ω_{4}}}{2} & - \\frac{\\overline{Ω_{5}}}{2} & E_{4} & 0\\\\0 & 0 & - \\frac{\\overline{Ω_{6}}}{2} & - \\frac{\\overline{Ω_{7}}}{2} & 0 & E_{5}\\end{matrix}\\right]$"
      ],
      "text/plain": [
       "Matrix([\n",
       "[    E0 + ω0 + ω1,                0,            -Ω0/2,            -Ω2/2,     0,     0],\n",
       "[               0,     E1 + ω0 + ω1,            -Ω1/2,            -Ω3/2,     0,     0],\n",
       "[-conjugate(Ω0)/2, -conjugate(Ω1)/2,          E2 + ω1,                0, -Ω4/2, -Ω6/2],\n",
       "[-conjugate(Ω2)/2, -conjugate(Ω3)/2,                0,          E3 + ω1, -Ω5/2, -Ω7/2],\n",
       "[               0,                0, -conjugate(Ω4)/2, -conjugate(Ω5)/2,    E4,     0],\n",
       "[               0,                0, -conjugate(Ω6)/2, -conjugate(Ω7)/2,     0,    E5]])"
      ]
     },
     "metadata": {},
     "output_type": "display_data"
    },
    {
     "data": {
      "text/latex": [
       "$\\displaystyle \\left[\\begin{matrix}E_{0} - E_{1} + E_{4} - δ_{0} - δ_{1} & 0 & - \\frac{Ω_{0}}{2} & - \\frac{Ω_{2}}{2} & 0 & 0\\\\0 & E_{4} - δ_{0} - δ_{1} & - \\frac{Ω_{1}}{2} & - \\frac{Ω_{3}}{2} & 0 & 0\\\\- \\frac{\\overline{Ω_{0}}}{2} & - \\frac{\\overline{Ω_{1}}}{2} & E_{4} - δ_{1} & 0 & - \\frac{Ω_{4}}{2} & - \\frac{Ω_{6}}{2}\\\\- \\frac{\\overline{Ω_{2}}}{2} & - \\frac{\\overline{Ω_{3}}}{2} & 0 & - E_{2} + E_{3} + E_{4} - δ_{1} & - \\frac{Ω_{5}}{2} & - \\frac{Ω_{7}}{2}\\\\0 & 0 & - \\frac{\\overline{Ω_{4}}}{2} & - \\frac{\\overline{Ω_{5}}}{2} & E_{4} & 0\\\\0 & 0 & - \\frac{\\overline{Ω_{6}}}{2} & - \\frac{\\overline{Ω_{7}}}{2} & 0 & E_{5}\\end{matrix}\\right]$"
      ],
      "text/plain": [
       "Matrix([\n",
       "[E0 - E1 + E4 - δ0 - δ1,                0,            -Ω0/2,              -Ω2/2,     0,     0],\n",
       "[                     0,     E4 - δ0 - δ1,            -Ω1/2,              -Ω3/2,     0,     0],\n",
       "[      -conjugate(Ω0)/2, -conjugate(Ω1)/2,          E4 - δ1,                  0, -Ω4/2, -Ω6/2],\n",
       "[      -conjugate(Ω2)/2, -conjugate(Ω3)/2,                0, -E2 + E3 + E4 - δ1, -Ω5/2, -Ω7/2],\n",
       "[                     0,                0, -conjugate(Ω4)/2,   -conjugate(Ω5)/2,    E4,     0],\n",
       "[                     0,                0, -conjugate(Ω6)/2,   -conjugate(Ω7)/2,     0,    E5]])"
      ]
     },
     "metadata": {},
     "output_type": "display_data"
    },
    {
     "data": {
      "text/latex": [
       "$\\displaystyle \\left[\\begin{matrix}E_{0} - E_{1} - δ_{0} - δ_{1} & 0 & - \\frac{Ω_{0}}{2} & - \\frac{Ω_{2}}{2} & 0 & 0\\\\0 & - δ_{0} - δ_{1} & - \\frac{Ω_{1}}{2} & - \\frac{Ω_{3}}{2} & 0 & 0\\\\- \\frac{\\overline{Ω_{0}}}{2} & - \\frac{\\overline{Ω_{1}}}{2} & - δ_{1} & 0 & - \\frac{Ω_{4}}{2} & - \\frac{Ω_{6}}{2}\\\\- \\frac{\\overline{Ω_{2}}}{2} & - \\frac{\\overline{Ω_{3}}}{2} & 0 & - E_{2} + E_{3} - δ_{1} & - \\frac{Ω_{5}}{2} & - \\frac{Ω_{7}}{2}\\\\0 & 0 & - \\frac{\\overline{Ω_{4}}}{2} & - \\frac{\\overline{Ω_{5}}}{2} & 0 & 0\\\\0 & 0 & - \\frac{\\overline{Ω_{6}}}{2} & - \\frac{\\overline{Ω_{7}}}{2} & 0 & - E_{4} + E_{5}\\end{matrix}\\right]$"
      ],
      "text/plain": [
       "Matrix([\n",
       "[E0 - E1 - δ0 - δ1,                0,            -Ω0/2,            -Ω2/2,     0,        0],\n",
       "[                0,         -δ0 - δ1,            -Ω1/2,            -Ω3/2,     0,        0],\n",
       "[ -conjugate(Ω0)/2, -conjugate(Ω1)/2,              -δ1,                0, -Ω4/2,    -Ω6/2],\n",
       "[ -conjugate(Ω2)/2, -conjugate(Ω3)/2,                0,    -E2 + E3 - δ1, -Ω5/2,    -Ω7/2],\n",
       "[                0,                0, -conjugate(Ω4)/2, -conjugate(Ω5)/2,     0,        0],\n",
       "[                0,                0, -conjugate(Ω6)/2, -conjugate(Ω7)/2,     0, -E4 + E5]])"
      ]
     },
     "metadata": {},
     "output_type": "display_data"
    }
   ],
   "source": [
    "ham = Hamiltonian(6)\n",
    "ham.add_manifold_coupling(\n",
    "    [0, 1, 0, 1], [2, 2, 3, 3], smp.symbols(\"Ω0:4\"), smp.Symbol(\"ω0\", real=True)\n",
    ")\n",
    "ham.add_manifold_coupling(\n",
    "    [2, 3, 2, 3], [4, 4, 5, 5], smp.symbols(\"Ω4:8\"), smp.Symbol(\"ω1\", real=True)\n",
    ")\n",
    "display(ham.hamiltonian)\n",
    "ham.eqn_transform()\n",
    "display(ham.transformed)\n",
    "\n",
    "ham.define_state_detuning(1, 2, smp.Symbol(\"δ0\", real=True))\n",
    "ham.define_state_detuning(2, 4, smp.Symbol(\"δ1\", real=True))\n",
    "\n",
    "display(ham.transformed)\n",
    "\n",
    "ham.remove_common_energy()\n",
    "\n",
    "display(ham.transformed)"
   ]
  },
  {
   "cell_type": "code",
   "execution_count": 52,
   "metadata": {},
   "outputs": [
    {
     "data": {
      "text/latex": [
       "$\\displaystyle \\left[\\begin{matrix}E_{0} & 0 & 0 & 0 & - \\frac{Ω_{0} e^{1.0 i t ω_{0}}}{2} & 0\\\\0 & E_{1} & 0 & - \\frac{Ω_{2} e^{1.0 i t ω_{0}}}{2} & 0 & - \\frac{Ω_{1} e^{1.0 i t ω_{0}}}{2}\\\\0 & 0 & E_{2} & 0 & - \\frac{Ω_{3} e^{1.0 i t ω_{0}}}{2} & 0\\\\0 & - \\frac{e^{- 1.0 i t ω_{0}} \\overline{Ω_{2}}}{2} & 0 & E_{3} & 0 & 0\\\\- \\frac{e^{- 1.0 i t ω_{0}} \\overline{Ω_{0}}}{2} & 0 & - \\frac{e^{- 1.0 i t ω_{0}} \\overline{Ω_{3}}}{2} & 0 & E_{4} & 0\\\\0 & - \\frac{e^{- 1.0 i t ω_{0}} \\overline{Ω_{1}}}{2} & 0 & 0 & 0 & E_{5}\\end{matrix}\\right]$"
      ],
      "text/plain": [
       "Matrix([\n",
       "[                               E0,                                 0,                                 0,                     0, -Ω0*exp(1.0*I*t*ω0)/2,                     0],\n",
       "[                                0,                                E1,                                 0, -Ω2*exp(1.0*I*t*ω0)/2,                     0, -Ω1*exp(1.0*I*t*ω0)/2],\n",
       "[                                0,                                 0,                                E2,                     0, -Ω3*exp(1.0*I*t*ω0)/2,                     0],\n",
       "[                                0, -exp(-1.0*I*t*ω0)*conjugate(Ω2)/2,                                 0,                    E3,                     0,                     0],\n",
       "[-exp(-1.0*I*t*ω0)*conjugate(Ω0)/2,                                 0, -exp(-1.0*I*t*ω0)*conjugate(Ω3)/2,                     0,                    E4,                     0],\n",
       "[                                0, -exp(-1.0*I*t*ω0)*conjugate(Ω1)/2,                                 0,                     0,                     0,                    E5]])"
      ]
     },
     "metadata": {},
     "output_type": "display_data"
    },
    {
     "data": {
      "text/latex": [
       "$\\displaystyle \\left[\\begin{matrix}E_{0} + ω_{0} & 0 & 0 & 0 & - \\frac{Ω_{0}}{2} & 0\\\\0 & E_{1} + ω_{0} & 0 & - \\frac{Ω_{2}}{2} & 0 & - \\frac{Ω_{1}}{2}\\\\0 & 0 & E_{2} + ω_{0} & 0 & - \\frac{Ω_{3}}{2} & 0\\\\0 & - \\frac{\\overline{Ω_{2}}}{2} & 0 & E_{3} & 0 & 0\\\\- \\frac{\\overline{Ω_{0}}}{2} & 0 & - \\frac{\\overline{Ω_{3}}}{2} & 0 & E_{4} & 0\\\\0 & - \\frac{\\overline{Ω_{1}}}{2} & 0 & 0 & 0 & E_{5}\\end{matrix}\\right]$"
      ],
      "text/plain": [
       "Matrix([\n",
       "[         E0 + ω0,                0,                0,     0, -Ω0/2,     0],\n",
       "[               0,          E1 + ω0,                0, -Ω2/2,     0, -Ω1/2],\n",
       "[               0,                0,          E2 + ω0,     0, -Ω3/2,     0],\n",
       "[               0, -conjugate(Ω2)/2,                0,    E3,     0,     0],\n",
       "[-conjugate(Ω0)/2,                0, -conjugate(Ω3)/2,     0,    E4,     0],\n",
       "[               0, -conjugate(Ω1)/2,                0,     0,     0,    E5]])"
      ]
     },
     "metadata": {},
     "output_type": "display_data"
    },
    {
     "data": {
      "text/latex": [
       "$\\displaystyle \\left[\\begin{matrix}E_{4} - δ_{0} & 0 & 0 & 0 & - \\frac{Ω_{0}}{2} & 0\\\\0 & - E_{0} + E_{1} + E_{4} - δ_{0} & 0 & - \\frac{Ω_{2}}{2} & 0 & - \\frac{Ω_{1}}{2}\\\\0 & 0 & - E_{0} + E_{2} + E_{4} - δ_{0} & 0 & - \\frac{Ω_{3}}{2} & 0\\\\0 & - \\frac{\\overline{Ω_{2}}}{2} & 0 & E_{3} & 0 & 0\\\\- \\frac{\\overline{Ω_{0}}}{2} & 0 & - \\frac{\\overline{Ω_{3}}}{2} & 0 & E_{4} & 0\\\\0 & - \\frac{\\overline{Ω_{1}}}{2} & 0 & 0 & 0 & E_{5}\\end{matrix}\\right]$"
      ],
      "text/plain": [
       "Matrix([\n",
       "[         E4 - δ0,                  0,                  0,     0, -Ω0/2,     0],\n",
       "[               0, -E0 + E1 + E4 - δ0,                  0, -Ω2/2,     0, -Ω1/2],\n",
       "[               0,                  0, -E0 + E2 + E4 - δ0,     0, -Ω3/2,     0],\n",
       "[               0,   -conjugate(Ω2)/2,                  0,    E3,     0,     0],\n",
       "[-conjugate(Ω0)/2,                  0,   -conjugate(Ω3)/2,     0,    E4,     0],\n",
       "[               0,   -conjugate(Ω1)/2,                  0,     0,     0,    E5]])"
      ]
     },
     "metadata": {},
     "output_type": "display_data"
    },
    {
     "data": {
      "text/latex": [
       "$\\displaystyle \\left[\\begin{matrix}- δ_{0} & 0 & 0 & 0 & - \\frac{Ω_{0}}{2} & 0\\\\0 & - E_{0} + E_{1} - δ_{0} & 0 & - \\frac{Ω_{2}}{2} & 0 & - \\frac{Ω_{1}}{2}\\\\0 & 0 & - E_{0} + E_{2} - δ_{0} & 0 & - \\frac{Ω_{3}}{2} & 0\\\\0 & - \\frac{\\overline{Ω_{2}}}{2} & 0 & E_{3} - E_{4} & 0 & 0\\\\- \\frac{\\overline{Ω_{0}}}{2} & 0 & - \\frac{\\overline{Ω_{3}}}{2} & 0 & 0 & 0\\\\0 & - \\frac{\\overline{Ω_{1}}}{2} & 0 & 0 & 0 & - E_{4} + E_{5}\\end{matrix}\\right]$"
      ],
      "text/plain": [
       "Matrix([\n",
       "[             -δ0,                0,                0,       0, -Ω0/2,        0],\n",
       "[               0,    -E0 + E1 - δ0,                0,   -Ω2/2,     0,    -Ω1/2],\n",
       "[               0,                0,    -E0 + E2 - δ0,       0, -Ω3/2,        0],\n",
       "[               0, -conjugate(Ω2)/2,                0, E3 - E4,     0,        0],\n",
       "[-conjugate(Ω0)/2,                0, -conjugate(Ω3)/2,       0,     0,        0],\n",
       "[               0, -conjugate(Ω1)/2,                0,       0,     0, -E4 + E5]])"
      ]
     },
     "metadata": {},
     "output_type": "display_data"
    }
   ],
   "source": [
    "ham = Hamiltonian(6)\n",
    "ham.add_manifold_coupling(\n",
    "    [0, 1], [4, 5], smp.symbols(\"Ω0:2\"), smp.Symbol(\"ω0\", real=True)\n",
    ")\n",
    "ham.add_manifold_coupling(\n",
    "    [1, 2], [3, 4], smp.symbols(\"Ω2:4\"), smp.Symbol(\"ω0\", real=True)\n",
    ")\n",
    "display(ham.hamiltonian)\n",
    "ham.eqn_transform()\n",
    "display(ham.transformed)\n",
    "\n",
    "ham.define_state_detuning(0, 4, smp.Symbol(\"δ0\", real=True))\n",
    "\n",
    "display(ham.transformed)\n",
    "\n",
    "ham.remove_common_energy()\n",
    "\n",
    "display(ham.transformed)"
   ]
  },
  {
   "cell_type": "code",
   "execution_count": 53,
   "metadata": {},
   "outputs": [
    {
     "data": {
      "text/plain": [
       "(ωl1,)"
      ]
     },
     "execution_count": 53,
     "metadata": {},
     "output_type": "execute_result"
    }
   ],
   "source": [
    "free_parameters"
   ]
  },
  {
   "cell_type": "code",
   "execution_count": 54,
   "metadata": {},
   "outputs": [
    {
     "data": {
      "text/plain": [
       "[(δ0, 0),\n",
       " (δ1, 0),\n",
       " (δ2, 0),\n",
       " (Γ0, 0.5),\n",
       " (Γ1, 0.5),\n",
       " (Ω0, sin(t*ωl)/2 + 1),\n",
       " (Ω1, sin(t*ωl + 1.57075)/2 + 1),\n",
       " (Ω2, sin(t*ωl + 0.785375)/2 + 1),\n",
       " (ωl, sin(t*ωl1)/5 + 1)]"
      ]
     },
     "execution_count": 54,
     "metadata": {},
     "output_type": "execute_result"
    }
   ],
   "source": [
    "replacements"
   ]
  },
  {
   "cell_type": "code",
   "execution_count": 55,
   "metadata": {},
   "outputs": [],
   "source": [
    "wl = smp.Symbol(\"ωl\", real=True)\n",
    "replacements_new = [\n",
    "    (smp.Symbol(\"Ω0\"), smp.sin(t * wl) / 2 + 1),\n",
    "    (smp.Symbol(\"Ω1\"), smp.sin(t * wl + 1.57075) / 2 + 1),\n",
    "    (smp.Symbol(\"Ω2\"), smp.sin(t * wl + 0.785375) / 2 + 1),\n",
    "    (wl, smp.sin(t * smp.Symbol(\"ωl1\", real=True)) / 5 + 1),\n",
    "]"
   ]
  },
  {
   "cell_type": "code",
   "execution_count": 56,
   "metadata": {},
   "outputs": [
    {
     "name": "stdout",
     "output_type": "stream",
     "text": [
      "function lindblad!(du, u, p, t)\n",
      "    \t@inbounds begin\n",
      "    \t\tΓ0 = p[1]\n",
      "\t\tΓ1 = p[2]\n",
      "\t\tΩ0 = p[3]\n",
      "\t\tΩ1 = p[4]\n",
      "\t\tΩ2 = p[5]\n",
      "\t\tδ0 = p[6]\n",
      "\t\tδ1 = p[7]\n",
      "\t\tδ2 = p[8]\n",
      "\t\tωl1 = p[9]\n",
      "\t\tωl = sin(t*ωl1)/5 + 1\n",
      "\t\tΩ0 = sin(t*ωl)/2 + 1\n",
      "\t\tΩ1 = sin(t*ωl + 1.57075)/2 + 1\n",
      "\t\tΩ2 = sin(t*ωl + 0.785375)/2 + 1\n",
      "\t\tdu[1,1] = Γ1*u[5,5]\n",
      "\t\tdu[1,2] = 1.0im*(-(δ0 + δ2)*u[1,2] - u[1,3]*conj(Ω0)/2)\n",
      "\t\tdu[1,3] = 1.0im*(-Ω0*u[1,2]/2 - δ2*u[1,3] - u[1,4]*conj(Ω1)/2 - u[1,5]*conj(Ω2)/2)\n",
      "\t\tdu[1,4] = 1.0im*(-Ω1*u[1,3]/2 + (δ1 - δ2)*u[1,4])\n",
      "\t\tdu[1,5] = -1.0im*Ω2*u[1,3]/2 - (Γ0 + Γ1)*u[1,5]/2\n",
      "\t\tdu[2,2] = 1.0im*(Ω0*conj(u[2,3]) - u[2,3]*conj(Ω0))/2\n",
      "\t\tdu[2,3] = 1.0im*(-Ω0*u[2,2]/2 + Ω0*u[3,3]/2 + δ0*u[2,3] - u[2,4]*conj(Ω1)/2 - u[2,5]*conj(Ω2)/2)\n",
      "\t\tdu[2,4] = 1.0im*(Ω0*u[3,4]/2 - Ω1*u[2,3]/2 + δ0*u[2,4] + δ1*u[2,4])\n",
      "\t\tdu[2,5] = -(Γ0 + Γ1)*u[2,5]/2 + 1.0im*(Ω0*u[3,5] - Ω2*u[2,3] + 2*(δ0 + δ2)*u[2,5])/2\n",
      "\t\tdu[3,3] = Γ0*u[5,5] + 1.0im*(-Ω0*conj(u[2,3]) + Ω1*conj(u[3,4]) + Ω2*conj(u[3,5]) + u[2,3]*conj(Ω0) - u[3,4]*conj(Ω1) - u[3,5]*conj(Ω2))/2\n",
      "\t\tdu[3,4] = 1.0im*(-Ω1*u[3,3]/2 + Ω1*u[4,4]/2 + Ω2*conj(u[4,5])/2 + δ1*u[3,4] + u[2,4]*conj(Ω0)/2)\n",
      "\t\tdu[3,5] = -(Γ0 + Γ1)*u[3,5]/2 + 1.0im*(Ω1*u[4,5] - Ω2*u[3,3] + Ω2*u[5,5] + 2*δ2*u[3,5] + u[2,5]*conj(Ω0))/2\n",
      "\t\tdu[4,4] = 1.0im*(-Ω1*conj(u[3,4]) + u[3,4]*conj(Ω1))/2\n",
      "\t\tdu[4,5] = -(Γ0 + Γ1)*u[4,5]/2 - 1.0im*(Ω2*conj(u[3,4]) + 2*(δ1 - δ2)*u[4,5] - u[3,5]*conj(Ω1))/2\n",
      "\t\tdu[5,5] = -(Γ0 + Γ1)*u[5,5] - 1.0im*(Ω2*conj(u[3,5]) - u[3,5]*conj(Ω2))/2\n",
      "\tend\n",
      "\tnothing\n",
      "end\n"
     ]
    }
   ],
   "source": [
    "code, free_parameters, compound_parameters, fixed_parameters = (\n",
    "    generate_lindblad_function_julia(\n",
    "        bloch.equations.rhs, bloch.density_matrix, replacements_new\n",
    "    )\n",
    ")\n",
    "print(code)"
   ]
  },
  {
   "cell_type": "code",
   "execution_count": 76,
   "metadata": {},
   "outputs": [],
   "source": [
    "wl = smp.Symbol(\"ωl\", real=True)\n",
    "replacements_new = [\n",
    "    (smp.Symbol(\"Ω0\", complex=True), smp.sin(t * wl) / 2 + 1),\n",
    "    (smp.Symbol(\"Ω1\", complex=True), smp.sin(t * wl + 1.57075) / 2 + 1),\n",
    "    (smp.Symbol(\"Ω2\", complex=True), smp.sin(t * wl + 0.785375) / 2 + 1),\n",
    "    (wl, \"sin(t*ωl1)/5 + 1\"),\n",
    "]\n"
   ]
  },
  {
   "cell_type": "code",
   "execution_count": 77,
   "metadata": {},
   "outputs": [
    {
     "name": "stdout",
     "output_type": "stream",
     "text": [
      "function lindblad!(du, u, p, t)\n",
      "    \t@inbounds begin\n",
      "    \t\tΓ0 = p[1]\n",
      "\t\tΓ1 = p[2]\n",
      "\t\tδ0 = p[3]\n",
      "\t\tδ1 = p[4]\n",
      "\t\tδ2 = p[5]\n",
      "\t\tωl1 = p[6]\n",
      "\t\tωl = sin(t*ωl1)/5 + 1\n",
      "\t\tΩ0 = sin(t*ωl)/2 + 1\n",
      "\t\tΩ1 = sin(t*ωl + 1.57075)/2 + 1\n",
      "\t\tΩ2 = sin(t*ωl + 0.785375)/2 + 1\n",
      "\t\tdu[1,1] = Γ1*u[5,5]\n",
      "\t\tdu[1,2] = 1.0im*(-(δ0 + δ2)*u[1,2] - u[1,3]*conj(Ω0)/2)\n",
      "\t\tdu[1,3] = 1.0im*(-Ω0*u[1,2]/2 - δ2*u[1,3] - u[1,4]*conj(Ω1)/2 - u[1,5]*conj(Ω2)/2)\n",
      "\t\tdu[1,4] = 1.0im*(-Ω1*u[1,3]/2 + (δ1 - δ2)*u[1,4])\n",
      "\t\tdu[1,5] = -1.0im*Ω2*u[1,3]/2 - (Γ0 + Γ1)*u[1,5]/2\n",
      "\t\tdu[2,2] = 1.0im*(Ω0*conj(u[2,3]) - u[2,3]*conj(Ω0))/2\n",
      "\t\tdu[2,3] = 1.0im*(-Ω0*u[2,2]/2 + Ω0*u[3,3]/2 + δ0*u[2,3] - u[2,4]*conj(Ω1)/2 - u[2,5]*conj(Ω2)/2)\n",
      "\t\tdu[2,4] = 1.0im*(Ω0*u[3,4]/2 - Ω1*u[2,3]/2 + δ0*u[2,4] + δ1*u[2,4])\n",
      "\t\tdu[2,5] = -(Γ0 + Γ1)*u[2,5]/2 + 1.0im*(Ω0*u[3,5] - Ω2*u[2,3] + 2*(δ0 + δ2)*u[2,5])/2\n",
      "\t\tdu[3,3] = Γ0*u[5,5] + 1.0im*(-Ω0*conj(u[2,3]) + Ω1*conj(u[3,4]) + Ω2*conj(u[3,5]) + u[2,3]*conj(Ω0) - u[3,4]*conj(Ω1) - u[3,5]*conj(Ω2))/2\n",
      "\t\tdu[3,4] = 1.0im*(-Ω1*u[3,3]/2 + Ω1*u[4,4]/2 + Ω2*conj(u[4,5])/2 + δ1*u[3,4] + u[2,4]*conj(Ω0)/2)\n",
      "\t\tdu[3,5] = -(Γ0 + Γ1)*u[3,5]/2 + 1.0im*(Ω1*u[4,5] - Ω2*u[3,3] + Ω2*u[5,5] + 2*δ2*u[3,5] + u[2,5]*conj(Ω0))/2\n",
      "\t\tdu[4,4] = 1.0im*(-Ω1*conj(u[3,4]) + u[3,4]*conj(Ω1))/2\n",
      "\t\tdu[4,5] = -(Γ0 + Γ1)*u[4,5]/2 - 1.0im*(Ω2*conj(u[3,4]) + 2*(δ1 - δ2)*u[4,5] - u[3,5]*conj(Ω1))/2\n",
      "\t\tdu[5,5] = -(Γ0 + Γ1)*u[5,5] - 1.0im*(Ω2*conj(u[3,5]) - u[3,5]*conj(Ω2))/2\n",
      "\tend\n",
      "\tnothing\n",
      "end\n"
     ]
    }
   ],
   "source": [
    "code, free_parameters, compound_parameters, fixed_parameters = (\n",
    "    generate_lindblad_function_julia(\n",
    "        bloch.equations.rhs, bloch.density_matrix, replacements_new\n",
    "    )\n",
    ")\n",
    "print(code)\n"
   ]
  },
  {
   "cell_type": "code",
   "execution_count": 108,
   "metadata": {},
   "outputs": [],
   "source": [
    "from numbers import Number\n",
    "import numpy as np\n",
    "import numpy.typing as npt\n",
    "import re\n",
    "\n",
    "\n",
    "class OdeParameters:\n",
    "    def __init__(\n",
    "        self,\n",
    "        free_parameters: Sequence[smp.Symbol],\n",
    "        compound_parameters: Sequence[tuple[smp.Symbol, smp.Expr]],\n",
    "        fixed_parameters: Sequence[tuple[smp.Symbol, Number]],\n",
    "    ) -> None:\n",
    "        self._free_parameters = dict([(str(par), par) for par in free_parameters])\n",
    "        self._compound_parameters = dict(\n",
    "            [(str(par), par) for par, _ in compound_parameters]\n",
    "        )\n",
    "        self._fixed_parameters = dict([(str(par), par) for par, _ in fixed_parameters])\n",
    "\n",
    "        for key, val in fixed_parameters + compound_parameters:\n",
    "            setattr(self, str(key), val)\n",
    "        for key in free_parameters:\n",
    "            setattr(self, str(key), None)\n",
    "\n",
    "    def __repr__(self) -> str:\n",
    "        rep = \"OdeParameters(\"\n",
    "        for par in self._free_parameters:\n",
    "            rep += f\"{par}={getattr(self, par)}, \"\n",
    "        return rep.strip(\", \") + \")\"\n",
    "\n",
    "    def __setattr__(self, name: str, value) -> None:\n",
    "        if name in [\n",
    "            \"_free_parameters\",\n",
    "            \"_compound_parameters\",\n",
    "            \"_fixed_parameters\",\n",
    "        ]:\n",
    "            super(OdeParameters, self).__setattr__(name, value)\n",
    "        elif name in self._free_parameters.keys():\n",
    "            assert not isinstance(\n",
    "                value, smp.Expr\n",
    "            ), \"Cannot change parameter from numeric to str\"\n",
    "            super(OdeParameters, self).__setattr__(name, value)\n",
    "        elif name in self._compound_parameters.keys():\n",
    "            assert isinstance(\n",
    "                value, smp.Expr\n",
    "            ), \"Cannot change parameter from str to numeric\"\n",
    "            super(OdeParameters, self).__setattr__(name, value)\n",
    "        elif name in self._fixed_parameters.keys():\n",
    "            assert not isinstance(value, smp.Expr), \"Cannot change numeric to str\"\n",
    "            super(OdeParameters, self).__setattr__(name, value)\n",
    "        else:\n",
    "            raise AssertionError(\n",
    "                \"Cannot instantiate new parameter on initialized OdeParameters object\"\n",
    "            )\n",
    "\n",
    "    @property\n",
    "    def parameter_values(self) -> dict[smp.Symbol, Number | smp.Expr | smp.Symbol]:\n",
    "        parameter_values: dict[smp.Symbol, Number | smp.Expr | smp.Symbol] = {}\n",
    "        for par_str, par in self._compound_parameters.items():\n",
    "            parameter_values[par] = getattr(self, par_str)\n",
    "        for par_str, par in self._fixed_parameters.items():\n",
    "            parameter_values[par] = getattr(self, par_str)\n",
    "        for par_str, par in self._free_parameters.items():\n",
    "            parameter_values[par] = getattr(self, par_str)\n",
    "        return parameter_values\n",
    "\n",
    "    @property\n",
    "    def fixed_parameters(self) -> dict[smp.Symbol, Number]:\n",
    "        return dict(\n",
    "            [(par, getattr(self, str(par))) for par in self._fixed_parameters.values()]\n",
    "        )\n",
    "\n",
    "    @property\n",
    "    def free_parameters(self) -> dict[smp.Symbol, Number]:\n",
    "        return dict(\n",
    "            [(par, getattr(self, str(par))) for par in self._free_parameters.values()]\n",
    "        )\n",
    "\n",
    "    @property\n",
    "    def compound_parameters(self) -> dict[smp.Symbol, smp.Expr]:\n",
    "        return dict(\n",
    "            [\n",
    "                (par, getattr(self, str(par)))\n",
    "                for par in self._compound_parameters.values()\n",
    "            ]\n",
    "        )\n",
    "\n",
    "    @property\n",
    "    def p(self) -> tuple[Number]:\n",
    "        return tuple([getattr(self, par) for par in self._free_parameters.keys()])\n",
    "\n",
    "    def _time_evolution_compound_parameter(\n",
    "        self, parameter: str, t: npt.NDArray[np.float64]\n",
    "    ) -> npt.NDArray[np.float64]:\n",
    "        expression = self._compound_parameters[parameter]\n",
    "\n",
    "        expression = expression.subs(self.parameter_values)\n",
    "\n",
    "        # vectorize over all function calls dotting (.) function calls, e.g. sin.(t)\n",
    "        # instead of sin(t)\n",
    "        pattern = r\"([a-zA-Z])\\(\"\n",
    "        str_expression = re.sub(pattern, r\"\\1.(\", str(expression))\n",
    "\n",
    "        # vectorize full expression by putting a dot (.) before all mathematical\n",
    "        # operators\n",
    "        pattern = r\"([+\\-*/^=<>])\"\n",
    "        str_expression = re.sub(pattern, r\".\\1\", str_expression)\n",
    "\n",
    "        from juliacall import Main as jl\n",
    "\n",
    "        jl.t = t\n",
    "        return np.array(jl.seval(str_expression))\n"
   ]
  },
  {
   "cell_type": "code",
   "execution_count": 109,
   "metadata": {},
   "outputs": [
    {
     "data": {
      "text/plain": [
       "OdeParameters(Γ0=None, Γ1=None, δ0=None, δ1=None, δ2=None, ωl1=None)"
      ]
     },
     "execution_count": 109,
     "metadata": {},
     "output_type": "execute_result"
    }
   ],
   "source": [
    "odepars = OdeParameters(free_parameters, compound_parameters, fixed_parameters)\n",
    "odepars\n"
   ]
  },
  {
   "cell_type": "code",
   "execution_count": 110,
   "metadata": {},
   "outputs": [],
   "source": [
    "odepars.Γ0 = 1.0\n",
    "odepars.Γ1 = 1.0\n",
    "odepars.δ0 = 0.0\n",
    "odepars.δ1 = 0.0\n",
    "odepars.δ2 = 0.0\n",
    "odepars.ωl1 = 0.5\n"
   ]
  },
  {
   "cell_type": "code",
   "execution_count": 111,
   "metadata": {},
   "outputs": [
    {
     "name": "stdout",
     "output_type": "stream",
     "text": [
      "sin.(t.*(sin.(0.5.*t)./5 .+ 1))./2 .+ 1\n"
     ]
    },
    {
     "data": {
      "text/plain": [
       "array([1.        , 1.05041398, 1.10129074, 1.15203702, 1.20200373,\n",
       "       1.25049417, 1.29677487, 1.3400891 , 1.37967284, 1.41477288,\n",
       "       1.44466666, 1.46868316, 1.4862243 , 1.49678585, 1.49997703,\n",
       "       1.49553804, 1.48335431, 1.46346697, 1.4360787 , 1.40155445,\n",
       "       1.3604168 , 1.31333586, 1.261114  , 1.20466575, 1.14499381,\n",
       "       1.08316189, 1.02026565, 0.95740272, 0.8956433 , 0.83600226,\n",
       "       0.77941395, 0.72671061, 0.67860514, 0.63567859, 0.59837268,\n",
       "       0.56698731, 0.54168282, 0.52248647, 0.50930266, 0.50192599,\n",
       "       0.50005662, 0.50331686, 0.51126847, 0.52342977, 0.53929209,\n",
       "       0.55833497, 0.58003981, 0.60390161, 0.62943879, 0.65620094,\n",
       "       0.68377457, 0.7117871 , 0.73990907, 0.76785494, 0.7953827 ,\n",
       "       0.82229241, 0.848424  , 0.87365457, 0.89789527, 0.92108803,\n",
       "       0.94320222, 0.96423136, 0.98418999, 1.00311076, 1.02104168,\n",
       "       1.03804371, 1.05418854, 1.0695567 , 1.08423575, 1.09831881,\n",
       "       1.11190319, 1.1250891 , 1.13797852, 1.15067406, 1.16327785,\n",
       "       1.17589035, 1.18860908, 1.20152724, 1.21473214, 1.22830341,\n",
       "       1.24231088, 1.25681226, 1.27185035, 1.28744993, 1.30361414,\n",
       "       1.3203205 , 1.33751645, 1.35511441, 1.37298663, 1.39095961,\n",
       "       1.40880866, 1.42625247, 1.44294829, 1.45848806, 1.47239596,\n",
       "       1.48412821, 1.49307568, 1.49857026, 1.49989585, 1.49630486,\n",
       "       1.487041  ])"
      ]
     },
     "execution_count": 111,
     "metadata": {},
     "output_type": "execute_result"
    }
   ],
   "source": [
    "odepars._time_evolution_compound_parameter(\"Ω0\", np.linspace(0, 10, 101))"
   ]
  },
  {
   "cell_type": "code",
   "execution_count": 98,
   "metadata": {},
   "outputs": [],
   "source": [
    "from juliacall import Main as jl"
   ]
  },
  {
   "cell_type": "code",
   "execution_count": 99,
   "metadata": {},
   "outputs": [
    {
     "data": {
      "text/plain": [
       "array([ 0. ,  0.1,  0.2,  0.3,  0.4,  0.5,  0.6,  0.7,  0.8,  0.9,  1. ,\n",
       "        1.1,  1.2,  1.3,  1.4,  1.5,  1.6,  1.7,  1.8,  1.9,  2. ,  2.1,\n",
       "        2.2,  2.3,  2.4,  2.5,  2.6,  2.7,  2.8,  2.9,  3. ,  3.1,  3.2,\n",
       "        3.3,  3.4,  3.5,  3.6,  3.7,  3.8,  3.9,  4. ,  4.1,  4.2,  4.3,\n",
       "        4.4,  4.5,  4.6,  4.7,  4.8,  4.9,  5. ,  5.1,  5.2,  5.3,  5.4,\n",
       "        5.5,  5.6,  5.7,  5.8,  5.9,  6. ,  6.1,  6.2,  6.3,  6.4,  6.5,\n",
       "        6.6,  6.7,  6.8,  6.9,  7. ,  7.1,  7.2,  7.3,  7.4,  7.5,  7.6,\n",
       "        7.7,  7.8,  7.9,  8. ,  8.1,  8.2,  8.3,  8.4,  8.5,  8.6,  8.7,\n",
       "        8.8,  8.9,  9. ,  9.1,  9.2,  9.3,  9.4,  9.5,  9.6,  9.7,  9.8,\n",
       "        9.9, 10. ])"
      ]
     },
     "execution_count": 99,
     "metadata": {},
     "output_type": "execute_result"
    }
   ],
   "source": [
    "jl.t"
   ]
  },
  {
   "cell_type": "code",
   "execution_count": null,
   "metadata": {},
   "outputs": [],
   "source": []
  }
 ],
 "metadata": {
  "kernelspec": {
   "display_name": "optical-bloch-python",
   "language": "python",
   "name": "python3"
  },
  "language_info": {
   "codemirror_mode": {
    "name": "ipython",
    "version": 3
   },
   "file_extension": ".py",
   "mimetype": "text/x-python",
   "name": "python",
   "nbconvert_exporter": "python",
   "pygments_lexer": "ipython3",
   "version": "3.11.9"
  }
 },
 "nbformat": 4,
 "nbformat_minor": 2
}
