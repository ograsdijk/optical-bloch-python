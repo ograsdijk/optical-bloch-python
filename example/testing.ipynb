{
 "cells": [
  {
   "cell_type": "code",
   "execution_count": 1,
   "metadata": {},
   "outputs": [],
   "source": [
    "import copy\n",
    "from typing import Sequence\n",
    "\n",
    "import numpy as np\n",
    "import sympy as smp\n",
    "import matplotlib.pyplot as plt\n",
    "\n",
    "from optical_bloch.utils.general import flatten\n",
    "from optical_bloch import (\n",
    "    Hamiltonian,\n",
    "    Dissipator,\n",
    "    BlochEquations,\n",
    "    generate_code,\n",
    "    generate_lindblad_function_julia,\n",
    ")\n",
    "\n",
    "plt.rcParams.update({\"font.size\": 14})\n"
   ]
  },
  {
   "cell_type": "markdown",
   "metadata": {},
   "source": [
    "# Toy Λ system"
   ]
  },
  {
   "cell_type": "code",
   "execution_count": 2,
   "metadata": {},
   "outputs": [],
   "source": [
    "energies = smp.symbols(\"E0:3\", real=True)\n",
    "\n",
    "omegas = smp.symbols(\"ω0:2\", real=True)\n",
    "Omegas = smp.symbols(\"Ω0:2\", complex=True)\n",
    "deltas = smp.symbols(\"δ0:2\", real=True)\n",
    "Gammas = smp.symbols(\"Γ0:2\", real=True)\n"
   ]
  },
  {
   "cell_type": "code",
   "execution_count": 3,
   "metadata": {},
   "outputs": [
    {
     "data": {
      "text/latex": [
       "$\\displaystyle \\left[\\begin{matrix}- δ_{0} & 0 & - \\frac{Ω_{0}}{2}\\\\0 & - δ_{1} & - \\frac{Ω_{1}}{2}\\\\- \\frac{\\overline{Ω_{0}}}{2} & - \\frac{\\overline{Ω_{1}}}{2} & 0\\end{matrix}\\right]$"
      ],
      "text/plain": [
       "Matrix([\n",
       "[             -δ0,                0, -Ω0/2],\n",
       "[               0,              -δ1, -Ω1/2],\n",
       "[-conjugate(Ω0)/2, -conjugate(Ω1)/2,     0]])"
      ]
     },
     "execution_count": 3,
     "metadata": {},
     "output_type": "execute_result"
    }
   ],
   "source": [
    "ham = Hamiltonian(3)\n",
    "ham.add_energies(energies)\n",
    "ham.add_coupling(0, 2, Omegas[0], omegas[0])\n",
    "ham.add_coupling(1, 2, Omegas[1], omegas[1])\n",
    "\n",
    "ham.eqn_transform()\n",
    "\n",
    "ham.define_state_detuning(0, 2, deltas[0])\n",
    "ham.define_state_detuning(1, 2, deltas[1])\n",
    "\n",
    "transformed = ham.transformed - smp.eye(ham.hamiltonian.shape[0]) * energies[2]\n",
    "\n",
    "transformed\n"
   ]
  },
  {
   "cell_type": "code",
   "execution_count": 4,
   "metadata": {},
   "outputs": [],
   "source": [
    "dis = Dissipator(ham.levels)\n",
    "\n",
    "for idi, idf, Gamma in zip([2, 2], [0, 1], Gammas):\n",
    "    dis.add_decay(idi, idf, Gamma)\n",
    "\n",
    "bloch = BlochEquations(ham.levels, dis.density_matrix, transformed, dis.dissipator)\n"
   ]
  },
  {
   "cell_type": "code",
   "execution_count": 5,
   "metadata": {},
   "outputs": [],
   "source": [
    "code, free_parameters = generate_lindblad_function_julia(\n",
    "    bloch.equations.rhs, bloch.density_matrix, []\n",
    ")\n"
   ]
  },
  {
   "cell_type": "code",
   "execution_count": 6,
   "metadata": {},
   "outputs": [
    {
     "name": "stdout",
     "output_type": "stream",
     "text": [
      "function lindblad!(du, u, p, t)\n",
      "    \t@inbounds begin\n",
      "    \t\tΩ1 = p[1]\n",
      "\t\tΓ0 = p[2]\n",
      "\t\tΩ0 = p[3]\n",
      "\t\tδ0 = p[4]\n",
      "\t\tδ1 = p[5]\n",
      "\t\tΓ1 = p[6]\n",
      "\t\tdu[1,1] = Γ0*u[3,3] + 1.0im*(Ω0*conj(u[1,3]) - u[1,3]*conj(Ω0))/2\n",
      "\t\tdu[1,2] = 1.0im*(Ω0*conj(u[2,3])/2 + δ0*u[1,2] - δ1*u[1,2] - u[1,3]*conj(Ω1)/2)\n",
      "\t\tdu[1,3] = -(Γ0 + Γ1)*u[1,3]/2 - 1.0im*(Ω0*u[1,1] - Ω0*u[3,3] + Ω1*u[1,2] - 2*δ0*u[1,3])/2\n",
      "\t\tdu[2,2] = Γ1*u[3,3] + 1.0im*(Ω1*conj(u[2,3]) - u[2,3]*conj(Ω1))/2\n",
      "\t\tdu[2,3] = -(Γ0 + Γ1)*u[2,3]/2 - 1.0im*(Ω0*conj(u[1,2]) + Ω1*u[2,2] - Ω1*u[3,3] - 2*δ1*u[2,3])/2\n",
      "\t\tdu[3,3] = -(Γ0 + Γ1)*u[3,3] - 1.0im*(Ω0*conj(u[1,3]) + Ω1*conj(u[2,3]) - u[1,3]*conj(Ω0) - u[2,3]*conj(Ω1))/2\n",
      "\tend\n",
      "\tnothing\n",
      "end\n"
     ]
    }
   ],
   "source": [
    "print(code)"
   ]
  },
  {
   "cell_type": "code",
   "execution_count": 7,
   "metadata": {},
   "outputs": [
    {
     "data": {
      "text/plain": [
       "('Ω1', 'Γ0', 'Ω0', 'δ0', 'δ1', 'Γ1')"
      ]
     },
     "execution_count": 7,
     "metadata": {},
     "output_type": "execute_result"
    }
   ],
   "source": [
    "free_parameters"
   ]
  },
  {
   "cell_type": "code",
   "execution_count": 8,
   "metadata": {},
   "outputs": [
    {
     "name": "stdout",
     "output_type": "stream",
     "text": [
      "CPU times: total: 484 ms\n",
      "Wall time: 1.19 s\n"
     ]
    }
   ],
   "source": [
    "%%time\n",
    "steady_state = bloch.solve_steady_state_symbolic(\n",
    "    replacements=[\n",
    "        (Gammas[0], 1 / 2),\n",
    "        (Gammas[1], 1 / 2),\n",
    "        (deltas[0], 0),\n",
    "        (deltas[1], 0),\n",
    "    ]\n",
    ")\n"
   ]
  },
  {
   "cell_type": "code",
   "execution_count": 9,
   "metadata": {},
   "outputs": [
    {
     "data": {
      "text/latex": [
       "$\\displaystyle \\frac{Ω_{1} \\overline{Ω_{1}}}{Ω_{0} \\overline{Ω_{0}} + Ω_{1} \\overline{Ω_{1}}}$"
      ],
      "text/plain": [
       "Ω1*conjugate(Ω1)/(Ω0*conjugate(Ω0) + Ω1*conjugate(Ω1))"
      ]
     },
     "execution_count": 9,
     "metadata": {},
     "output_type": "execute_result"
    }
   ],
   "source": [
    "smp.nsimplify(smp.simplify(steady_state[list(steady_state.keys())[0]].subs([])))\n"
   ]
  },
  {
   "cell_type": "code",
   "execution_count": 10,
   "metadata": {},
   "outputs": [],
   "source": [
    "replacements = [\n",
    "    (Gammas[0], 1 / 2),\n",
    "    (Gammas[1], 1 / 2),\n",
    "    (deltas[0], 0),\n",
    "    (deltas[1], 0),\n",
    "    (\n",
    "        Omegas[0],\n",
    "        0.5 * ((1 + smp.cos(2 * 3.1415 * 0 * smp.Symbol(\"t\", real=True))) / 2),\n",
    "    ),\n",
    "    (Omegas[1], 1),\n",
    "]\n",
    "\n",
    "y0 = np.zeros(bloch.levels**2, dtype=complex)\n",
    "y0[0] = 1 / 2\n",
    "y0[4] = 1 / 2\n"
   ]
  },
  {
   "cell_type": "code",
   "execution_count": 11,
   "metadata": {},
   "outputs": [],
   "source": [
    "from scipy.integrate import solve_ivp\n",
    "\n",
    "tspan = (0, 50)\n",
    "method = \"RK45\"\n",
    "matrix_eq, t_dependent = bloch.generate_system(replacements)\n",
    "\n",
    "# ODE solver\n",
    "if t_dependent:\n",
    "\n",
    "    def fun(t, rho):\n",
    "        return matrix_eq(t) @ rho\n",
    "else:\n",
    "\n",
    "    def fun(t, rho):\n",
    "        return matrix_eq @ rho\n",
    "\n",
    "\n",
    "sol = solve_ivp(fun, tspan, y0, method, vectorized=True, max_step=0.1)\n"
   ]
  },
  {
   "cell_type": "code",
   "execution_count": 12,
   "metadata": {},
   "outputs": [
    {
     "data": {
      "image/png": "[encoded data removed]",
      "text/plain": [
       "<Figure size 640x480 with 1 Axes>"
      ]
     },
     "metadata": {},
     "output_type": "display_data"
    }
   ],
   "source": [
    "y = sol.y.reshape(bloch.levels, bloch.levels, -1)\n",
    "\n",
    "fig, ax = plt.subplots()\n",
    "\n",
    "for idx in range(3):\n",
    "    ax.plot(sol.t, y[idx, idx].real, lw=2, label=f\"ρ$_{idx}$\")\n",
    "\n",
    "ax.set_xlabel(\"time [1/Γ]\")\n",
    "ax.set_ylabel(\"population\")\n",
    "\n",
    "ax.legend()\n",
    "\n",
    "ax.grid()\n"
   ]
  },
  {
   "cell_type": "code",
   "execution_count": 13,
   "metadata": {},
   "outputs": [
    {
     "data": {
      "image/png": "[encoded data removed]",
      "text/plain": [
       "<Figure size 640x480 with 1 Axes>"
      ]
     },
     "metadata": {},
     "output_type": "display_data"
    }
   ],
   "source": [
    "fig, ax = plt.subplots()\n",
    "for v in np.arange(0, 0.31, 0.05):\n",
    "    replacements = [\n",
    "        (Gammas[0], 1 / 2),\n",
    "        (Gammas[1], 1 / 2),\n",
    "        (deltas[0], 0),\n",
    "        (deltas[1], 0),\n",
    "        (\n",
    "            Omegas[0],\n",
    "            0.5 * ((1 + smp.cos(2 * 3.1415 * v * smp.Symbol(\"t\", real=True))) / 2),\n",
    "        ),\n",
    "        (Omegas[1], 1),\n",
    "    ]\n",
    "    tspan = (0, 50)\n",
    "    method = \"RK45\"\n",
    "    matrix_eq, t_dependent = bloch.generate_system(replacements)\n",
    "\n",
    "    # ODE solver\n",
    "    if t_dependent:\n",
    "\n",
    "        def fun(t, rho):\n",
    "            return matrix_eq(t) @ rho\n",
    "    else:\n",
    "\n",
    "        def fun(t, rho):\n",
    "            return matrix_eq @ rho\n",
    "\n",
    "    sol = solve_ivp(fun, tspan, y0, method, vectorized=True, max_step=0.1)\n",
    "\n",
    "    y = sol.y.reshape(bloch.levels, bloch.levels, -1)\n",
    "\n",
    "    ax.plot(sol.t, y[1, 1].real, lw=2, label=f\"ν = {v:.2f}\")\n",
    "\n",
    "ax.set_xlabel(\"time [1/Γ]\")\n",
    "ax.set_ylabel(\"population\")\n",
    "ax.set_title(\"population in ρ₁\")\n",
    "\n",
    "ax.legend()\n",
    "\n",
    "ax.grid()\n"
   ]
  },
  {
   "cell_type": "code",
   "execution_count": 14,
   "metadata": {},
   "outputs": [
    {
     "name": "stdout",
     "output_type": "stream",
     "text": [
      "35.2 ms ± 4.45 ms per loop (mean ± std. dev. of 7 runs, 10 loops each)\n"
     ]
    }
   ],
   "source": [
    "%%timeit\n",
    "sol = solve_ivp(fun, tspan, y0, method=\"RK45\", vectorized=True)\n"
   ]
  },
  {
   "cell_type": "markdown",
   "metadata": {},
   "source": [
    "# Toy 4 Level Model"
   ]
  },
  {
   "cell_type": "code",
   "execution_count": 15,
   "metadata": {},
   "outputs": [],
   "source": [
    "ρ = smp.MatrixSymbol(\"ρ\", 4, 4)\n",
    "\n",
    "energies = smp.symbols(\"E0:4\", real=True)\n",
    "\n",
    "omegas = smp.symbols(\"ω0:1\", real=True)\n",
    "Omegas = smp.symbols(\"Ω0:2\", complex=True)\n",
    "deltas = smp.symbols(\"δ0:1\", real=True)\n",
    "Gammas = smp.symbols(\"Γ0:4\", real=True)\n"
   ]
  },
  {
   "cell_type": "code",
   "execution_count": 16,
   "metadata": {},
   "outputs": [],
   "source": [
    "def couple_manifolds(ham, initial_manifold, final_manifold, rabi, omega):\n",
    "    if isinstance(rabi, Sequence):\n",
    "        for idi, idf, r in zip(initial_manifold, final_manifold, rabi):\n",
    "            ham.add_coupling(idi, idf, r, omega)\n",
    "    else:\n",
    "        for idi, idf in zip(initial_manifold, final_manifold):\n",
    "            ham.add_coupling(idi, idf, rabi, omega)\n",
    "    return ham\n"
   ]
  },
  {
   "cell_type": "code",
   "execution_count": 17,
   "metadata": {},
   "outputs": [],
   "source": [
    "ham = Hamiltonian(ρ.shape[0])\n",
    "ham.add_energies(energies)\n",
    "ham = couple_manifolds(ham, [0, 1], [2, 3], Omegas, omegas[0])\n"
   ]
  },
  {
   "cell_type": "code",
   "execution_count": 18,
   "metadata": {},
   "outputs": [],
   "source": [
    "ham.eqn_transform()"
   ]
  },
  {
   "cell_type": "code",
   "execution_count": 19,
   "metadata": {},
   "outputs": [
    {
     "data": {
      "text/latex": [
       "$\\displaystyle \\left[\\begin{matrix}E_{0} & 0 & - \\frac{Ω_{0} e^{1.0 i t ω_{0}}}{2} & 0\\\\0 & E_{1} & 0 & - \\frac{Ω_{1} e^{1.0 i t ω_{0}}}{2}\\\\- \\frac{e^{- 1.0 i t ω_{0}} \\overline{Ω_{0}}}{2} & 0 & E_{2} & 0\\\\0 & - \\frac{e^{- 1.0 i t ω_{0}} \\overline{Ω_{1}}}{2} & 0 & E_{3}\\end{matrix}\\right]$"
      ],
      "text/plain": [
       "Matrix([\n",
       "[                               E0,                                 0, -Ω0*exp(1.0*I*t*ω0)/2,                     0],\n",
       "[                                0,                                E1,                     0, -Ω1*exp(1.0*I*t*ω0)/2],\n",
       "[-exp(-1.0*I*t*ω0)*conjugate(Ω0)/2,                                 0,                    E2,                     0],\n",
       "[                                0, -exp(-1.0*I*t*ω0)*conjugate(Ω1)/2,                     0,                    E3]])"
      ]
     },
     "execution_count": 19,
     "metadata": {},
     "output_type": "execute_result"
    }
   ],
   "source": [
    "ham.hamiltonian"
   ]
  },
  {
   "cell_type": "code",
   "execution_count": 20,
   "metadata": {},
   "outputs": [
    {
     "data": {
      "text/latex": [
       "$\\displaystyle \\left[\\begin{matrix}E_{0} + ω_{0} & 0 & - \\frac{Ω_{0}}{2} & 0\\\\0 & E_{1} + ω_{0} & 0 & - \\frac{Ω_{1}}{2}\\\\- \\frac{\\overline{Ω_{0}}}{2} & 0 & E_{2} & 0\\\\0 & - \\frac{\\overline{Ω_{1}}}{2} & 0 & E_{3}\\end{matrix}\\right]$"
      ],
      "text/plain": [
       "Matrix([\n",
       "[         E0 + ω0,                0, -Ω0/2,     0],\n",
       "[               0,          E1 + ω0,     0, -Ω1/2],\n",
       "[-conjugate(Ω0)/2,                0,    E2,     0],\n",
       "[               0, -conjugate(Ω1)/2,     0,    E3]])"
      ]
     },
     "execution_count": 20,
     "metadata": {},
     "output_type": "execute_result"
    }
   ],
   "source": [
    "ham.transformed"
   ]
  },
  {
   "cell_type": "code",
   "execution_count": 21,
   "metadata": {},
   "outputs": [
    {
     "data": {
      "text/latex": [
       "$\\displaystyle \\left[\\begin{matrix}E_{0} - E_{3} + ω_{0} & 0 & - \\frac{Ω_{0}}{2} & 0\\\\0 & E_{1} - E_{3} + ω_{0} & 0 & - \\frac{Ω_{1}}{2}\\\\- \\frac{\\overline{Ω_{0}}}{2} & 0 & E_{2} - E_{3} & 0\\\\0 & - \\frac{\\overline{Ω_{1}}}{2} & 0 & 0\\end{matrix}\\right]$"
      ],
      "text/plain": [
       "Matrix([\n",
       "[    E0 - E3 + ω0,                0,   -Ω0/2,     0],\n",
       "[               0,     E1 - E3 + ω0,       0, -Ω1/2],\n",
       "[-conjugate(Ω0)/2,                0, E2 - E3,     0],\n",
       "[               0, -conjugate(Ω1)/2,       0,     0]])"
      ]
     },
     "execution_count": 21,
     "metadata": {},
     "output_type": "execute_result"
    }
   ],
   "source": [
    "transformed = smp.Matrix(ham.transformed)\n",
    "for idx in range(transformed.shape[0]):\n",
    "    transformed[idx, idx] -= energies[-1]\n",
    "ham.transformed = smp.nsimplify(transformed)\n",
    "ham.transformed\n"
   ]
  },
  {
   "cell_type": "code",
   "execution_count": 22,
   "metadata": {},
   "outputs": [],
   "source": [
    "def define_state_detuning(hamiltonian, initial, final, detuning):\n",
    "    energies = hamiltonian.energies\n",
    "\n",
    "    w = ham.couplings[initial, final]\n",
    "    if w == 0:\n",
    "        w = hamiltonian.couplings[final, initial]\n",
    "\n",
    "    hamiltonian.transformed = hamiltonian.transformed.subs(\n",
    "        w, energies[final] - energies[initial] - detuning\n",
    "    )\n",
    "    return hamiltonian\n"
   ]
  },
  {
   "cell_type": "code",
   "execution_count": 23,
   "metadata": {},
   "outputs": [],
   "source": [
    "ham = define_state_detuning(ham, 1, 3, deltas[0])\n"
   ]
  },
  {
   "cell_type": "code",
   "execution_count": 24,
   "metadata": {},
   "outputs": [
    {
     "data": {
      "text/latex": [
       "$\\displaystyle \\left[\\begin{matrix}E_{0} - E_{1} - δ_{0} & 0 & - \\frac{Ω_{0}}{2} & 0\\\\0 & - δ_{0} & 0 & - \\frac{Ω_{1}}{2}\\\\- \\frac{\\overline{Ω_{0}}}{2} & 0 & E_{2} - E_{3} & 0\\\\0 & - \\frac{\\overline{Ω_{1}}}{2} & 0 & 0\\end{matrix}\\right]$"
      ],
      "text/plain": [
       "Matrix([\n",
       "[    E0 - E1 - δ0,                0,   -Ω0/2,     0],\n",
       "[               0,              -δ0,       0, -Ω1/2],\n",
       "[-conjugate(Ω0)/2,                0, E2 - E3,     0],\n",
       "[               0, -conjugate(Ω1)/2,       0,     0]])"
      ]
     },
     "execution_count": 24,
     "metadata": {},
     "output_type": "execute_result"
    }
   ],
   "source": [
    "ham.transformed"
   ]
  },
  {
   "cell_type": "code",
   "execution_count": 25,
   "metadata": {},
   "outputs": [
    {
     "data": {
      "text/latex": [
       "$\\displaystyle \\left[\\begin{matrix}-Δg - δ_{0} & 0 & - \\frac{Ω_{0}}{2} & 0\\\\0 & - δ_{0} & 0 & - \\frac{Ω_{1}}{2}\\\\- \\frac{\\overline{Ω_{0}}}{2} & 0 & -Δe & 0\\\\0 & - \\frac{\\overline{Ω_{1}}}{2} & 0 & 0\\end{matrix}\\right]$"
      ],
      "text/plain": [
       "Matrix([\n",
       "[        -Δg - δ0,                0, -Ω0/2,     0],\n",
       "[               0,              -δ0,     0, -Ω1/2],\n",
       "[-conjugate(Ω0)/2,                0,   -Δe,     0],\n",
       "[               0, -conjugate(Ω1)/2,     0,     0]])"
      ]
     },
     "execution_count": 25,
     "metadata": {},
     "output_type": "execute_result"
    }
   ],
   "source": [
    "ham.transformed = ham.transformed.subs(\n",
    "    energies[0] - energies[1], smp.Symbol(\"-Δg\", real=True)\n",
    ")\n",
    "ham.transformed = ham.transformed.subs(\n",
    "    energies[2] - energies[3], smp.Symbol(\"-Δe\", real=True)\n",
    ")\n",
    "ham.transformed\n"
   ]
  },
  {
   "cell_type": "code",
   "execution_count": 26,
   "metadata": {},
   "outputs": [],
   "source": [
    "def symbolic_matrix_to_julia(matrix) -> str:\n",
    "    s = matrix.shape\n",
    "    matrix_str = \"[\\n\"\n",
    "    for idx in range(s[0]):\n",
    "        for idy in range(s[1]):\n",
    "            matrix_str += f\"{str(matrix[idx,idy])} \"\n",
    "        matrix_str += \"\\n\"\n",
    "    matrix_str += \"]\"\n",
    "    matrix_str = matrix_str.replace(\"conjugate\", \"conj\")\n",
    "    return matrix_str\n"
   ]
  },
  {
   "cell_type": "code",
   "execution_count": 27,
   "metadata": {},
   "outputs": [],
   "source": [
    "def get_symbols_to_julia(matrix) -> str:\n",
    "    return (\n",
    "        f\"@parameters {str(matrix.free_symbols)}\".replace(\",\", \"\")\n",
    "        .replace(\"{\", \"\")\n",
    "        .replace(\"}\", \"\")\n",
    "        .replace(\"-\", \"\")\n",
    "    )\n"
   ]
  },
  {
   "cell_type": "code",
   "execution_count": 28,
   "metadata": {},
   "outputs": [
    {
     "name": "stdout",
     "output_type": "stream",
     "text": [
      "@parameters Ω1 Ω0 Δg Δe δ0\n"
     ]
    }
   ],
   "source": [
    "print(get_symbols_to_julia(ham.transformed))"
   ]
  },
  {
   "cell_type": "code",
   "execution_count": 29,
   "metadata": {},
   "outputs": [
    {
     "name": "stdout",
     "output_type": "stream",
     "text": [
      "[\n",
      "-Δg - δ0 0 -Ω0/2 0 \n",
      "0 -δ0 0 -Ω1/2 \n",
      "-conj(Ω0)/2 0 -Δe 0 \n",
      "0 -conj(Ω1)/2 0 0 \n",
      "]\n"
     ]
    }
   ],
   "source": [
    "print(symbolic_matrix_to_julia(ham.transformed))"
   ]
  },
  {
   "cell_type": "code",
   "execution_count": 30,
   "metadata": {},
   "outputs": [],
   "source": [
    "dis = Dissipator(ham.levels)\n",
    "\n",
    "for idi, idf, Gamma in zip([2, 2, 3, 3], [0, 1, 0, 1], Gammas):\n",
    "    dis.add_decay(idi, idf, Gamma)\n"
   ]
  },
  {
   "cell_type": "code",
   "execution_count": 31,
   "metadata": {},
   "outputs": [],
   "source": [
    "bloch = BlochEquations(ham.levels, dis.density_matrix, ham.transformed, dis.dissipator)"
   ]
  },
  {
   "cell_type": "markdown",
   "metadata": {},
   "source": [
    "# Toy 4 Level system with 2 excited states"
   ]
  },
  {
   "cell_type": "code",
   "execution_count": 32,
   "metadata": {},
   "outputs": [],
   "source": [
    "energies = smp.symbols(\"E0:4\", real=True)\n",
    "\n",
    "omegas = smp.symbols(\"ω0:3\", real=True)\n",
    "Omegas = smp.symbols(\"Ω0:3\", complex=True)\n",
    "deltas = smp.symbols(\"δ0:3\", real=True)\n",
    "Gammas = smp.symbols(\"Γ0:2\", real=True)\n"
   ]
  },
  {
   "cell_type": "code",
   "execution_count": 33,
   "metadata": {},
   "outputs": [],
   "source": [
    "ham = Hamiltonian(energies=energies)\n",
    "ham.add_coupling(0, 2, Omegas[0], omegas[0])\n",
    "ham.add_coupling(0, 3, Omegas[1], omegas[1])\n",
    "ham.add_coupling(1, 2, Omegas[2], omegas[2])\n",
    "ham.eqn_transform()\n",
    "\n",
    "ham.define_state_detuning(0, 2, deltas[0])\n",
    "ham.define_state_detuning(0, 3, deltas[1])\n",
    "ham.define_state_detuning(1, 2, deltas[2])\n"
   ]
  },
  {
   "cell_type": "code",
   "execution_count": 35,
   "metadata": {},
   "outputs": [
    {
     "data": {
      "text/latex": [
       "$\\displaystyle \\left[\\begin{matrix}E_{3} - δ_{1} & 0 & - \\frac{Ω_{0}}{2} & - \\frac{Ω_{1}}{2}\\\\0 & E_{3} + δ_{0} - δ_{1} - δ_{2} & - \\frac{Ω_{2}}{2} & 0\\\\- \\frac{\\overline{Ω_{0}}}{2} & - \\frac{\\overline{Ω_{2}}}{2} & E_{3} + δ_{0} - δ_{1} & 0\\\\- \\frac{\\overline{Ω_{1}}}{2} & 0 & 0 & E_{3}\\end{matrix}\\right]$"
      ],
      "text/plain": [
       "Matrix([\n",
       "[         E3 - δ1,                 0,        -Ω0/2, -Ω1/2],\n",
       "[               0, E3 + δ0 - δ1 - δ2,        -Ω2/2,     0],\n",
       "[-conjugate(Ω0)/2,  -conjugate(Ω2)/2, E3 + δ0 - δ1,     0],\n",
       "[-conjugate(Ω1)/2,                 0,            0,    E3]])"
      ]
     },
     "execution_count": 35,
     "metadata": {},
     "output_type": "execute_result"
    }
   ],
   "source": [
    "ham.transformed"
   ]
  },
  {
   "cell_type": "markdown",
   "metadata": {},
   "source": [
    "# Toy Rotational Cooling"
   ]
  },
  {
   "cell_type": "code",
   "execution_count": null,
   "metadata": {},
   "outputs": [],
   "source": [
    "ρ = smp.MatrixSymbol(\"ρ\", 5, 5)\n",
    "\n",
    "energies = smp.symbols(\"E0:5\", real=True)\n",
    "\n",
    "omegas = smp.symbols(\"ω0:3\", real=True)\n",
    "Omegas = smp.symbols(\"Ω0:3\", complex=True)\n",
    "deltas = smp.symbols(\"δ0:3\", real=True)\n",
    "Gammas = smp.symbols(\"Γ0:2\", real=True)\n"
   ]
  },
  {
   "cell_type": "code",
   "execution_count": null,
   "metadata": {},
   "outputs": [],
   "source": [
    "ham = Hamiltonian(ρ.shape[0])\n",
    "ham.add_energies(energies)\n",
    "ham.add_coupling(1, 2, Omegas[0], omegas[0])\n",
    "ham.add_coupling(2, 3, Omegas[1], omegas[1])\n",
    "ham.add_coupling(2, 4, Omegas[2], omegas[2])\n"
   ]
  },
  {
   "cell_type": "code",
   "execution_count": null,
   "metadata": {},
   "outputs": [],
   "source": [
    "ham.eqn_transform()\n",
    "ham.transformed\n"
   ]
  },
  {
   "cell_type": "code",
   "execution_count": null,
   "metadata": {},
   "outputs": [],
   "source": [
    "ham = define_state_detuning(ham, 1, 2, deltas[0])\n",
    "ham = define_state_detuning(ham, 2, 3, deltas[1])\n",
    "ham = define_state_detuning(ham, 2, 4, deltas[2])\n"
   ]
  },
  {
   "cell_type": "code",
   "execution_count": null,
   "metadata": {},
   "outputs": [],
   "source": [
    "ham.transformed"
   ]
  },
  {
   "cell_type": "code",
   "execution_count": null,
   "metadata": {},
   "outputs": [],
   "source": [
    "dis = Dissipator(ham.levels)\n",
    "dis.add_decay(4, 2, Gammas[0])\n",
    "dis.add_decay(4, 0, Gammas[1])\n",
    "\n",
    "transformed = ham.transformed.copy()\n"
   ]
  },
  {
   "cell_type": "code",
   "execution_count": null,
   "metadata": {},
   "outputs": [],
   "source": [
    "transformed = transformed.subs(energies[0], 0)\n",
    "transformed = smp.nsimplify(transformed.subs(energies[-1], 0))\n",
    "transformed\n"
   ]
  },
  {
   "cell_type": "code",
   "execution_count": null,
   "metadata": {},
   "outputs": [],
   "source": [
    "bloch = BlochEquations(ham.levels, dis.density_matrix, transformed, dis.dissipator)"
   ]
  },
  {
   "cell_type": "code",
   "execution_count": null,
   "metadata": {},
   "outputs": [],
   "source": [
    "t = smp.Symbol(\"t\", real=True)\n",
    "\n",
    "replacements = [(delta, 0) for delta in deltas]\n",
    "# replacements += [(Omega, 1) for Omega in Omegas]\n",
    "replacements += [(Gamma, 1 / 2) for Gamma in Gammas]\n",
    "replacements += [\n",
    "    (Omegas[0], 1 * (1 + smp.sin(t) / 2)),\n",
    "    (Omegas[1], 1 * (1 + smp.sin(t + 3.14 / 2) / 2)),\n",
    "    (Omegas[2], 1 * (1 + smp.sin(t + 3.14 / 4) / 2)),\n",
    "]\n"
   ]
  },
  {
   "cell_type": "code",
   "execution_count": null,
   "metadata": {},
   "outputs": [],
   "source": [
    "y0 = np.zeros(bloch.levels**2, dtype=complex)\n",
    "y0[0] = 1 / 4\n",
    "y0[6] = 1 / 4\n",
    "y0[12] = 1 / 4\n",
    "y0[18] = 1 / 4\n"
   ]
  },
  {
   "cell_type": "code",
   "execution_count": null,
   "metadata": {},
   "outputs": [],
   "source": [
    "sol = bloch.solve_numeric(replacements, [0, 100], y0, method=\"BDF\")"
   ]
  },
  {
   "cell_type": "code",
   "execution_count": null,
   "metadata": {},
   "outputs": [],
   "source": [
    "y = sol.y.reshape(5, 5, -1)\n",
    "\n",
    "fig, ax = plt.subplots()\n",
    "\n",
    "for idx in range(5):\n",
    "    ax.plot(sol.t, y[idx, idx].real, lw=2, label=f\"ρ$_{idx}$\")\n",
    "\n",
    "ax.set_xlabel(\"time [1/Γ]\")\n",
    "ax.set_ylabel(\"population\")\n",
    "\n",
    "ax.legend()\n",
    "\n",
    "ax.grid()\n"
   ]
  },
  {
   "cell_type": "code",
   "execution_count": null,
   "metadata": {},
   "outputs": [],
   "source": [
    "ham.find_dark_states([0, 1, 2, 3], [4])"
   ]
  },
  {
   "cell_type": "code",
   "execution_count": null,
   "metadata": {},
   "outputs": [],
   "source": [
    "print(str(bloch.equations.rhs).replace(\"(t)\", \"\"))"
   ]
  },
  {
   "cell_type": "code",
   "execution_count": null,
   "metadata": {},
   "outputs": [],
   "source": [
    "ham.transformed"
   ]
  },
  {
   "cell_type": "code",
   "execution_count": null,
   "metadata": {},
   "outputs": [],
   "source": [
    "ham.rabi"
   ]
  },
  {
   "cell_type": "code",
   "execution_count": null,
   "metadata": {},
   "outputs": [],
   "source": [
    "ham.couplings"
   ]
  },
  {
   "cell_type": "markdown",
   "metadata": {},
   "source": [
    "# Toy Rotational Cooling Polarization Switching "
   ]
  },
  {
   "cell_type": "code",
   "execution_count": null,
   "metadata": {},
   "outputs": [],
   "source": [
    "ρ = smp.MatrixSymbol(\"ρ\", 6, 6)\n",
    "\n",
    "energies = smp.symbols(\"E0:6\", real=True)\n",
    "\n",
    "omegas = smp.symbols(\"ω0:4\", real=True)\n",
    "Omegas = smp.symbols(\"Ω0:4\", complex=True)\n",
    "deltas = smp.symbols(\"δ0:4\", real=True)\n",
    "Gammas = smp.symbols(\"Γ0:4\", real=True)\n"
   ]
  },
  {
   "cell_type": "code",
   "execution_count": null,
   "metadata": {},
   "outputs": [],
   "source": [
    "ham = Hamiltonian(ρ.shape[0])\n",
    "ham.add_energies(energies)\n",
    "ham.add_coupling(1, 2, Omegas[0], omegas[0])\n",
    "ham.add_coupling(2, 3, Omegas[1], omegas[1])\n",
    "ham.add_coupling(2, 4, Omegas[2], omegas[2])\n",
    "ham.add_coupling(2, 5, Omegas[3], omegas[3])\n"
   ]
  },
  {
   "cell_type": "code",
   "execution_count": null,
   "metadata": {},
   "outputs": [],
   "source": [
    "ham.eqn_transform()\n",
    "ham.transformed\n"
   ]
  },
  {
   "cell_type": "code",
   "execution_count": null,
   "metadata": {},
   "outputs": [],
   "source": [
    "ham.define_state_detuning(1, 2, deltas[0])\n",
    "ham.define_state_detuning(2, 3, deltas[1])\n",
    "ham.define_state_detuning(2, 4, deltas[2])\n",
    "ham.define_state_detuning(2, 5, deltas[3])\n"
   ]
  },
  {
   "cell_type": "code",
   "execution_count": null,
   "metadata": {},
   "outputs": [],
   "source": [
    "ham.transformed - smp.eye(6) * ham.energies[-1]"
   ]
  },
  {
   "cell_type": "code",
   "execution_count": null,
   "metadata": {},
   "outputs": [],
   "source": [
    "bloch.equations.rhs"
   ]
  },
  {
   "cell_type": "code",
   "execution_count": null,
   "metadata": {},
   "outputs": [],
   "source": [
    "bloch.density_matrix[1, 0]"
   ]
  },
  {
   "cell_type": "code",
   "execution_count": null,
   "metadata": {},
   "outputs": [],
   "source": [
    "code_lines = generate_code(\n",
    "    bloch.equations.rhs, bloch.density_matrix, [], array_start_index=1\n",
    ")\n",
    "code_lines\n"
   ]
  },
  {
   "cell_type": "code",
   "execution_count": null,
   "metadata": {},
   "outputs": [],
   "source": [
    "code_lines[9]"
   ]
  },
  {
   "cell_type": "code",
   "execution_count": null,
   "metadata": {},
   "outputs": [],
   "source": [
    "smp.nsimplify(bloch.equations.rhs)[2, 2]"
   ]
  },
  {
   "cell_type": "code",
   "execution_count": null,
   "metadata": {},
   "outputs": [],
   "source": [
    "bloch.equations.rhs.free_symbols\n"
   ]
  },
  {
   "cell_type": "code",
   "execution_count": null,
   "metadata": {},
   "outputs": [],
   "source": [
    "code, free_params = generate_lindblad_function_julia(\n",
    "    bloch.equations.rhs, bloch.density_matrix, []\n",
    ")\n"
   ]
  },
  {
   "cell_type": "code",
   "execution_count": null,
   "metadata": {},
   "outputs": [],
   "source": [
    "print(code)"
   ]
  },
  {
   "cell_type": "code",
   "execution_count": null,
   "metadata": {},
   "outputs": [],
   "source": [
    "free_params"
   ]
  },
  {
   "cell_type": "code",
   "execution_count": null,
   "metadata": {},
   "outputs": [],
   "source": []
  }
 ],
 "metadata": {
  "kernelspec": {
   "display_name": "optical-bloch-python",
   "language": "python",
   "name": "python3"
  },
  "language_info": {
   "codemirror_mode": {
    "name": "ipython",
    "version": 3
   },
   "file_extension": ".py",
   "mimetype": "text/x-python",
   "name": "python",
   "nbconvert_exporter": "python",
   "pygments_lexer": "ipython3",
   "version": "3.11.9"
  }
 },
 "nbformat": 4,
 "nbformat_minor": 2
}
