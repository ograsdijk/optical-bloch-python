{
 "cells": [
  {
   "cell_type": "code",
   "execution_count": 1,
   "metadata": {},
   "outputs": [
    {
     "name": "stderr",
     "output_type": "stream",
     "text": [
      "c:\\Users\\ogras\\anaconda3\\envs\\optical-bloch-python\\Lib\\site-packages\\juliacall\\__init__.py:237: UserWarning: Julia was started with multiple threads but multithreading support is experimental in JuliaCall. It is recommended to restart Python with the environment variable PYTHON_JULIACALL_HANDLE_SIGNALS=yes set, otherwise you may experience segfaults or other crashes. Note however that this interferes with Python's own signal handling, so for example Ctrl-C will not raise KeyboardInterrupt. See https://juliapy.github.io/PythonCall.jl/stable/faq/#Is-PythonCall/JuliaCall-thread-safe? for further information. You can suppress this warning by setting PYTHON_JULIACALL_HANDLE_SIGNALS=no.\n",
      "  warnings.warn(\n"
     ]
    },
    {
     "name": "stdout",
     "output_type": "stream",
     "text": [
      "Detected IPython. Loading juliacall extension. See https://juliapy.github.io/PythonCall.jl/stable/compat/#IPython\n"
     ]
    }
   ],
   "source": [
    "import copy\n",
    "from typing import Sequence\n",
    "\n",
    "import numpy as np\n",
    "import sympy as smp\n",
    "import matplotlib.pyplot as plt\n",
    "\n",
    "from optical_bloch.utils.general import flatten\n",
    "from optical_bloch.utils.setup import hamiltonian_setup\n",
    "from optical_bloch import (\n",
    "    Hamiltonian,\n",
    "    Dissipator,\n",
    "    BlochEquations,\n",
    "    generate_code,\n",
    "    generate_lindblad_function_julia,\n",
    ")\n",
    "\n",
    "from optical_bloch.julia_utils import (\n",
    "    OdeParameters,\n",
    "    init_julia,\n",
    "    OBEProblem,\n",
    "    OBEProblemConfig,\n",
    "    setup_solve_problem,\n",
    "    init_julia_ensemble,\n",
    "    OBEEnsembleProblem,\n",
    "    OBEEnsembleProblemConfig,\n",
    "    solve_problem_ensemble,\n",
    "    setup_ensemble_problem,\n",
    "    get_diagonal_indices_flattened,\n",
    "    get_results,\n",
    "    OBEResult,\n",
    ")\n",
    "\n",
    "plt.rcParams.update({\"font.size\": 14})\n"
   ]
  },
  {
   "cell_type": "code",
   "execution_count": 2,
   "metadata": {},
   "outputs": [
    {
     "data": {
      "text/latex": [
       "$\\displaystyle \\left[\\begin{matrix}E_{0} & 0 & - \\frac{Ω_{0} e^{1.0 i t ω_{0}}}{2}\\\\0 & E_{1} & - \\frac{Ω_{1} e^{1.0 i t ω_{1}}}{2}\\\\- \\frac{e^{- 1.0 i t ω_{0}} \\overline{Ω_{0}}}{2} & - \\frac{e^{- 1.0 i t ω_{1}} \\overline{Ω_{1}}}{2} & E_{2}\\end{matrix}\\right]$"
      ],
      "text/plain": [
       "Matrix([\n",
       "[                               E0,                                 0, -Ω0*exp(1.0*I*t*ω0)/2],\n",
       "[                                0,                                E1, -Ω1*exp(1.0*I*t*ω1)/2],\n",
       "[-exp(-1.0*I*t*ω0)*conjugate(Ω0)/2, -exp(-1.0*I*t*ω1)*conjugate(Ω1)/2,                    E2]])"
      ]
     },
     "metadata": {},
     "output_type": "display_data"
    },
    {
     "data": {
      "text/latex": [
       "$\\displaystyle \\left[\\begin{matrix}E_{0} + ω_{0} & 0 & - \\frac{Ω_{0}}{2}\\\\0 & E_{1} + ω_{1} & - \\frac{Ω_{1}}{2}\\\\- \\frac{\\overline{Ω_{0}}}{2} & - \\frac{\\overline{Ω_{1}}}{2} & E_{2}\\end{matrix}\\right]$"
      ],
      "text/plain": [
       "Matrix([\n",
       "[         E0 + ω0,                0, -Ω0/2],\n",
       "[               0,          E1 + ω1, -Ω1/2],\n",
       "[-conjugate(Ω0)/2, -conjugate(Ω1)/2,    E2]])"
      ]
     },
     "metadata": {},
     "output_type": "display_data"
    },
    {
     "data": {
      "text/latex": [
       "$\\displaystyle \\left[\\begin{matrix}E_{2} - δ_{0} & 0 & - \\frac{Ω_{0}}{2}\\\\0 & E_{2} - δ_{1} & - \\frac{Ω_{1}}{2}\\\\- \\frac{\\overline{Ω_{0}}}{2} & - \\frac{\\overline{Ω_{1}}}{2} & E_{2}\\end{matrix}\\right]$"
      ],
      "text/plain": [
       "Matrix([\n",
       "[         E2 - δ0,                0, -Ω0/2],\n",
       "[               0,          E2 - δ1, -Ω1/2],\n",
       "[-conjugate(Ω0)/2, -conjugate(Ω1)/2,    E2]])"
      ]
     },
     "metadata": {},
     "output_type": "display_data"
    }
   ],
   "source": [
    "energies = smp.symbols(\"E0:3\", real=True)\n",
    "\n",
    "omegas = smp.symbols(\"ω0:2\", real=True)\n",
    "Omegas = smp.symbols(\"Ω0:2\", complex=True)\n",
    "deltas = smp.symbols(\"δ0:2\", real=True)\n",
    "Gammas = smp.symbols(\"Γ0:2\", real=True)\n",
    "ham = Hamiltonian(3)\n",
    "ham.add_energies(energies)\n",
    "ham.add_coupling(0, 2, Omegas[0], omegas[0])\n",
    "ham.add_coupling(1, 2, Omegas[1], omegas[1])\n",
    "\n",
    "display(ham.hamiltonian)\n",
    "\n",
    "ham.eqn_transform()\n",
    "\n",
    "display(ham.transformed)\n",
    "\n",
    "ham.define_state_detuning(0, 2, deltas[0])\n",
    "ham.define_state_detuning(1, 2, deltas[1])\n",
    "\n",
    "display(ham.transformed)\n",
    "\n",
    "ham.remove_common_energy()\n",
    "\n",
    "transformed = ham.transformed\n",
    "\n",
    "transformed\n",
    "dis = Dissipator(ham.levels)\n",
    "\n",
    "for idi, idf, Gamma in zip([2, 2], [0, 1], Gammas):\n",
    "    dis.add_decay(idi, idf, Gamma)\n",
    "\n",
    "bloch = BlochEquations(ham.levels, dis.density_matrix, transformed, dis.dissipator)\n",
    "code, free_parameters, compound_parameters, fixed_parameters = (\n",
    "    generate_lindblad_function_julia(bloch.equations.rhs, bloch.density_matrix, [])\n",
    ")\n"
   ]
  },
  {
   "cell_type": "code",
   "execution_count": 3,
   "metadata": {},
   "outputs": [
    {
     "data": {
      "text/latex": [
       "$\\displaystyle \\left[\\begin{matrix}- δ_{0} & 0 & - \\frac{Ω_{0}}{2}\\\\0 & - δ_{1} & - \\frac{Ω_{1}}{2}\\\\- \\frac{\\overline{Ω_{0}}}{2} & - \\frac{\\overline{Ω_{1}}}{2} & 0\\end{matrix}\\right]$"
      ],
      "text/plain": [
       "Matrix([\n",
       "[             -δ0,                0, -Ω0/2],\n",
       "[               0,              -δ1, -Ω1/2],\n",
       "[-conjugate(Ω0)/2, -conjugate(Ω1)/2,     0]])"
      ]
     },
     "execution_count": 3,
     "metadata": {},
     "output_type": "execute_result"
    }
   ],
   "source": [
    "transformed"
   ]
  },
  {
   "cell_type": "code",
   "execution_count": 4,
   "metadata": {},
   "outputs": [
    {
     "name": "stdout",
     "output_type": "stream",
     "text": [
      "function lindblad!(du, u, p, t)\n",
      "    \t@inbounds begin\n",
      "    \t\tΓ0 = p[1]\n",
      "\t\tΓ1 = p[2]\n",
      "\t\tΩ0 = p[3]\n",
      "\t\tΩ1 = p[4]\n",
      "\t\tδ0 = p[5]\n",
      "\t\tδ1 = p[6]\n",
      "\t\tdu[1,1] = Γ0*u[3,3] + 1.0im*(Ω0*conj(u[1,3]) - u[1,3]*conj(Ω0))/2\n",
      "\t\tdu[1,2] = 1.0im*(Ω0*conj(u[2,3])/2 + δ0*u[1,2] - δ1*u[1,2] - u[1,3]*conj(Ω1)/2)\n",
      "\t\tdu[1,3] = -(Γ0 + Γ1)*u[1,3]/2 - 1.0im*(Ω0*u[1,1] - Ω0*u[3,3] + Ω1*u[1,2] - 2*δ0*u[1,3])/2\n",
      "\t\tdu[2,2] = Γ1*u[3,3] + 1.0im*(Ω1*conj(u[2,3]) - u[2,3]*conj(Ω1))/2\n",
      "\t\tdu[2,3] = -(Γ0 + Γ1)*u[2,3]/2 - 1.0im*(Ω0*conj(u[1,2]) + Ω1*u[2,2] - Ω1*u[3,3] - 2*δ1*u[2,3])/2\n",
      "\t\tdu[3,3] = -(Γ0 + Γ1)*u[3,3] - 1.0im*(Ω0*conj(u[1,3]) + Ω1*conj(u[2,3]) - u[1,3]*conj(Ω0) - u[2,3]*conj(Ω1))/2\n",
      "\tend\n",
      "\tnothing\n",
      "end\n"
     ]
    }
   ],
   "source": [
    "print(code)"
   ]
  },
  {
   "cell_type": "code",
   "execution_count": 5,
   "metadata": {},
   "outputs": [],
   "source": [
    "from juliacall import Main as jl\n",
    "\n",
    "init_julia(code)\n"
   ]
  },
  {
   "cell_type": "code",
   "execution_count": 6,
   "metadata": {},
   "outputs": [],
   "source": [
    "from juliacall import Main as jl"
   ]
  },
  {
   "cell_type": "code",
   "execution_count": 7,
   "metadata": {},
   "outputs": [],
   "source": [
    "from numbers import Number\n",
    "import numpy as np\n",
    "import numpy.typing as npt\n",
    "import re\n",
    "\n",
    "\n",
    "class OdeParameters:\n",
    "    def __init__(\n",
    "        self,\n",
    "        free_parameters: Sequence[smp.Symbol],\n",
    "        compound_parameters: Sequence[tuple[smp.Symbol, smp.Expr]],\n",
    "        fixed_parameters: Sequence[tuple[smp.Symbol, Number]],\n",
    "    ) -> None:\n",
    "        self._free_parameters = dict([(str(par), par) for par in free_parameters])\n",
    "        self._compound_parameters = dict(\n",
    "            [(str(par), par) for par, _ in compound_parameters]\n",
    "        )\n",
    "        self._fixed_parameters = dict([(str(par), par) for par, _ in fixed_parameters])\n",
    "\n",
    "        for key, val in fixed_parameters + compound_parameters:\n",
    "            setattr(self, str(key), val)\n",
    "        for key in free_parameters:\n",
    "            setattr(self, str(key), None)\n",
    "\n",
    "    def __repr__(self) -> str:\n",
    "        rep = \"OdeParameters(\"\n",
    "        for par in self._free_parameters:\n",
    "            rep += f\"{par}={getattr(self, par)}, \"\n",
    "        return rep.strip(\", \") + \")\"\n",
    "\n",
    "    def __setattr__(self, name: str, value) -> None:\n",
    "        if name in [\n",
    "            \"_free_parameters\",\n",
    "            \"_compound_parameters\",\n",
    "            \"_fixed_parameters\",\n",
    "        ]:\n",
    "            super(OdeParameters, self).__setattr__(name, value)\n",
    "        elif name in self._free_parameters.keys():\n",
    "            assert not isinstance(\n",
    "                value, smp.Expr\n",
    "            ), \"Cannot change parameter from numeric to str\"\n",
    "            super(OdeParameters, self).__setattr__(name, value)\n",
    "        elif name in self._compound_parameters.keys():\n",
    "            assert isinstance(\n",
    "                value, smp.Expr\n",
    "            ), \"Cannot change parameter from str to numeric\"\n",
    "            super(OdeParameters, self).__setattr__(name, value)\n",
    "        elif name in self._fixed_parameters.keys():\n",
    "            assert not isinstance(value, smp.Expr), \"Cannot change numeric to str\"\n",
    "            super(OdeParameters, self).__setattr__(name, value)\n",
    "        else:\n",
    "            raise AssertionError(\n",
    "                \"Cannot instantiate new parameter on initialized OdeParameters object\"\n",
    "            )\n",
    "\n",
    "    @property\n",
    "    def parameter_values(self) -> dict[smp.Symbol, Number | smp.Expr | smp.Symbol]:\n",
    "        parameter_values: dict[smp.Symbol, Number | smp.Expr | smp.Symbol] = {}\n",
    "        for par_str, par in self._compound_parameters.items():\n",
    "            parameter_values[par] = getattr(self, par_str)\n",
    "        for par_str, par in self._fixed_parameters.items():\n",
    "            parameter_values[par] = getattr(self, par_str)\n",
    "        for par_str, par in self._free_parameters.items():\n",
    "            parameter_values[par] = getattr(self, par_str)\n",
    "        return parameter_values\n",
    "\n",
    "    @property\n",
    "    def fixed_parameters(self) -> dict[smp.Symbol, Number]:\n",
    "        return dict(\n",
    "            [(par, getattr(self, str(par))) for par in self._fixed_parameters.values()]\n",
    "        )\n",
    "\n",
    "    @property\n",
    "    def free_parameters(self) -> dict[smp.Symbol, Number]:\n",
    "        return dict(\n",
    "            [(par, getattr(self, str(par))) for par in self._free_parameters.values()]\n",
    "        )\n",
    "\n",
    "    @property\n",
    "    def compound_parameters(self) -> dict[smp.Symbol, smp.Expr]:\n",
    "        return dict(\n",
    "            [\n",
    "                (par, getattr(self, str(par)))\n",
    "                for par in self._compound_parameters.values()\n",
    "            ]\n",
    "        )\n",
    "\n",
    "    @property\n",
    "    def p(self) -> tuple[Number]:\n",
    "        return tuple([getattr(self, par) for par in self._free_parameters.keys()])\n",
    "\n",
    "    def _time_evolution_compound_parameter(\n",
    "        self, parameter: str, t: npt.NDArray[np.float64]\n",
    "    ) -> npt.NDArray[np.float64]:\n",
    "        expression = self._compound_parameters[parameter]\n",
    "\n",
    "        expression = expression.subs(self.parameter_values)\n",
    "\n",
    "        # vectorize over all function calls dotting (.) function calls, e.g. sin.(t)\n",
    "        # instead of sin(t)\n",
    "        pattern = r\"([a-zA-Z])\\(\"\n",
    "        str_expression = re.sub(pattern, r\"\\1.(\", str(expression))\n",
    "\n",
    "        # vectorize full expression by putting a dot (.) before all mathematical\n",
    "        # operators\n",
    "        pattern = r\"([+\\-*/^=<>])\"\n",
    "        str_expression = re.sub(pattern, r\".\\1\", str_expression)\n",
    "\n",
    "        from juliacall import Main as jl\n",
    "\n",
    "        jl.t = t\n",
    "        return np.array(jl.seval(str_expression))\n"
   ]
  },
  {
   "cell_type": "code",
   "execution_count": 8,
   "metadata": {},
   "outputs": [
    {
     "data": {
      "text/plain": [
       "OdeParameters(Γ0=None, Γ1=None, Ω0=None, Ω1=None, δ0=None, δ1=None)"
      ]
     },
     "execution_count": 8,
     "metadata": {},
     "output_type": "execute_result"
    }
   ],
   "source": [
    "odepars = OdeParameters(free_parameters, compound_parameters, fixed_parameters)\n",
    "odepars\n"
   ]
  },
  {
   "cell_type": "code",
   "execution_count": 9,
   "metadata": {},
   "outputs": [],
   "source": [
    "odepars.Γ0 = 1 / 2\n",
    "odepars.Γ1 = 1 / 2\n",
    "odepars.Ω0 = 1.0\n",
    "odepars.Ω1 = 1.0\n",
    "odepars.δ0 = 0.0\n",
    "odepars.δ1 = 0.0\n"
   ]
  },
  {
   "cell_type": "code",
   "execution_count": 10,
   "metadata": {},
   "outputs": [],
   "source": [
    "ρ = np.zeros(transformed.shape, dtype=complex)\n",
    "for idx in range(2):\n",
    "    ρ[idx, idx] = 1 / 2\n",
    "\n",
    "problem = OBEProblem(odepars, ρ, (0, 150))\n",
    "config = OBEProblemConfig(save_everystep=True)\n"
   ]
  },
  {
   "cell_type": "code",
   "execution_count": 11,
   "metadata": {},
   "outputs": [],
   "source": [
    "sol = setup_solve_problem(problem, config)"
   ]
  },
  {
   "cell_type": "code",
   "execution_count": 12,
   "metadata": {},
   "outputs": [
    {
     "data": {
      "text/plain": [
       "decays! (generic function with 1 method)"
      ]
     },
     "execution_count": 12,
     "metadata": {},
     "output_type": "execute_result"
    }
   ],
   "source": [
    "jl.seval(\"\"\"\n",
    "using LinearAlgebra\n",
    "using MKL\n",
    "using StaticArrays\n",
    "\n",
    "function func_hamiltonian_commutator!(du, hamiltonians, prefactors, ρ)\n",
    "    fill!(du, 0.0im)\n",
    "    for idx in 1:length(hamiltonians)\n",
    "        mul!(du, hamiltonians[idx], ρ, prefactors[idx], 1.0)\n",
    "        mul!(du, ρ, hamiltonians[idx], -prefactors[idx], 1.0)\n",
    "    end\n",
    "end\n",
    "\n",
    "\n",
    "function decays!(du, decays, prefactors, ρ, buffers)\n",
    "    tmp, G, GT, G2 = buffers\n",
    "    for idx in 1:length(decays)\n",
    "        G .= sqrt(prefactors[idx]).*decays[idx]\n",
    "        GT .= transpose(G)\n",
    "        mul!(G2, GT, G)\n",
    "        mul!(du, G2, ρ, -1/2, 1.0)\n",
    "        mul!(du, ρ, G2, -1/2, 1.0)\n",
    "        mul!(tmp, ρ, GT)\n",
    "        mul!(du, G, tmp, 1.0, 1.0)\n",
    "    end\n",
    "end\n",
    "\"\"\")\n"
   ]
  },
  {
   "cell_type": "code",
   "execution_count": 13,
   "metadata": {},
   "outputs": [],
   "source": [
    "from dataclasses import dataclass\n",
    "\n",
    "\n",
    "@dataclass\n",
    "class Coupling:\n",
    "    Ω: smp.Symbol\n",
    "    δ: smp.Symbol\n",
    "    H: np.array\n",
    "    δ_matrix: np.array\n",
    "\n",
    "\n",
    "def get_couplings(hamiltonian: Hamiltonian) -> list[Coupling]:\n",
    "    couplings = []\n",
    "    for cpl in hamiltonian.detunings:\n",
    "        ω, Eg, Ee, δ, initial, final = cpl\n",
    "        Ω = hamiltonian.rabis[(initial, final)]\n",
    "        free_symbols = list(hamiltonian.transformed.free_symbols)\n",
    "        det = np.array(\n",
    "            hamiltonian.transformed.subs(\n",
    "                [(val, 0) for val in [s for s in free_symbols if s != δ]]\n",
    "            ).subs(δ, 1),\n",
    "            dtype=np.complex128,\n",
    "        )\n",
    "        H = np.array(\n",
    "            hamiltonian.transformed.subs(\n",
    "                [(val, 0) for val in [s for s in free_symbols if s != Ω]]\n",
    "            ).subs(Ω, 1),\n",
    "            dtype=np.complex128,\n",
    "        )\n",
    "        couplings.append(Coupling(Ω, δ, H, det))\n",
    "    return couplings\n"
   ]
  },
  {
   "cell_type": "code",
   "execution_count": 14,
   "metadata": {},
   "outputs": [],
   "source": [
    "@dataclass\n",
    "class Decay:\n",
    "    Γ: smp.Symbol\n",
    "    Γ_matrix: np.array\n",
    "\n",
    "\n",
    "def get_decays(dissipator: Dissipator) -> list[Decay]:\n",
    "    decays = []\n",
    "    for initial, final, symbol in dissipator.decays:\n",
    "        Γ_matrix = np.zeros(dis.dissipator.shape, dtype=np.complex128)\n",
    "        Γ_matrix[final, initial] = 1.0\n",
    "        decays.append(Decay(symbol, Γ_matrix))\n",
    "    return decays\n"
   ]
  },
  {
   "cell_type": "code",
   "execution_count": 151,
   "metadata": {},
   "outputs": [],
   "source": [
    "from numbers import Number\n",
    "\n",
    "from optical_bloch.generate_code import (\n",
    "    get_parameters_functions,\n",
    "    defined_julia_functions,\n",
    ")\n",
    "\n",
    "\n",
    "def generate_new_julia_code(\n",
    "    equation_rhs: smp.matrices.MutableDenseMatrix,\n",
    "    couplings: list[Coupling],\n",
    "    decays: list[Decay],\n",
    "    replacements: list[tuple[smp.Symbol, Number | smp.Expr]] = [],\n",
    "    function_name: str = \"lindblad!\",\n",
    "    simplify: bool = True,\n",
    "):\n",
    "    free_parameters, fixed_parameters, compound_parameters, functions = (\n",
    "        get_parameters_functions(equation_rhs, replacements)\n",
    "    )\n",
    "\n",
    "    julia_functions = defined_julia_functions()\n",
    "    for func in functions:\n",
    "        assert str(func) in julia_functions, f'Function \"{func}\" not defined in Julia'\n",
    "\n",
    "    function = f\"\"\"function {function_name}(du, u, p, t)\n",
    "    \\t@inbounds begin\n",
    "    \"\"\"\n",
    "    for idp, parameter in enumerate(free_parameters):\n",
    "        function += f\"\\t\\t{parameter} = p[{idp+1}]\\n\"\n",
    "    if len(replacements) > 0:\n",
    "        for parameter, value in fixed_parameters:\n",
    "            function += f\"\\t\\t{parameter} = {value}\\n\"\n",
    "        for parameter, value in compound_parameters:\n",
    "            function += f\"\\t\\t{parameter} = {value}\\n\"\n",
    "    function += f\"\\t\\thamiltonians = p[{idp+2}]\\n\"\n",
    "    function += f\"\\t\\tprefactors_hamiltonians = p[{idp+3}]\\n\"\n",
    "\n",
    "    function += f\"\\t\\tdecays = p[{idp+4}]\\n\"\n",
    "    function += f\"\\t\\tprefactors_decays = p[{idp+5}]\\n\"\n",
    "    function += f\"\\t\\tbuffers = p[{idp+6}]\\n\"\n",
    "\n",
    "    for idx, coupling in enumerate(couplings):\n",
    "        function += f\"\\t\\tprefactors_hamiltonians[{idx*3+1}] = {coupling.Ω}\\n\"\n",
    "        function += f\"\\t\\tprefactors_hamiltonians[{idx*3+2}] = conj({coupling.Ω})\\n\"\n",
    "        function += f\"\\t\\tprefactors_hamiltonians[{idx*3+3}] = {coupling.δ}\\n\"\n",
    "\n",
    "    for idx, decay in enumerate(decays):\n",
    "        function += f\"\\t\\tprefactors_decays[{idx+1}] = {decay.Γ}\\n\"\n",
    "\n",
    "    function += \"\\t\\tfunc_hamiltonian_commutator!(du, hamiltonians, prefactors_hamiltonians, u)\\n\"\n",
    "    function += \"\\t\\tdu .*= -1im\\n\"\n",
    "    function += \"\\t\\tdecays!(du, decays, prefactors_decays, u, buffers)\\n\"\n",
    "    function += \"\\tend\\n\"\n",
    "    function += \"\\tnothing\\n\"\n",
    "    function += \"end\"\n",
    "\n",
    "    return (\n",
    "        function,\n",
    "        tuple(free_parameters),\n",
    "        tuple(compound_parameters),\n",
    "        tuple(fixed_parameters),\n",
    "    )\n"
   ]
  },
  {
   "cell_type": "code",
   "execution_count": 152,
   "metadata": {},
   "outputs": [
    {
     "name": "stdout",
     "output_type": "stream",
     "text": [
      "function lindblad_new!(du, u, p, t)\n",
      "    \t@inbounds begin\n",
      "    \t\tΓ0 = p[1]\n",
      "\t\tΓ1 = p[2]\n",
      "\t\tΩ0 = p[3]\n",
      "\t\tΩ1 = p[4]\n",
      "\t\tδ0 = p[5]\n",
      "\t\tδ1 = p[6]\n",
      "\t\thamiltonians = p[7]\n",
      "\t\tprefactors_hamiltonians = p[8]\n",
      "\t\tdecays = p[9]\n",
      "\t\tprefactors_decays = p[10]\n",
      "\t\tbuffers = p[11]\n",
      "\t\tprefactors_hamiltonians[1] = Ω0\n",
      "\t\tprefactors_hamiltonians[2] = conj(Ω0)\n",
      "\t\tprefactors_hamiltonians[3] = δ0\n",
      "\t\tprefactors_hamiltonians[4] = Ω1\n",
      "\t\tprefactors_hamiltonians[5] = conj(Ω1)\n",
      "\t\tprefactors_hamiltonians[6] = δ1\n",
      "\t\tprefactors_decays[1] = Γ0\n",
      "\t\tprefactors_decays[2] = Γ1\n",
      "\t\tfunc_hamiltonian_commutator!(du, hamiltonians, prefactors_hamiltonians, u)\n",
      "\t\tdu .*= -1im\n",
      "\t\tdecays!(du, decays, prefactors_decays, u, buffers)\n",
      "\tend\n",
      "\tnothing\n",
      "end\n"
     ]
    },
    {
     "data": {
      "text/plain": [
       "lindblad_new! (generic function with 1 method)"
      ]
     },
     "execution_count": 152,
     "metadata": {},
     "output_type": "execute_result"
    }
   ],
   "source": [
    "couplings = get_couplings(ham)\n",
    "decays = get_decays(dis)\n",
    "function_new, free_params, compound_params, fixed_params = generate_new_julia_code(\n",
    "    bloch.equations.rhs, couplings, decays, function_name=\"lindblad_new!\"\n",
    ")\n",
    "print(function_new)\n",
    "jl.seval(function_new)\n"
   ]
  },
  {
   "cell_type": "code",
   "execution_count": 153,
   "metadata": {},
   "outputs": [],
   "source": [
    "def generate_buffers_julia(size: int, use_static_arrays: bool = True):\n",
    "    if use_static_arrays:\n",
    "        jl.seval(f\"\"\"\n",
    "            buff = @MMatrix zeros(Complex{{Float64}},{size},{size})\n",
    "            G = @MMatrix zeros(Complex{{Float64}},{size},{size})\n",
    "            GT = @MMatrix zeros(Complex{{Float64}},{size},{size})\n",
    "            G2 = @MMatrix zeros(Complex{{Float64}},{size},{size})\n",
    "            buffers = [buff, G, GT, G2]\n",
    "        \"\"\")\n",
    "    else:\n",
    "        jl.seval(f\"\"\"\n",
    "            tmp = zeros(Complex{{Float64}},{size},{size})\n",
    "            G = zeros(Complex{{Float64}},{size},{size})\n",
    "            GT = zeros(Complex{{Float64}},{size},{size})\n",
    "            G2 = zeros(Complex{{Float64}},{size},{size})\n",
    "            buffers = [tmp, G, GT, G2]\n",
    "        \"\"\")\n",
    "\n",
    "\n",
    "def generate_couplings_julia(couplings: list[Coupling], use_static_arrays: bool = True):\n",
    "    size = couplings[0].H.shape[0]\n",
    "    static_arrays = (\n",
    "        f\"SMatrix{{{size}, {size},Complex{{Float64}}}}\" if use_static_arrays else \"\"\n",
    "    )\n",
    "    for idx, coupling in enumerate(couplings):\n",
    "        setattr(jl, f\"coupling{idx+1}\", coupling.H)\n",
    "        jl.seval(f\"coupling{idx+1} = {static_arrays}(Matrix(coupling{idx+1}))\")\n",
    "        setattr(jl, f\"detuning{idx+1}\", coupling.δ_matrix)\n",
    "        jl.seval(f\"detuning{idx+1} = {static_arrays}(Matrix(detuning{idx+1}))\")\n",
    "\n",
    "\n",
    "def generate_decays_julia(decays: list[Decay], use_static_arrays: bool = True):\n",
    "    static_arrays = (\n",
    "        f\"SMatrix{{{size}, {size},Complex{{Float64}}}}\" if use_static_arrays else \"\"\n",
    "    )\n",
    "    for idx, decay in enumerate(decays):\n",
    "        setattr(jl, f\"decay{idx+1}\", decay.Γ_matrix)\n",
    "        jl.seval(f\"decay{idx+1} = {static_arrays}(Matrix(decay{idx+1}))\")\n",
    "\n",
    "\n",
    "def generate_julia_matrices(\n",
    "    couplings: list[Coupling], decays: list[Decay], use_static_arrays: bool = True\n",
    "):\n",
    "    size = couplings[0].H.shape[0]\n",
    "    generate_buffers_julia(size, use_static_arrays)\n",
    "    generate_couplings_julia(couplings, use_static_arrays)\n",
    "    generate_decays_julia(decays, use_static_arrays)\n",
    "\n",
    "    static_arrays = (\n",
    "        f\"SMatrix{{{size}, {size},Complex{{Float64}}}}\" if use_static_arrays else \"\"\n",
    "    )\n",
    "\n",
    "    hamiltonian_str = \"hamiltonians  = [\"\n",
    "    for idx, _ in enumerate(couplings):\n",
    "        hamiltonian_str += f\"{static_arrays}(triu(Matrix(coupling{idx+1}))),{static_arrays}(tril(Matrix(coupling{idx+1}))),detuning{idx+1},\"\n",
    "    hamiltonian_str = hamiltonian_str.strip(\",\")\n",
    "    hamiltonian_str += \"]\"\n",
    "    jl.seval(hamiltonian_str)\n",
    "\n",
    "    decay_str = \"decays = [\"\n",
    "    for idx, _ in enumerate(decays):\n",
    "        decay_str += f\"decay{idx+1},\"\n",
    "    decay_str = decay_str.strip(\",\")\n",
    "    decay_str += \"]\"\n",
    "    jl.seval(decay_str)\n",
    "\n",
    "    prefactors_hamiltonians = np.zeros(len(couplings) * 3)\n",
    "    static_arrays = (\n",
    "        f\"MVector{{{prefactors_hamiltonians.size},Complex{{Float64}}}}\"\n",
    "        if use_static_arrays\n",
    "        else \"\"\n",
    "    )\n",
    "    jl.prefactors_hamiltonians = prefactors_hamiltonians\n",
    "    jl.seval(\n",
    "        f\"prefactors_hamiltonians =  {static_arrays}(Vector(prefactors_hamiltonians))\"\n",
    "    )\n",
    "\n",
    "    prefactors_decays = np.zeros(len(decays))\n",
    "    static_arrays = (\n",
    "        f\"MVector{{{prefactors_decays.size},Complex{{Float64}}}}\"\n",
    "        if use_static_arrays\n",
    "        else \"\"\n",
    "    )\n",
    "    jl.prefactors_decays = prefactors_decays\n",
    "    jl.seval(f\"prefactors_decays = {static_arrays}(Vector(prefactors_decays))\")\n"
   ]
  },
  {
   "cell_type": "code",
   "execution_count": 154,
   "metadata": {},
   "outputs": [
    {
     "name": "stdout",
     "output_type": "stream",
     "text": [
      "function lindblad_new!(du, u, p, t)\n",
      "    \t@inbounds begin\n",
      "    \t\tΓ0 = p[1]\n",
      "\t\tΓ1 = p[2]\n",
      "\t\tΩ0 = p[3]\n",
      "\t\tΩ1 = p[4]\n",
      "\t\tδ0 = p[5]\n",
      "\t\tδ1 = p[6]\n",
      "\t\thamiltonians = p[7]\n",
      "\t\tprefactors_hamiltonians = p[8]\n",
      "\t\tdecays = p[9]\n",
      "\t\tprefactors_decays = p[10]\n",
      "\t\tbuffers = p[11]\n",
      "\t\tprefactors_hamiltonians[1] = Ω0\n",
      "\t\tprefactors_hamiltonians[2] = conj(Ω0)\n",
      "\t\tprefactors_hamiltonians[3] = δ0\n",
      "\t\tprefactors_hamiltonians[4] = Ω1\n",
      "\t\tprefactors_hamiltonians[5] = conj(Ω1)\n",
      "\t\tprefactors_hamiltonians[6] = δ1\n",
      "\t\tprefactors_decays[1] = Γ0\n",
      "\t\tprefactors_decays[2] = Γ1\n",
      "\t\tfunc_hamiltonian_commutator!(du, hamiltonians, prefactors_hamiltonians, u)\n",
      "\t\tdu .*= -1im\n",
      "\t\tdecays!(du, decays, prefactors_decays, u, buffers)\n",
      "\tend\n",
      "\tnothing\n",
      "end\n"
     ]
    }
   ],
   "source": [
    "print(function_new)"
   ]
  },
  {
   "cell_type": "code",
   "execution_count": 166,
   "metadata": {},
   "outputs": [],
   "source": [
    "generate_julia_matrices(couplings, decays, use_static_arrays=True)"
   ]
  },
  {
   "cell_type": "code",
   "execution_count": 198,
   "metadata": {},
   "outputs": [
    {
     "data": {
      "text/plain": [
       "3×3 MMatrix{3, 3, ComplexF64, 9} with indices SOneTo(3)×SOneTo(3):\n",
       " 0.0+0.0im  0.0+0.0im  0.0+0.0im\n",
       " 0.0+0.0im  0.0+0.0im  0.0+0.0im\n",
       " 0.0+0.0im  0.0+0.0im  0.0+0.0im"
      ]
     },
     "execution_count": 198,
     "metadata": {},
     "output_type": "execute_result"
    }
   ],
   "source": [
    "jl.seval(\"\"\"\n",
    "    using BenchmarkTools\n",
    "    pother = (p..., hamiltonians, prefactors_hamiltonians, decays, prefactors_decays, buffers)\n",
    "    ρother = ρ\n",
    "    du = MMatrix{3,3,Complex{Float64}}(ρother)\n",
    "    du .= 0\n",
    "\"\"\")\n"
   ]
  },
  {
   "cell_type": "code",
   "execution_count": 200,
   "metadata": {},
   "outputs": [
    {
     "data": {
      "text/plain": [
       "BenchmarkTools.Trial: 10000 samples with 148 evaluations.\n",
       " Range (min … max):  688.514 ns …  10.188 μs  ┊ GC (min … max): 0.00% … 0.00%\n",
       " Time  (median):     885.135 ns               ┊ GC (median):    0.00%\n",
       " Time  (mean ± σ):   956.473 ns ± 308.686 ns  ┊ GC (mean ± σ):  0.00% ± 0.00%\n",
       "\n",
       "   █ ▃  ▅▄▁▃▃                                                    \n",
       "  ████▆▄█████▆▆▆▆▆▇▆▇▆▅▄▅▇▅▅█▆▄▄▃▃▃▃▃▃▂▂▂▂▂▂▂▂▂▂▂▂▂▂▂▂▂▂▂▂▂▂▂▁▂ ▄\n",
       "  689 ns           Histogram: frequency by time         1.82 μs <\n",
       "\n",
       " Memory estimate: 0 bytes, allocs estimate: 0."
      ]
     },
     "execution_count": 200,
     "metadata": {},
     "output_type": "execute_result"
    }
   ],
   "source": [
    "jl.seval(\n",
    "    \"@benchmark func_hamiltonian_commutator!(du, hamiltonians, prefactors_hamiltonians, ρother)\"\n",
    ")\n"
   ]
  },
  {
   "cell_type": "code",
   "execution_count": 201,
   "metadata": {},
   "outputs": [
    {
     "data": {
      "text/plain": [
       "BenchmarkTools.Trial: 10000 samples with 149 evaluations.\n",
       " Range (min … max):  683.893 ns …  13.544 μs  ┊ GC (min … max): 0.00% … 0.00%\n",
       " Time  (median):     871.141 ns               ┊ GC (median):    0.00%\n",
       " Time  (mean ± σ):   914.465 ns ± 346.210 ns  ┊ GC (mean ± σ):  0.00% ± 0.00%\n",
       "\n",
       "   █ ▄  ▄▁▁▃▃▁                                                   \n",
       "  ▆███▇████████▅▆▇▆█▆▆█▅▃▃▃▃▂▂▂▂▂▂▂▂▂▂▂▂▂▂▂▂▂▂▂▂▂▂▂▂▂▂▂▂▂▁▂▂▂▂▂ ▃\n",
       "  684 ns           Histogram: frequency by time         1.86 μs <\n",
       "\n",
       " Memory estimate: 0 bytes, allocs estimate: 0."
      ]
     },
     "execution_count": 201,
     "metadata": {},
     "output_type": "execute_result"
    }
   ],
   "source": [
    "jl.seval(\"@benchmark decays!(du, decays, prefactors_decays, ρother, buffers)\")"
   ]
  },
  {
   "cell_type": "code",
   "execution_count": 202,
   "metadata": {},
   "outputs": [
    {
     "data": {
      "text/plain": [
       "BenchmarkTools.Trial: 10000 samples with 10 evaluations.\n",
       " Range (min … max):  1.360 μs …  36.340 μs  ┊ GC (min … max): 0.00% … 0.00%\n",
       " Time  (median):     1.710 μs               ┊ GC (median):    0.00%\n",
       " Time  (mean ± σ):   1.862 μs ± 856.397 ns  ┊ GC (mean ± σ):  0.00% ± 0.00%\n",
       "\n",
       "  ▄▆▇▄▃▃▇█▇▅▅▅▆▅▄▄▃▃▃▂▂    ▁▁▁▁    ▁                          ▂\n",
       "  ███████████████████████▇▇███████▇█▇█▇▇▇▇▇▆▆▇▅▆▆▃▆▅▅▆▄▆▅▆▅▆▆ █\n",
       "  1.36 μs      Histogram: log(frequency) by time      3.95 μs <\n",
       "\n",
       " Memory estimate: 0 bytes, allocs estimate: 0."
      ]
     },
     "execution_count": 202,
     "metadata": {},
     "output_type": "execute_result"
    }
   ],
   "source": [
    "jl.seval(\"@benchmark lindblad_new!(du, ρ, pother, 1e-6)\")"
   ]
  },
  {
   "cell_type": "code",
   "execution_count": 203,
   "metadata": {},
   "outputs": [
    {
     "data": {
      "image/png": "[encoded data removed]",
      "text/plain": [
       "<Figure size 640x480 with 1 Axes>"
      ]
     },
     "metadata": {},
     "output_type": "display_data"
    }
   ],
   "source": [
    "jl.seval(\"\"\"\n",
    "prob = ODEProblem(lindblad!, ρ, (0,150), p)\n",
    "sol = solve(prob, Tsit5())\n",
    "\"\"\")\n",
    "sol = get_results(\"sol\")\n",
    "res = np.einsum(\"ijj->ij\", sol.y).real\n",
    "\n",
    "fig, ax = plt.subplots()\n",
    "ax.plot(sol.t, res)\n",
    "ax.grid()\n"
   ]
  },
  {
   "cell_type": "code",
   "execution_count": 204,
   "metadata": {},
   "outputs": [
    {
     "data": {
      "image/png": "[encoded data removed]",
      "text/plain": [
       "<Figure size 640x480 with 1 Axes>"
      ]
     },
     "metadata": {},
     "output_type": "display_data"
    }
   ],
   "source": [
    "jl.seval(\"\"\"\n",
    "prob_new = ODEProblem(lindblad_new!, ρ, (0,150), pother)\n",
    "sol_new = solve(prob_new, Tsit5())\n",
    "\"\"\")\n",
    "sol_new = get_results(\"sol_new\")\n",
    "\n",
    "res_new = np.einsum(\"ijj->ij\", sol_new.y).real\n",
    "\n",
    "fig, ax = plt.subplots()\n",
    "ax.plot(sol_new.t, res_new)\n",
    "ax.grid()\n"
   ]
  },
  {
   "cell_type": "code",
   "execution_count": 205,
   "metadata": {},
   "outputs": [
    {
     "data": {
      "text/plain": [
       "BenchmarkTools.Trial: 2707 samples with 1 evaluation.\n",
       " Range (min … max):  1.361 ms …   8.875 ms  ┊ GC (min … max): 0.00% … 0.00%\n",
       " Time  (median):     1.786 ms               ┊ GC (median):    0.00%\n",
       " Time  (mean ± σ):   1.823 ms ± 360.405 μs  ┊ GC (mean ± σ):  0.00% ± 0.00%\n",
       "\n",
       "   ▁▄▃▁             ▃▅█▇▅▂                                     \n",
       "  ▅████▇▆▃▄▄▃▃▃▃▃▃▄▆██████▇▅▄▃▄▅▄▄▅▄▆▅▃▃▃▃▄▅▅▆▅▄▃▂▃▃▃▃▂▂▁▁▁▁▁ ▃\n",
       "  1.36 ms         Histogram: frequency by time        2.53 ms <\n",
       "\n",
       " Memory estimate: 216.91 KiB, allocs estimate: 1890."
      ]
     },
     "execution_count": 205,
     "metadata": {},
     "output_type": "execute_result"
    }
   ],
   "source": [
    "jl.seval(\"@benchmark solve(prob_new, Tsit5())\")"
   ]
  },
  {
   "cell_type": "code",
   "execution_count": 206,
   "metadata": {},
   "outputs": [
    {
     "data": {
      "text/plain": [
       "BenchmarkTools.Trial: 10000 samples with 1 evaluation.\n",
       " Range (min … max):  108.800 μs … 193.644 ms  ┊ GC (min … max):  0.00% … 99.81%\n",
       " Time  (median):     178.350 μs               ┊ GC (median):     0.00%\n",
       " Time  (mean ± σ):   213.859 μs ±   1.943 ms  ┊ GC (mean ± σ):  12.13% ±  4.43%\n",
       "\n",
       "  ▁▇█▃   ▁ ▁    ▁       ▁                                        \n",
       "  █████▅▆███▇▇▇██████▇████▆▄▄▄▃▃▂▃▂▂▂▂▃▂▃▃▃▃▂▂▂▂▂▁▁▁▁▁▁▁▁▁▁▁▁▁▁ ▃\n",
       "  109 μs           Histogram: frequency by time          403 μs <\n",
       "\n",
       " Memory estimate: 157.91 KiB, allocs estimate: 816."
      ]
     },
     "execution_count": 206,
     "metadata": {},
     "output_type": "execute_result"
    }
   ],
   "source": [
    "jl.seval(\"@benchmark solve(prob, Tsit5())\")"
   ]
  },
  {
   "cell_type": "code",
   "execution_count": 207,
   "metadata": {},
   "outputs": [
    {
     "data": {
      "image/png": "[encoded data removed]",
      "text/plain": [
       "<Figure size 640x480 with 1 Axes>"
      ]
     },
     "metadata": {},
     "output_type": "display_data"
    }
   ],
   "source": [
    "fig, ax = plt.subplots()\n",
    "ax.plot(sol.t, res.T[2])\n",
    "ax.plot(sol_new.t, res_new.T[2])\n",
    "ax.grid()\n"
   ]
  },
  {
   "cell_type": "markdown",
   "metadata": {},
   "source": [
    "# Larger system"
   ]
  },
  {
   "cell_type": "code",
   "execution_count": 208,
   "metadata": {},
   "outputs": [
    {
     "data": {
      "text/latex": [
       "$\\displaystyle \\left[\\begin{matrix}E_{0} & 0 & 0 & 0 & - \\frac{Ωx e^{1.0 i t ω}}{2} & - \\frac{Ωz e^{1.0 i t ω}}{2} & - \\frac{Ωx e^{1.0 i t ω}}{2}\\\\0 & E_{1} & 0 & 0 & - \\frac{Ωz e^{1.0 i t ω}}{2} & - \\frac{Ωx e^{1.0 i t ω}}{2} & 0\\\\0 & 0 & E_{2} & 0 & - \\frac{Ωx e^{1.0 i t ω}}{2} & 0 & - \\frac{Ωx e^{1.0 i t ω}}{2}\\\\0 & 0 & 0 & E_{3} & 0 & - \\frac{Ωx e^{1.0 i t ω}}{2} & - \\frac{Ωz e^{1.0 i t ω}}{2}\\\\- \\frac{e^{- 1.0 i t ω} \\overline{Ωx}}{2} & - \\frac{e^{- 1.0 i t ω} \\overline{Ωz}}{2} & - \\frac{e^{- 1.0 i t ω} \\overline{Ωx}}{2} & 0 & E_{4} & 0 & 0\\\\- \\frac{e^{- 1.0 i t ω} \\overline{Ωz}}{2} & - \\frac{e^{- 1.0 i t ω} \\overline{Ωx}}{2} & 0 & - \\frac{e^{- 1.0 i t ω} \\overline{Ωx}}{2} & 0 & E_{5} & 0\\\\- \\frac{e^{- 1.0 i t ω} \\overline{Ωx}}{2} & 0 & - \\frac{e^{- 1.0 i t ω} \\overline{Ωx}}{2} & - \\frac{e^{- 1.0 i t ω} \\overline{Ωz}}{2} & 0 & 0 & E_{6}\\end{matrix}\\right]$"
      ],
      "text/plain": [
       "Matrix([\n",
       "[                              E0,                                0,                                0,                                0, -Ωx*exp(1.0*I*t*ω)/2, -Ωz*exp(1.0*I*t*ω)/2, -Ωx*exp(1.0*I*t*ω)/2],\n",
       "[                               0,                               E1,                                0,                                0, -Ωz*exp(1.0*I*t*ω)/2, -Ωx*exp(1.0*I*t*ω)/2,                    0],\n",
       "[                               0,                                0,                               E2,                                0, -Ωx*exp(1.0*I*t*ω)/2,                    0, -Ωx*exp(1.0*I*t*ω)/2],\n",
       "[                               0,                                0,                                0,                               E3,                    0, -Ωx*exp(1.0*I*t*ω)/2, -Ωz*exp(1.0*I*t*ω)/2],\n",
       "[-exp(-1.0*I*t*ω)*conjugate(Ωx)/2, -exp(-1.0*I*t*ω)*conjugate(Ωz)/2, -exp(-1.0*I*t*ω)*conjugate(Ωx)/2,                                0,                   E4,                    0,                    0],\n",
       "[-exp(-1.0*I*t*ω)*conjugate(Ωz)/2, -exp(-1.0*I*t*ω)*conjugate(Ωx)/2,                                0, -exp(-1.0*I*t*ω)*conjugate(Ωx)/2,                    0,                   E5,                    0],\n",
       "[-exp(-1.0*I*t*ω)*conjugate(Ωx)/2,                                0, -exp(-1.0*I*t*ω)*conjugate(Ωx)/2, -exp(-1.0*I*t*ω)*conjugate(Ωz)/2,                    0,                    0,                   E6]])"
      ]
     },
     "metadata": {},
     "output_type": "display_data"
    },
    {
     "data": {
      "text/latex": [
       "$\\displaystyle \\left[\\begin{matrix}E_{0} + ω & 0 & 0 & 0 & - \\frac{Ωx}{2} & - \\frac{Ωz}{2} & - \\frac{Ωx}{2}\\\\0 & E_{1} + ω & 0 & 0 & - \\frac{Ωz}{2} & - \\frac{Ωx}{2} & 0\\\\0 & 0 & E_{2} + ω & 0 & - \\frac{Ωx}{2} & 0 & - \\frac{Ωx}{2}\\\\0 & 0 & 0 & E_{3} + ω & 0 & - \\frac{Ωx}{2} & - \\frac{Ωz}{2}\\\\- \\frac{\\overline{Ωx}}{2} & - \\frac{\\overline{Ωz}}{2} & - \\frac{\\overline{Ωx}}{2} & 0 & E_{4} & 0 & 0\\\\- \\frac{\\overline{Ωz}}{2} & - \\frac{\\overline{Ωx}}{2} & 0 & - \\frac{\\overline{Ωx}}{2} & 0 & E_{5} & 0\\\\- \\frac{\\overline{Ωx}}{2} & 0 & - \\frac{\\overline{Ωx}}{2} & - \\frac{\\overline{Ωz}}{2} & 0 & 0 & E_{6}\\end{matrix}\\right]$"
      ],
      "text/plain": [
       "Matrix([\n",
       "[          E0 + ω,                0,                0,                0, -Ωx/2, -Ωz/2, -Ωx/2],\n",
       "[               0,           E1 + ω,                0,                0, -Ωz/2, -Ωx/2,     0],\n",
       "[               0,                0,           E2 + ω,                0, -Ωx/2,     0, -Ωx/2],\n",
       "[               0,                0,                0,           E3 + ω,     0, -Ωx/2, -Ωz/2],\n",
       "[-conjugate(Ωx)/2, -conjugate(Ωz)/2, -conjugate(Ωx)/2,                0,    E4,     0,     0],\n",
       "[-conjugate(Ωz)/2, -conjugate(Ωx)/2,                0, -conjugate(Ωx)/2,     0,    E5,     0],\n",
       "[-conjugate(Ωx)/2,                0, -conjugate(Ωx)/2, -conjugate(Ωz)/2,     0,     0,    E6]])"
      ]
     },
     "metadata": {},
     "output_type": "display_data"
    },
    {
     "data": {
      "text/latex": [
       "$\\displaystyle \\left[\\begin{matrix}- δ & 0 & 0 & 0 & - \\frac{Ωx}{2} & - \\frac{Ωz}{2} & - \\frac{Ωx}{2}\\\\0 & - E_{0} + E_{1} - δ & 0 & 0 & - \\frac{Ωz}{2} & - \\frac{Ωx}{2} & 0\\\\0 & 0 & - E_{0} + E_{2} - δ & 0 & - \\frac{Ωx}{2} & 0 & - \\frac{Ωx}{2}\\\\0 & 0 & 0 & - E_{0} + E_{3} - δ & 0 & - \\frac{Ωx}{2} & - \\frac{Ωz}{2}\\\\- \\frac{\\overline{Ωx}}{2} & - \\frac{\\overline{Ωz}}{2} & - \\frac{\\overline{Ωx}}{2} & 0 & E_{4} - E_{5} & 0 & 0\\\\- \\frac{\\overline{Ωz}}{2} & - \\frac{\\overline{Ωx}}{2} & 0 & - \\frac{\\overline{Ωx}}{2} & 0 & 0 & 0\\\\- \\frac{\\overline{Ωx}}{2} & 0 & - \\frac{\\overline{Ωx}}{2} & - \\frac{\\overline{Ωz}}{2} & 0 & 0 & - E_{5} + E_{6}\\end{matrix}\\right]$"
      ],
      "text/plain": [
       "Matrix([\n",
       "[              -δ,                0,                0,                0,   -Ωx/2, -Ωz/2,    -Ωx/2],\n",
       "[               0,     -E0 + E1 - δ,                0,                0,   -Ωz/2, -Ωx/2,        0],\n",
       "[               0,                0,     -E0 + E2 - δ,                0,   -Ωx/2,     0,    -Ωx/2],\n",
       "[               0,                0,                0,     -E0 + E3 - δ,       0, -Ωx/2,    -Ωz/2],\n",
       "[-conjugate(Ωx)/2, -conjugate(Ωz)/2, -conjugate(Ωx)/2,                0, E4 - E5,     0,        0],\n",
       "[-conjugate(Ωz)/2, -conjugate(Ωx)/2,                0, -conjugate(Ωx)/2,       0,     0,        0],\n",
       "[-conjugate(Ωx)/2,                0, -conjugate(Ωx)/2, -conjugate(Ωz)/2,       0,     0, -E5 + E6]])"
      ]
     },
     "metadata": {},
     "output_type": "display_data"
    }
   ],
   "source": [
    "# 4 ground states, 3 excited states (i.e. F=0, F=1 to F=1 excited)\n",
    "\n",
    "ω = smp.Symbol(\"ω\", real=True)\n",
    "Ωz = smp.Symbol(\"Ωz\", complex=True)\n",
    "Ωx = smp.Symbol(\"Ωx\", complex=True)\n",
    "δ = smp.Symbol(\"δ\", real=True)\n",
    "\n",
    "ham = Hamiltonian(7)\n",
    "\n",
    "# Z polarization\n",
    "ham.add_manifold_coupling(\n",
    "    [0, 1, 3],\n",
    "    [5, 4, 6],\n",
    "    Ωz,\n",
    "    ω,\n",
    ")\n",
    "\n",
    "# X polarization\n",
    "ham.add_manifold_coupling([0, 0, 1, 2, 2, 3], [4, 6, 5, 4, 6, 5], Ωx, ω)\n",
    "\n",
    "display(ham.hamiltonian)\n",
    "\n",
    "ham.eqn_transform()\n",
    "\n",
    "display(ham.transformed)\n",
    "\n",
    "ham.define_state_detuning(0, 5, δ)\n",
    "ham.remove_common_energy()\n",
    "\n",
    "display(ham.transformed)\n"
   ]
  },
  {
   "cell_type": "code",
   "execution_count": 209,
   "metadata": {},
   "outputs": [
    {
     "data": {
      "text/plain": [
       "[[ω, E0, E5, δ, 0, 5]]"
      ]
     },
     "execution_count": 209,
     "metadata": {},
     "output_type": "execute_result"
    }
   ],
   "source": [
    "ham.detunings"
   ]
  },
  {
   "cell_type": "code",
   "execution_count": 210,
   "metadata": {},
   "outputs": [
    {
     "data": {
      "text/latex": [
       "$\\displaystyle \\left[\\begin{matrix}E_{0} + ω & 0 & 0 & 0 & - \\frac{Ωx}{2} & - \\frac{Ωz}{2} & - \\frac{Ωx}{2}\\\\0 & E_{1} + ω & 0 & 0 & - \\frac{Ωz}{2} & - \\frac{Ωx}{2} & 0\\\\0 & 0 & E_{2} + ω & 0 & - \\frac{Ωx}{2} & 0 & - \\frac{Ωx}{2}\\\\0 & 0 & 0 & E_{3} + ω & 0 & - \\frac{Ωx}{2} & - \\frac{Ωz}{2}\\\\- \\frac{\\overline{Ωx}}{2} & - \\frac{\\overline{Ωz}}{2} & - \\frac{\\overline{Ωx}}{2} & 0 & E_{4} & 0 & 0\\\\- \\frac{\\overline{Ωz}}{2} & - \\frac{\\overline{Ωx}}{2} & 0 & - \\frac{\\overline{Ωx}}{2} & 0 & E_{5} & 0\\\\- \\frac{\\overline{Ωx}}{2} & 0 & - \\frac{\\overline{Ωx}}{2} & - \\frac{\\overline{Ωz}}{2} & 0 & 0 & E_{6}\\end{matrix}\\right]$"
      ],
      "text/plain": [
       "Matrix([\n",
       "[          E0 + ω,                0,                0,                0, -Ωx/2, -Ωz/2, -Ωx/2],\n",
       "[               0,           E1 + ω,                0,                0, -Ωz/2, -Ωx/2,     0],\n",
       "[               0,                0,           E2 + ω,                0, -Ωx/2,     0, -Ωx/2],\n",
       "[               0,                0,                0,           E3 + ω,     0, -Ωx/2, -Ωz/2],\n",
       "[-conjugate(Ωx)/2, -conjugate(Ωz)/2, -conjugate(Ωx)/2,                0,    E4,     0,     0],\n",
       "[-conjugate(Ωz)/2, -conjugate(Ωx)/2,                0, -conjugate(Ωx)/2,     0,    E5,     0],\n",
       "[-conjugate(Ωx)/2,                0, -conjugate(Ωx)/2, -conjugate(Ωz)/2,     0,     0,    E6]])"
      ]
     },
     "metadata": {},
     "output_type": "display_data"
    },
    {
     "data": {
      "text/latex": [
       "$\\displaystyle \\left[\\begin{matrix}- δ & 0 & 0 & 0 & - \\frac{Ωx}{2} & - \\frac{Ωz}{2} & - \\frac{Ωx}{2}\\\\0 & - E_{0} + E_{1} - δ & 0 & 0 & - \\frac{Ωz}{2} & - \\frac{Ωx}{2} & 0\\\\0 & 0 & - E_{0} + E_{2} - δ & 0 & - \\frac{Ωx}{2} & 0 & - \\frac{Ωx}{2}\\\\0 & 0 & 0 & - E_{0} + E_{3} - δ & 0 & - \\frac{Ωx}{2} & - \\frac{Ωz}{2}\\\\- \\frac{\\overline{Ωx}}{2} & - \\frac{\\overline{Ωz}}{2} & - \\frac{\\overline{Ωx}}{2} & 0 & E_{4} - E_{5} & 0 & 0\\\\- \\frac{\\overline{Ωz}}{2} & - \\frac{\\overline{Ωx}}{2} & 0 & - \\frac{\\overline{Ωx}}{2} & 0 & 0 & 0\\\\- \\frac{\\overline{Ωx}}{2} & 0 & - \\frac{\\overline{Ωx}}{2} & - \\frac{\\overline{Ωz}}{2} & 0 & 0 & - E_{5} + E_{6}\\end{matrix}\\right]$"
      ],
      "text/plain": [
       "Matrix([\n",
       "[              -δ,                0,                0,                0,   -Ωx/2, -Ωz/2,    -Ωx/2],\n",
       "[               0,     -E0 + E1 - δ,                0,                0,   -Ωz/2, -Ωx/2,        0],\n",
       "[               0,                0,     -E0 + E2 - δ,                0,   -Ωx/2,     0,    -Ωx/2],\n",
       "[               0,                0,                0,     -E0 + E3 - δ,       0, -Ωx/2,    -Ωz/2],\n",
       "[-conjugate(Ωx)/2, -conjugate(Ωz)/2, -conjugate(Ωx)/2,                0, E4 - E5,     0,        0],\n",
       "[-conjugate(Ωz)/2, -conjugate(Ωx)/2,                0, -conjugate(Ωx)/2,       0,     0,        0],\n",
       "[-conjugate(Ωx)/2,                0, -conjugate(Ωx)/2, -conjugate(Ωz)/2,       0,     0, -E5 + E6]])"
      ]
     },
     "metadata": {},
     "output_type": "display_data"
    }
   ],
   "source": [
    "ham.eqn_transform_graph()\n",
    "display(ham.transformed)\n",
    "\n",
    "ham._replace_with_detunings()\n",
    "\n",
    "ham.remove_common_energy()\n",
    "\n",
    "display(ham.transformed)\n"
   ]
  },
  {
   "cell_type": "code",
   "execution_count": 211,
   "metadata": {},
   "outputs": [
    {
     "data": {
      "text/latex": [
       "$\\displaystyle \\left[\\begin{matrix}Γ \\left(ρ_{44}{\\left(t \\right)} + ρ_{55}{\\left(t \\right)} + ρ_{66}{\\left(t \\right)}\\right) & 0 & 0 & 0 & - \\frac{3 Γ ρ_{04}{\\left(t \\right)}}{2} & - \\frac{3 Γ ρ_{05}{\\left(t \\right)}}{2} & - \\frac{3 Γ ρ_{06}{\\left(t \\right)}}{2}\\\\0 & Γ \\left(ρ_{44}{\\left(t \\right)} + ρ_{55}{\\left(t \\right)}\\right) & 0 & 0 & - \\frac{3 Γ ρ_{14}{\\left(t \\right)}}{2} & - \\frac{3 Γ ρ_{15}{\\left(t \\right)}}{2} & - \\frac{3 Γ ρ_{16}{\\left(t \\right)}}{2}\\\\0 & 0 & Γ \\left(ρ_{44}{\\left(t \\right)} + ρ_{66}{\\left(t \\right)}\\right) & 0 & - \\frac{3 Γ ρ_{24}{\\left(t \\right)}}{2} & - \\frac{3 Γ ρ_{25}{\\left(t \\right)}}{2} & - \\frac{3 Γ ρ_{26}{\\left(t \\right)}}{2}\\\\0 & 0 & 0 & Γ \\left(ρ_{55}{\\left(t \\right)} + ρ_{66}{\\left(t \\right)}\\right) & - \\frac{3 Γ ρ_{34}{\\left(t \\right)}}{2} & - \\frac{3 Γ ρ_{35}{\\left(t \\right)}}{2} & - \\frac{3 Γ ρ_{36}{\\left(t \\right)}}{2}\\\\- \\frac{3 Γ \\overline{ρ_{04}{\\left(t \\right)}}}{2} & - \\frac{3 Γ \\overline{ρ_{14}{\\left(t \\right)}}}{2} & - \\frac{3 Γ \\overline{ρ_{24}{\\left(t \\right)}}}{2} & - \\frac{3 Γ \\overline{ρ_{34}{\\left(t \\right)}}}{2} & - 3 Γ ρ_{44}{\\left(t \\right)} & - 3 Γ ρ_{45}{\\left(t \\right)} & - 3 Γ ρ_{46}{\\left(t \\right)}\\\\- \\frac{3 Γ \\overline{ρ_{05}{\\left(t \\right)}}}{2} & - \\frac{3 Γ \\overline{ρ_{15}{\\left(t \\right)}}}{2} & - \\frac{3 Γ \\overline{ρ_{25}{\\left(t \\right)}}}{2} & - \\frac{3 Γ \\overline{ρ_{35}{\\left(t \\right)}}}{2} & - 3 Γ \\overline{ρ_{45}{\\left(t \\right)}} & - 3 Γ ρ_{55}{\\left(t \\right)} & - 3 Γ ρ_{56}{\\left(t \\right)}\\\\- \\frac{3 Γ \\overline{ρ_{06}{\\left(t \\right)}}}{2} & - \\frac{3 Γ \\overline{ρ_{16}{\\left(t \\right)}}}{2} & - \\frac{3 Γ \\overline{ρ_{26}{\\left(t \\right)}}}{2} & - \\frac{3 Γ \\overline{ρ_{36}{\\left(t \\right)}}}{2} & - 3 Γ \\overline{ρ_{46}{\\left(t \\right)}} & - 3 Γ \\overline{ρ_{56}{\\left(t \\right)}} & - 3 Γ ρ_{66}{\\left(t \\right)}\\end{matrix}\\right]$"
      ],
      "text/plain": [
       "Matrix([\n",
       "[Γ*(ρ44(t) + ρ55(t) + ρ66(t)),                        0,                        0,                        0,          -3*Γ*ρ04(t)/2,          -3*Γ*ρ05(t)/2, -3*Γ*ρ06(t)/2],\n",
       "[                           0,      Γ*(ρ44(t) + ρ55(t)),                        0,                        0,          -3*Γ*ρ14(t)/2,          -3*Γ*ρ15(t)/2, -3*Γ*ρ16(t)/2],\n",
       "[                           0,                        0,      Γ*(ρ44(t) + ρ66(t)),                        0,          -3*Γ*ρ24(t)/2,          -3*Γ*ρ25(t)/2, -3*Γ*ρ26(t)/2],\n",
       "[                           0,                        0,                        0,      Γ*(ρ55(t) + ρ66(t)),          -3*Γ*ρ34(t)/2,          -3*Γ*ρ35(t)/2, -3*Γ*ρ36(t)/2],\n",
       "[    -3*Γ*conjugate(ρ04(t))/2, -3*Γ*conjugate(ρ14(t))/2, -3*Γ*conjugate(ρ24(t))/2, -3*Γ*conjugate(ρ34(t))/2,            -3*Γ*ρ44(t),            -3*Γ*ρ45(t),   -3*Γ*ρ46(t)],\n",
       "[    -3*Γ*conjugate(ρ05(t))/2, -3*Γ*conjugate(ρ15(t))/2, -3*Γ*conjugate(ρ25(t))/2, -3*Γ*conjugate(ρ35(t))/2, -3*Γ*conjugate(ρ45(t)),            -3*Γ*ρ55(t),   -3*Γ*ρ56(t)],\n",
       "[    -3*Γ*conjugate(ρ06(t))/2, -3*Γ*conjugate(ρ16(t))/2, -3*Γ*conjugate(ρ26(t))/2, -3*Γ*conjugate(ρ36(t))/2, -3*Γ*conjugate(ρ46(t)), -3*Γ*conjugate(ρ56(t)),   -3*Γ*ρ66(t)]])"
      ]
     },
     "metadata": {},
     "output_type": "display_data"
    }
   ],
   "source": [
    "Γ = smp.Symbol(\"Γ\", real=True)\n",
    "dis = Dissipator(ham.levels)\n",
    "\n",
    "for idi, idf in zip([4, 4, 4, 5, 5, 5, 6, 6, 6], [0, 1, 2, 0, 1, 3, 0, 2, 3]):\n",
    "    dis.add_decay(idi, idf, Γ)\n",
    "\n",
    "display(dis.dissipator)\n"
   ]
  },
  {
   "cell_type": "code",
   "execution_count": 212,
   "metadata": {},
   "outputs": [],
   "source": [
    "E0, E1, E2, E3, E4, E5, E6 = ham.energies\n",
    "replacements = [(E2, E1), (E3, E1), (E4, E2), (E5, E2), (E6, E2)]\n",
    "transformed = ham.transformed.copy()\n",
    "transformed = transformed.subs(replacements)\n"
   ]
  },
  {
   "cell_type": "code",
   "execution_count": 213,
   "metadata": {},
   "outputs": [],
   "source": [
    "bloch = BlochEquations(ham.levels, dis.density_matrix, transformed, dis.dissipator)"
   ]
  },
  {
   "cell_type": "code",
   "execution_count": 214,
   "metadata": {},
   "outputs": [],
   "source": [
    "replacements = [\n",
    "    (Ωx, \"Ω0*resonant_switching(t, ωpol, 0.0)\"),\n",
    "    (Ωz, \"Ω0*resonant_switching(t, ωpol, 3.1415)\"),\n",
    "    (E0, 0),\n",
    "    (E1, 0.1),\n",
    "]\n",
    "\n",
    "code, free_parameters, compound_parameters, fixed_parameters = (\n",
    "    generate_lindblad_function_julia(\n",
    "        bloch.equations.rhs, bloch.density_matrix, replacements\n",
    "    )\n",
    ")\n"
   ]
  },
  {
   "cell_type": "code",
   "execution_count": 215,
   "metadata": {},
   "outputs": [],
   "source": [
    "odepars = OdeParameters(free_parameters, compound_parameters, fixed_parameters)\n",
    "odepars\n",
    "\n",
    "odepars.Ω0 = 1.0\n",
    "odepars.Γ = 1.0\n",
    "odepars.δ = 0.0\n",
    "odepars.ωpol = 0.5\n"
   ]
  },
  {
   "cell_type": "code",
   "execution_count": 216,
   "metadata": {},
   "outputs": [],
   "source": [
    "init_julia(code)"
   ]
  },
  {
   "cell_type": "code",
   "execution_count": 217,
   "metadata": {},
   "outputs": [],
   "source": [
    "ρ = np.zeros(transformed.shape, dtype=complex)\n",
    "for idx in range(4):\n",
    "    ρ[idx, idx] = 1 / 4\n",
    "\n",
    "problem = OBEProblem(odepars, ρ, (0, 150))\n",
    "config = OBEProblemConfig(save_everystep=True)\n"
   ]
  },
  {
   "cell_type": "code",
   "execution_count": 218,
   "metadata": {},
   "outputs": [],
   "source": [
    "sol = setup_solve_problem(problem, config)"
   ]
  },
  {
   "cell_type": "code",
   "execution_count": 219,
   "metadata": {},
   "outputs": [
    {
     "name": "stdout",
     "output_type": "stream",
     "text": [
      "15.55\n"
     ]
    },
    {
     "data": {
      "image/png": "[encoded data removed]",
      "text/plain": [
       "<Figure size 640x480 with 1 Axes>"
      ]
     },
     "metadata": {},
     "output_type": "display_data"
    }
   ],
   "source": [
    "from labellines import labelLines\n",
    "\n",
    "t = sol.t\n",
    "y = np.einsum(\"ijj -> ij\", sol.y).real\n",
    "\n",
    "fig, ax = plt.subplots()\n",
    "ax.plot(t, y, label=np.arange(ham.levels))\n",
    "\n",
    "ax.set_xlabel(\"t\")\n",
    "ax.set_ylabel(\"population\")\n",
    "\n",
    "labelLines(ax.get_lines(), align=False, fontsize=14)\n",
    "\n",
    "ax.grid()\n",
    "\n",
    "print(f\"{np.trapezoid(y[:, -3:].sum(axis=1)):.2f}\")\n"
   ]
  },
  {
   "cell_type": "code",
   "execution_count": 223,
   "metadata": {},
   "outputs": [
    {
     "data": {
      "text/plain": [
       "BenchmarkTools.Trial: 10000 samples with 796 evaluations.\n",
       " Range (min … max):  155.653 ns …  2.292 μs  ┊ GC (min … max): 0.00% … 0.00%\n",
       " Time  (median):     208.794 ns              ┊ GC (median):    0.00%\n",
       " Time  (mean ± σ):   218.237 ns ± 68.412 ns  ┊ GC (mean ± σ):  0.00% ± 0.00%\n",
       "\n",
       "   ▇▄█    ▂ ▃▂  ▂▁ ▃                                            \n",
       "  ▄███▄▂▂▆████▇▄█████▅▄▄▄▃▃▄▄▃▃▃▃▄▄▂▂▁▁▁▁▁▁▁▁▁▁▁▁▁▁▁▁▁▁▁▁▁▁▁▁▁ ▃\n",
       "  156 ns          Histogram: frequency by time          418 ns <\n",
       "\n",
       " Memory estimate: 0 bytes, allocs estimate: 0."
      ]
     },
     "execution_count": 223,
     "metadata": {},
     "output_type": "execute_result"
    }
   ],
   "source": [
    "jl.seval(\"du = similar(ρ)\")\n",
    "jl.seval(\"@benchmark lindblad!(du, ρ, p, 1e-6)\")\n"
   ]
  },
  {
   "cell_type": "code",
   "execution_count": 226,
   "metadata": {},
   "outputs": [
    {
     "data": {
      "text/latex": [
       "$\\displaystyle \\left[\\begin{matrix}- δ & 0 & 0 & 0 & - \\frac{Ωx}{2} & - \\frac{Ωz}{2} & - \\frac{Ωx}{2}\\\\0 & - E_{0} + E_{1} - δ & 0 & 0 & - \\frac{Ωz}{2} & - \\frac{Ωx}{2} & 0\\\\0 & 0 & - E_{0} + E_{1} - δ & 0 & - \\frac{Ωx}{2} & 0 & - \\frac{Ωx}{2}\\\\0 & 0 & 0 & - E_{0} + E_{1} - δ & 0 & - \\frac{Ωx}{2} & - \\frac{Ωz}{2}\\\\- \\frac{\\overline{Ωx}}{2} & - \\frac{\\overline{Ωz}}{2} & - \\frac{\\overline{Ωx}}{2} & 0 & 0 & 0 & 0\\\\- \\frac{\\overline{Ωz}}{2} & - \\frac{\\overline{Ωx}}{2} & 0 & - \\frac{\\overline{Ωx}}{2} & 0 & 0 & 0\\\\- \\frac{\\overline{Ωx}}{2} & 0 & - \\frac{\\overline{Ωx}}{2} & - \\frac{\\overline{Ωz}}{2} & 0 & 0 & 0\\end{matrix}\\right]$"
      ],
      "text/plain": [
       "Matrix([\n",
       "[              -δ,                0,                0,                0, -Ωx/2, -Ωz/2, -Ωx/2],\n",
       "[               0,     -E0 + E1 - δ,                0,                0, -Ωz/2, -Ωx/2,     0],\n",
       "[               0,                0,     -E0 + E1 - δ,                0, -Ωx/2,     0, -Ωx/2],\n",
       "[               0,                0,                0,     -E0 + E1 - δ,     0, -Ωx/2, -Ωz/2],\n",
       "[-conjugate(Ωx)/2, -conjugate(Ωz)/2, -conjugate(Ωx)/2,                0,     0,     0,     0],\n",
       "[-conjugate(Ωz)/2, -conjugate(Ωx)/2,                0, -conjugate(Ωx)/2,     0,     0,     0],\n",
       "[-conjugate(Ωx)/2,                0, -conjugate(Ωx)/2, -conjugate(Ωz)/2,     0,     0,     0]])"
      ]
     },
     "execution_count": 226,
     "metadata": {},
     "output_type": "execute_result"
    }
   ],
   "source": [
    "transformed"
   ]
  },
  {
   "cell_type": "code",
   "execution_count": null,
   "metadata": {},
   "outputs": [],
   "source": [
    "jl.seval(\"@benchmark solve(prob, Tsit5())\")"
   ]
  },
  {
   "cell_type": "code",
   "execution_count": 221,
   "metadata": {},
   "outputs": [
    {
     "data": {
      "text/latex": [
       "$\\displaystyle \\left[\\begin{matrix}- δ & 0 & 0 & 0 & - \\frac{Ωx}{2} & - \\frac{Ωz}{2} & - \\frac{Ωx}{2}\\\\0 & - E_{0} + E_{1} - δ & 0 & 0 & - \\frac{Ωz}{2} & - \\frac{Ωx}{2} & 0\\\\0 & 0 & - E_{0} + E_{2} - δ & 0 & - \\frac{Ωx}{2} & 0 & - \\frac{Ωx}{2}\\\\0 & 0 & 0 & - E_{0} + E_{3} - δ & 0 & - \\frac{Ωx}{2} & - \\frac{Ωz}{2}\\\\- \\frac{\\overline{Ωx}}{2} & - \\frac{\\overline{Ωz}}{2} & - \\frac{\\overline{Ωx}}{2} & 0 & E_{4} - E_{5} & 0 & 0\\\\- \\frac{\\overline{Ωz}}{2} & - \\frac{\\overline{Ωx}}{2} & 0 & - \\frac{\\overline{Ωx}}{2} & 0 & 0 & 0\\\\- \\frac{\\overline{Ωx}}{2} & 0 & - \\frac{\\overline{Ωx}}{2} & - \\frac{\\overline{Ωz}}{2} & 0 & 0 & - E_{5} + E_{6}\\end{matrix}\\right]$"
      ],
      "text/plain": [
       "Matrix([\n",
       "[              -δ,                0,                0,                0,   -Ωx/2, -Ωz/2,    -Ωx/2],\n",
       "[               0,     -E0 + E1 - δ,                0,                0,   -Ωz/2, -Ωx/2,        0],\n",
       "[               0,                0,     -E0 + E2 - δ,                0,   -Ωx/2,     0,    -Ωx/2],\n",
       "[               0,                0,                0,     -E0 + E3 - δ,       0, -Ωx/2,    -Ωz/2],\n",
       "[-conjugate(Ωx)/2, -conjugate(Ωz)/2, -conjugate(Ωx)/2,                0, E4 - E5,     0,        0],\n",
       "[-conjugate(Ωz)/2, -conjugate(Ωx)/2,                0, -conjugate(Ωx)/2,       0,     0,        0],\n",
       "[-conjugate(Ωx)/2,                0, -conjugate(Ωx)/2, -conjugate(Ωz)/2,       0,     0, -E5 + E6]])"
      ]
     },
     "execution_count": 221,
     "metadata": {},
     "output_type": "execute_result"
    }
   ],
   "source": [
    "ham.transformed"
   ]
  },
  {
   "cell_type": "code",
   "execution_count": 240,
   "metadata": {},
   "outputs": [
    {
     "data": {
      "text/latex": [
       "$\\displaystyle \\left[\\begin{matrix}0 & 0 & 0 & 0 & 0 & 0 & 0\\\\0 & - E_{0} + E_{1} & 0 & 0 & 0 & 0 & 0\\\\0 & 0 & - E_{0} + E_{1} & 0 & 0 & 0 & 0\\\\0 & 0 & 0 & - E_{0} + E_{1} & 0 & 0 & 0\\\\0 & 0 & 0 & 0 & 0 & 0 & 0\\\\0 & 0 & 0 & 0 & 0 & 0 & 0\\\\0 & 0 & 0 & 0 & 0 & 0 & 0\\end{matrix}\\right]$"
      ],
      "text/plain": [
       "Matrix([\n",
       "[0,        0,        0,        0, 0, 0, 0],\n",
       "[0, -E0 + E1,        0,        0, 0, 0, 0],\n",
       "[0,        0, -E0 + E1,        0, 0, 0, 0],\n",
       "[0,        0,        0, -E0 + E1, 0, 0, 0],\n",
       "[0,        0,        0,        0, 0, 0, 0],\n",
       "[0,        0,        0,        0, 0, 0, 0],\n",
       "[0,        0,        0,        0, 0, 0, 0]])"
      ]
     },
     "execution_count": 240,
     "metadata": {},
     "output_type": "execute_result"
    }
   ],
   "source": [
    "to_zero = [s for s in list(ham.transformed.free_symbols) if s not in ham.energies]\n",
    "H0 = transformed.copy()\n",
    "for s in to_zero:\n",
    "    H0 = H0.subs(s, 0)\n",
    "H0\n"
   ]
  },
  {
   "cell_type": "code",
   "execution_count": null,
   "metadata": {},
   "outputs": [],
   "source": []
  }
 ],
 "metadata": {
  "kernelspec": {
   "display_name": "optical-bloch-python",
   "language": "python",
   "name": "python3"
  },
  "language_info": {
   "codemirror_mode": {
    "name": "ipython",
    "version": 3
   },
   "file_extension": ".py",
   "mimetype": "text/x-python",
   "name": "python",
   "nbconvert_exporter": "python",
   "pygments_lexer": "ipython3",
   "version": "3.11.9"
  }
 },
 "nbformat": 4,
 "nbformat_minor": 2
}
