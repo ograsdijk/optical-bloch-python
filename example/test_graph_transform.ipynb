{
 "cells": [
  {
   "cell_type": "code",
   "execution_count": 24,
   "metadata": {},
   "outputs": [],
   "source": [
    "import copy\n",
    "from typing import Sequence\n",
    "\n",
    "import numpy as np\n",
    "import sympy as smp\n",
    "import matplotlib.pyplot as plt\n",
    "\n",
    "from optical_bloch.utils.general import flatten\n",
    "from optical_bloch.utils.setup import hamiltonian_setup\n",
    "from optical_bloch import (\n",
    "    Hamiltonian,\n",
    "    Dissipator,\n",
    "    BlochEquations,\n",
    "    generate_code,\n",
    "    generate_lindblad_function_julia,\n",
    ")\n",
    "\n",
    "plt.rcParams.update({\"font.size\": 14})\n"
   ]
  },
  {
   "cell_type": "code",
   "execution_count": 25,
   "metadata": {},
   "outputs": [
    {
     "data": {
      "text/latex": [
       "$\\displaystyle \\left[\\begin{matrix}E_{0} & 0 & 0 & 0 & - \\frac{Ω_{0} e^{1.0 i t ω_{0}}}{2}\\\\0 & E_{1} & 0 & 0 & - \\frac{Ω_{1} e^{1.0 i t ω_{1}}}{2}\\\\0 & 0 & E_{2} & 0 & - \\frac{Ω_{2} e^{1.0 i t ω_{2}}}{2}\\\\0 & 0 & 0 & E_{3} & - \\frac{Ω_{3} e^{1.0 i t ω_{3}}}{2}\\\\- \\frac{e^{- 1.0 i t ω_{0}} \\overline{Ω_{0}}}{2} & - \\frac{e^{- 1.0 i t ω_{1}} \\overline{Ω_{1}}}{2} & - \\frac{e^{- 1.0 i t ω_{2}} \\overline{Ω_{2}}}{2} & - \\frac{e^{- 1.0 i t ω_{3}} \\overline{Ω_{3}}}{2} & E_{4}\\end{matrix}\\right]$"
      ],
      "text/plain": [
       "Matrix([\n",
       "[                               E0,                                 0,                                 0,                                 0, -Ω0*exp(1.0*I*t*ω0)/2],\n",
       "[                                0,                                E1,                                 0,                                 0, -Ω1*exp(1.0*I*t*ω1)/2],\n",
       "[                                0,                                 0,                                E2,                                 0, -Ω2*exp(1.0*I*t*ω2)/2],\n",
       "[                                0,                                 0,                                 0,                                E3, -Ω3*exp(1.0*I*t*ω3)/2],\n",
       "[-exp(-1.0*I*t*ω0)*conjugate(Ω0)/2, -exp(-1.0*I*t*ω1)*conjugate(Ω1)/2, -exp(-1.0*I*t*ω2)*conjugate(Ω2)/2, -exp(-1.0*I*t*ω3)*conjugate(Ω3)/2,                    E4]])"
      ]
     },
     "execution_count": 25,
     "metadata": {},
     "output_type": "execute_result"
    }
   ],
   "source": [
    "ham = hamiltonian_setup(5, [(0, 4), (1, 4), (2, 4), (3, 4)])\n",
    "ham.hamiltonian\n"
   ]
  },
  {
   "cell_type": "code",
   "execution_count": 26,
   "metadata": {},
   "outputs": [],
   "source": [
    "import networkx as nx"
   ]
  },
  {
   "cell_type": "code",
   "execution_count": 27,
   "metadata": {},
   "outputs": [
    {
     "data": {
      "text/plain": [
       "(array([0, 0, 1, 1, 2, 2, 3, 3, 4, 4, 4, 4, 4]),\n",
       " array([0, 4, 1, 4, 2, 4, 3, 4, 0, 1, 2, 3, 4]))"
      ]
     },
     "execution_count": 27,
     "metadata": {},
     "output_type": "execute_result"
    }
   ],
   "source": [
    "np.nonzero(ham.hamiltonian)"
   ]
  },
  {
   "cell_type": "code",
   "execution_count": 28,
   "metadata": {},
   "outputs": [],
   "source": [
    "graph = nx.Graph()\n",
    "graph.add_nodes_from(np.unique(np.nonzero(ham.hamiltonian)))\n",
    "graph.add_edges_from(\n",
    "    [(idg, ide) for idg, ide in zip(*np.nonzero(ham.hamiltonian)) if idg != ide]\n",
    ")\n"
   ]
  },
  {
   "cell_type": "code",
   "execution_count": 29,
   "metadata": {},
   "outputs": [
    {
     "data": {
      "image/png": "[encoded data removed]",
      "text/plain": [
       "<Figure size 640x480 with 1 Axes>"
      ]
     },
     "metadata": {},
     "output_type": "display_data"
    }
   ],
   "source": [
    "fig, ax = plt.subplots()\n",
    "nx.draw(graph)\n"
   ]
  },
  {
   "cell_type": "code",
   "execution_count": 30,
   "metadata": {},
   "outputs": [
    {
     "data": {
      "text/latex": [
       "$\\displaystyle \\left[\\begin{matrix}E_{0} + 1.0 ω_{0} & 0 & 0 & 0 & - \\frac{Ω_{0}}{2}\\\\0 & E_{1} + 1.0 ω_{1} & 0 & 0 & - \\frac{Ω_{1}}{2}\\\\0 & 0 & E_{2} + 1.0 ω_{2} & 0 & - \\frac{Ω_{2}}{2}\\\\0 & 0 & 0 & E_{3} + 1.0 ω_{3} & - \\frac{Ω_{3}}{2}\\\\- \\frac{\\overline{Ω_{0}}}{2} & - \\frac{\\overline{Ω_{1}}}{2} & - \\frac{\\overline{Ω_{2}}}{2} & - \\frac{\\overline{Ω_{3}}}{2} & E_{4}\\end{matrix}\\right]$"
      ],
      "text/plain": [
       "Matrix([\n",
       "[     E0 + 1.0*ω0,                0,                0,                0, -Ω0/2],\n",
       "[               0,      E1 + 1.0*ω1,                0,                0, -Ω1/2],\n",
       "[               0,                0,      E2 + 1.0*ω2,                0, -Ω2/2],\n",
       "[               0,                0,                0,      E3 + 1.0*ω3, -Ω3/2],\n",
       "[-conjugate(Ω0)/2, -conjugate(Ω1)/2, -conjugate(Ω2)/2, -conjugate(Ω3)/2,    E4]])"
      ]
     },
     "execution_count": 30,
     "metadata": {},
     "output_type": "execute_result"
    }
   ],
   "source": [
    "t = smp.Symbol(\"t\", real=True)\n",
    "T = smp.eye(ham.levels)\n",
    "\n",
    "for idx in range(ham.levels):\n",
    "    shortest_path = nx.algorithms.shortest_path(\n",
    "        graph, source=idx, target=4, weight=\"weight\"\n",
    "    )\n",
    "    phase = 0\n",
    "    for j in range(len(shortest_path) - 1):\n",
    "        start, stop = shortest_path[j : j + 2]\n",
    "        if ham.couplings[start, stop] != 0:\n",
    "            phase += ham.couplings[start, stop]\n",
    "        else:\n",
    "            phase -= ham.couplings[stop, start]\n",
    "    T[idx, idx] = T[idx, idx] * smp.exp(1j * phase * t)\n",
    "\n",
    "transformed = T.adjoint() @ ham.hamiltonian @ T - 1j * T.adjoint() @ smp.diff(T, t)\n",
    "\n",
    "smp.simplify(transformed)\n"
   ]
  },
  {
   "cell_type": "code",
   "execution_count": 31,
   "metadata": {},
   "outputs": [
    {
     "data": {
      "text/plain": [
       "{(0, 4): ω0, (1, 4): ω1, (2, 4): ω2, (3, 4): ω3}"
      ]
     },
     "execution_count": 31,
     "metadata": {},
     "output_type": "execute_result"
    }
   ],
   "source": [
    "ham.couplings"
   ]
  },
  {
   "cell_type": "code",
   "execution_count": 40,
   "metadata": {},
   "outputs": [],
   "source": [
    "ham = Hamiltonian(levels=5)\n",
    "for idc, coupling in enumerate([(0, 4), (1, 4), (2, 4), (3, 4), (1, 2), (2, 3)]):\n",
    "    rabi = smp.Symbol(f\"Ω{idc}\", complex=True)\n",
    "    omega = smp.Symbol(f\"ω{idc}\", real=True)\n",
    "    ham.add_coupling(*coupling, rabi, omega)\n"
   ]
  },
  {
   "cell_type": "code",
   "execution_count": 41,
   "metadata": {},
   "outputs": [
    {
     "data": {
      "text/latex": [
       "$\\displaystyle \\left[\\begin{matrix}E_{0} & 0 & 0 & 0 & - \\frac{Ω_{0} e^{1.0 i t ω_{0}}}{2}\\\\0 & E_{1} & - \\frac{Ω_{4} e^{1.0 i t ω_{4}}}{2} & 0 & - \\frac{Ω_{1} e^{1.0 i t ω_{1}}}{2}\\\\0 & - \\frac{e^{- 1.0 i t ω_{4}} \\overline{Ω_{4}}}{2} & E_{2} & - \\frac{Ω_{5} e^{1.0 i t ω_{5}}}{2} & - \\frac{Ω_{2} e^{1.0 i t ω_{2}}}{2}\\\\0 & 0 & - \\frac{e^{- 1.0 i t ω_{5}} \\overline{Ω_{5}}}{2} & E_{3} & - \\frac{Ω_{3} e^{1.0 i t ω_{3}}}{2}\\\\- \\frac{e^{- 1.0 i t ω_{0}} \\overline{Ω_{0}}}{2} & - \\frac{e^{- 1.0 i t ω_{1}} \\overline{Ω_{1}}}{2} & - \\frac{e^{- 1.0 i t ω_{2}} \\overline{Ω_{2}}}{2} & - \\frac{e^{- 1.0 i t ω_{3}} \\overline{Ω_{3}}}{2} & E_{4}\\end{matrix}\\right]$"
      ],
      "text/plain": [
       "Matrix([\n",
       "[                               E0,                                 0,                                 0,                                 0, -Ω0*exp(1.0*I*t*ω0)/2],\n",
       "[                                0,                                E1,             -Ω4*exp(1.0*I*t*ω4)/2,                                 0, -Ω1*exp(1.0*I*t*ω1)/2],\n",
       "[                                0, -exp(-1.0*I*t*ω4)*conjugate(Ω4)/2,                                E2,             -Ω5*exp(1.0*I*t*ω5)/2, -Ω2*exp(1.0*I*t*ω2)/2],\n",
       "[                                0,                                 0, -exp(-1.0*I*t*ω5)*conjugate(Ω5)/2,                                E3, -Ω3*exp(1.0*I*t*ω3)/2],\n",
       "[-exp(-1.0*I*t*ω0)*conjugate(Ω0)/2, -exp(-1.0*I*t*ω1)*conjugate(Ω1)/2, -exp(-1.0*I*t*ω2)*conjugate(Ω2)/2, -exp(-1.0*I*t*ω3)*conjugate(Ω3)/2,                    E4]])"
      ]
     },
     "execution_count": 41,
     "metadata": {},
     "output_type": "execute_result"
    }
   ],
   "source": [
    "ham.hamiltonian"
   ]
  },
  {
   "cell_type": "code",
   "execution_count": 42,
   "metadata": {},
   "outputs": [],
   "source": [
    "graph = nx.Graph()\n",
    "graph.add_nodes_from(np.unique(np.nonzero(ham.hamiltonian)))\n",
    "graph.add_edges_from(\n",
    "    [(idg, ide) for idg, ide in zip(*np.nonzero(ham.hamiltonian)) if idg != ide]\n",
    ")\n"
   ]
  },
  {
   "cell_type": "code",
   "execution_count": 43,
   "metadata": {},
   "outputs": [
    {
     "data": {
      "image/png": "[encoded data removed]",
      "text/plain": [
       "<Figure size 640x480 with 1 Axes>"
      ]
     },
     "metadata": {},
     "output_type": "display_data"
    }
   ],
   "source": [
    "fig, ax = plt.subplots()\n",
    "nx.draw(graph)\n"
   ]
  },
  {
   "cell_type": "code",
   "execution_count": 44,
   "metadata": {},
   "outputs": [
    {
     "data": {
      "text/latex": [
       "$\\displaystyle \\left[\\begin{matrix}E_{0} + ω_{0} & 0 & 0 & 0 & - \\frac{Ω_{0}}{2}\\\\0 & E_{1} + ω_{1} & - \\frac{Ω_{4} e^{i t \\left(- ω_{1} + ω_{2} + ω_{4}\\right)}}{2} & 0 & - \\frac{Ω_{1}}{2}\\\\0 & - \\frac{e^{- i t \\left(- ω_{1} + ω_{2} + ω_{4}\\right)} \\overline{Ω_{4}}}{2} & E_{2} + ω_{2} & - \\frac{Ω_{5} e^{i t \\left(- ω_{2} + ω_{3} + ω_{5}\\right)}}{2} & - \\frac{Ω_{2}}{2}\\\\0 & 0 & - \\frac{e^{- i t \\left(- ω_{2} + ω_{3} + ω_{5}\\right)} \\overline{Ω_{5}}}{2} & E_{3} + ω_{3} & - \\frac{Ω_{3}}{2}\\\\- \\frac{\\overline{Ω_{0}}}{2} & - \\frac{\\overline{Ω_{1}}}{2} & - \\frac{\\overline{Ω_{2}}}{2} & - \\frac{\\overline{Ω_{3}}}{2} & E_{4}\\end{matrix}\\right]$"
      ],
      "text/plain": [
       "Matrix([\n",
       "[         E0 + ω0,                                          0,                                          0,                              0, -Ω0/2],\n",
       "[               0,                                    E1 + ω1,             -Ω4*exp(I*t*(-ω1 + ω2 + ω4))/2,                              0, -Ω1/2],\n",
       "[               0, -exp(-I*t*(-ω1 + ω2 + ω4))*conjugate(Ω4)/2,                                    E2 + ω2, -Ω5*exp(I*t*(-ω2 + ω3 + ω5))/2, -Ω2/2],\n",
       "[               0,                                          0, -exp(-I*t*(-ω2 + ω3 + ω5))*conjugate(Ω5)/2,                        E3 + ω3, -Ω3/2],\n",
       "[-conjugate(Ω0)/2,                           -conjugate(Ω1)/2,                           -conjugate(Ω2)/2,               -conjugate(Ω3)/2,    E4]])"
      ]
     },
     "execution_count": 44,
     "metadata": {},
     "output_type": "execute_result"
    }
   ],
   "source": [
    "t = smp.Symbol(\"t\", real=True)\n",
    "T = smp.eye(ham.levels)\n",
    "\n",
    "for idx in range(ham.levels):\n",
    "    shortest_path = nx.algorithms.shortest_path(\n",
    "        graph, source=idx, target=4, weight=\"weight\"\n",
    "    )\n",
    "    phase = 0\n",
    "    for j in range(len(shortest_path) - 1):\n",
    "        start, stop = shortest_path[j : j + 2]\n",
    "        if ham.couplings[start, stop] != 0:\n",
    "            phase += ham.couplings[start, stop]\n",
    "        else:\n",
    "            phase -= ham.couplings[stop, start]\n",
    "    T[idx, idx] = T[idx, idx] * smp.exp(1j * phase * t)\n",
    "\n",
    "transformed = T.adjoint() @ ham.hamiltonian @ T - 1j * T.adjoint() @ smp.diff(T, t)\n",
    "transformed = smp.simplify(transformed)\n",
    "ham.transformed = transformed\n",
    "smp.nsimplify(ham.transformed)\n"
   ]
  },
  {
   "cell_type": "code",
   "execution_count": 45,
   "metadata": {},
   "outputs": [
    {
     "data": {
      "text/latex": [
       "$\\displaystyle \\left[\\begin{matrix}1.0 E_{4} - 1.0 δ_{0} & 0 & 0 & 0 & - \\frac{Ω_{0}}{2}\\\\0 & 1.0 E_{4} - 1.0 δ_{1} & - \\frac{Ω_{4} e^{1.0 i t \\left(δ_{1} - δ_{2} - δ_{4}\\right)}}{2} & 0 & - \\frac{Ω_{1}}{2}\\\\0 & - \\frac{e^{- 1.0 i t \\left(δ_{1} - δ_{2} - δ_{4}\\right)} \\overline{Ω_{4}}}{2} & 1.0 E_{4} - 1.0 δ_{2} & - \\frac{Ω_{5} e^{1.0 i t \\left(δ_{2} - δ_{3} - δ_{5}\\right)}}{2} & - \\frac{Ω_{2}}{2}\\\\0 & 0 & - \\frac{e^{- 1.0 i t \\left(δ_{2} - δ_{3} - δ_{5}\\right)} \\overline{Ω_{5}}}{2} & 1.0 E_{4} - 1.0 δ_{3} & - \\frac{Ω_{3}}{2}\\\\- \\frac{\\overline{Ω_{0}}}{2} & - \\frac{\\overline{Ω_{1}}}{2} & - \\frac{\\overline{Ω_{2}}}{2} & - \\frac{\\overline{Ω_{3}}}{2} & E_{4}\\end{matrix}\\right]$"
      ],
      "text/plain": [
       "Matrix([\n",
       "[ 1.0*E4 - 1.0*δ0,                                             0,                                             0,                                 0, -Ω0/2],\n",
       "[               0,                               1.0*E4 - 1.0*δ1,             -Ω4*exp(1.0*I*t*(δ1 - δ2 - δ4))/2,                                 0, -Ω1/2],\n",
       "[               0, -exp(-1.0*I*t*(δ1 - δ2 - δ4))*conjugate(Ω4)/2,                               1.0*E4 - 1.0*δ2, -Ω5*exp(1.0*I*t*(δ2 - δ3 - δ5))/2, -Ω2/2],\n",
       "[               0,                                             0, -exp(-1.0*I*t*(δ2 - δ3 - δ5))*conjugate(Ω5)/2,                   1.0*E4 - 1.0*δ3, -Ω3/2],\n",
       "[-conjugate(Ω0)/2,                              -conjugate(Ω1)/2,                              -conjugate(Ω2)/2,                  -conjugate(Ω3)/2,    E4]])"
      ]
     },
     "execution_count": 45,
     "metadata": {},
     "output_type": "execute_result"
    }
   ],
   "source": [
    "ham.setup_detunings()\n",
    "ham.transformed\n"
   ]
  },
  {
   "cell_type": "code",
   "execution_count": 46,
   "metadata": {},
   "outputs": [
    {
     "data": {
      "text/latex": [
       "$\\displaystyle \\left[\\begin{matrix}- δ_{0} & 0 & 0 & 0 & - \\frac{Ω_{0}}{2}\\\\0 & - δ_{1} & - \\frac{Ω_{4} e^{i t \\left(δ_{1} - δ_{2} - δ_{4}\\right)}}{2} & 0 & - \\frac{Ω_{1}}{2}\\\\0 & - \\frac{e^{- i t \\left(δ_{1} - δ_{2} - δ_{4}\\right)} \\overline{Ω_{4}}}{2} & - δ_{2} & - \\frac{Ω_{5} e^{i t \\left(δ_{2} - δ_{3} - δ_{5}\\right)}}{2} & - \\frac{Ω_{2}}{2}\\\\0 & 0 & - \\frac{e^{- i t \\left(δ_{2} - δ_{3} - δ_{5}\\right)} \\overline{Ω_{5}}}{2} & - δ_{3} & - \\frac{Ω_{3}}{2}\\\\- \\frac{\\overline{Ω_{0}}}{2} & - \\frac{\\overline{Ω_{1}}}{2} & - \\frac{\\overline{Ω_{2}}}{2} & - \\frac{\\overline{Ω_{3}}}{2} & 0\\end{matrix}\\right]$"
      ],
      "text/plain": [
       "Matrix([\n",
       "[             -δ0,                                         0,                                         0,                             0, -Ω0/2],\n",
       "[               0,                                       -δ1,             -Ω4*exp(I*t*(δ1 - δ2 - δ4))/2,                             0, -Ω1/2],\n",
       "[               0, -exp(-I*t*(δ1 - δ2 - δ4))*conjugate(Ω4)/2,                                       -δ2, -Ω5*exp(I*t*(δ2 - δ3 - δ5))/2, -Ω2/2],\n",
       "[               0,                                         0, -exp(-I*t*(δ2 - δ3 - δ5))*conjugate(Ω5)/2,                           -δ3, -Ω3/2],\n",
       "[-conjugate(Ω0)/2,                          -conjugate(Ω1)/2,                          -conjugate(Ω2)/2,              -conjugate(Ω3)/2,     0]])"
      ]
     },
     "execution_count": 46,
     "metadata": {},
     "output_type": "execute_result"
    }
   ],
   "source": [
    "ham.remove_common_energy()\n",
    "ham.transformed = smp.nsimplify(ham.transformed)\n",
    "ham.transformed\n"
   ]
  },
  {
   "cell_type": "code",
   "execution_count": null,
   "metadata": {},
   "outputs": [],
   "source": []
  }
 ],
 "metadata": {
  "kernelspec": {
   "display_name": "optical-bloch-python",
   "language": "python",
   "name": "python3"
  },
  "language_info": {
   "codemirror_mode": {
    "name": "ipython",
    "version": 3
   },
   "file_extension": ".py",
   "mimetype": "text/x-python",
   "name": "python",
   "nbconvert_exporter": "python",
   "pygments_lexer": "ipython3",
   "version": "3.11.9"
  }
 },
 "nbformat": 4,
 "nbformat_minor": 2
}
